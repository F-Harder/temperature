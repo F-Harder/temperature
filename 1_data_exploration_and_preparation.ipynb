{
 "cells": [
  {
   "cell_type": "code",
   "execution_count": 1,
   "metadata": {},
   "outputs": [],
   "source": [
    "import pandas as pd\n",
    "from matplotlib import pyplot as plt\n",
    "import numpy as np\n",
    "import seaborn as sns\n",
    "import math\n",
    "from statsmodels.graphics.tsaplots import plot_acf, plot_pacf"
   ]
  },
  {
   "cell_type": "code",
   "execution_count": 2,
   "metadata": {},
   "outputs": [
    {
     "name": "stderr",
     "output_type": "stream",
     "text": [
      "C:\\Users\\Affetheking\\anaconda3\\lib\\site-packages\\ipykernel_launcher.py:1: ParserWarning: Falling back to the 'python' engine because the 'c' engine does not support skipfooter; you can avoid this warning by specifying engine='python'.\n",
      "  \"\"\"Entry point for launching an IPython kernel.\n"
     ]
    }
   ],
   "source": [
    "df = pd.read_csv('../data/TG_STAID002759.txt', sep=',', comment='%', skiprows=18, skipfooter=10)"
   ]
  },
  {
   "cell_type": "code",
   "execution_count": 3,
   "metadata": {},
   "outputs": [
    {
     "data": {
      "text/html": [
       "<div>\n",
       "<style scoped>\n",
       "    .dataframe tbody tr th:only-of-type {\n",
       "        vertical-align: middle;\n",
       "    }\n",
       "\n",
       "    .dataframe tbody tr th {\n",
       "        vertical-align: top;\n",
       "    }\n",
       "\n",
       "    .dataframe thead th {\n",
       "        text-align: right;\n",
       "    }\n",
       "</style>\n",
       "<table border=\"1\" class=\"dataframe\">\n",
       "  <thead>\n",
       "    <tr style=\"text-align: right;\">\n",
       "      <th></th>\n",
       "      <th>SOUID</th>\n",
       "      <th>DATE</th>\n",
       "      <th>TG</th>\n",
       "      <th>Q_TG</th>\n",
       "    </tr>\n",
       "  </thead>\n",
       "  <tbody>\n",
       "    <tr>\n",
       "      <th>0</th>\n",
       "      <td>127488</td>\n",
       "      <td>18760101</td>\n",
       "      <td>22</td>\n",
       "      <td>0</td>\n",
       "    </tr>\n",
       "    <tr>\n",
       "      <th>1</th>\n",
       "      <td>127488</td>\n",
       "      <td>18760102</td>\n",
       "      <td>25</td>\n",
       "      <td>0</td>\n",
       "    </tr>\n",
       "    <tr>\n",
       "      <th>2</th>\n",
       "      <td>127488</td>\n",
       "      <td>18760103</td>\n",
       "      <td>3</td>\n",
       "      <td>0</td>\n",
       "    </tr>\n",
       "    <tr>\n",
       "      <th>3</th>\n",
       "      <td>127488</td>\n",
       "      <td>18760104</td>\n",
       "      <td>-58</td>\n",
       "      <td>0</td>\n",
       "    </tr>\n",
       "    <tr>\n",
       "      <th>4</th>\n",
       "      <td>127488</td>\n",
       "      <td>18760105</td>\n",
       "      <td>-98</td>\n",
       "      <td>0</td>\n",
       "    </tr>\n",
       "    <tr>\n",
       "      <th>...</th>\n",
       "      <td>...</td>\n",
       "      <td>...</td>\n",
       "      <td>...</td>\n",
       "      <td>...</td>\n",
       "    </tr>\n",
       "    <tr>\n",
       "      <th>52854</th>\n",
       "      <td>111448</td>\n",
       "      <td>20200916</td>\n",
       "      <td>221</td>\n",
       "      <td>0</td>\n",
       "    </tr>\n",
       "    <tr>\n",
       "      <th>52855</th>\n",
       "      <td>111448</td>\n",
       "      <td>20200917</td>\n",
       "      <td>146</td>\n",
       "      <td>0</td>\n",
       "    </tr>\n",
       "    <tr>\n",
       "      <th>52856</th>\n",
       "      <td>111448</td>\n",
       "      <td>20200918</td>\n",
       "      <td>130</td>\n",
       "      <td>0</td>\n",
       "    </tr>\n",
       "    <tr>\n",
       "      <th>52857</th>\n",
       "      <td>111448</td>\n",
       "      <td>20200919</td>\n",
       "      <td>144</td>\n",
       "      <td>0</td>\n",
       "    </tr>\n",
       "    <tr>\n",
       "      <th>52858</th>\n",
       "      <td>111448</td>\n",
       "      <td>20200920</td>\n",
       "      <td>159</td>\n",
       "      <td>0</td>\n",
       "    </tr>\n",
       "  </tbody>\n",
       "</table>\n",
       "<p>52859 rows × 4 columns</p>\n",
       "</div>"
      ],
      "text/plain": [
       "        SOUID      DATE     TG   Q_TG\n",
       "0      127488  18760101     22      0\n",
       "1      127488  18760102     25      0\n",
       "2      127488  18760103      3      0\n",
       "3      127488  18760104    -58      0\n",
       "4      127488  18760105    -98      0\n",
       "...       ...       ...    ...    ...\n",
       "52854  111448  20200916    221      0\n",
       "52855  111448  20200917    146      0\n",
       "52856  111448  20200918    130      0\n",
       "52857  111448  20200919    144      0\n",
       "52858  111448  20200920    159      0\n",
       "\n",
       "[52859 rows x 4 columns]"
      ]
     },
     "execution_count": 3,
     "metadata": {},
     "output_type": "execute_result"
    }
   ],
   "source": [
    "df"
   ]
  },
  {
   "cell_type": "code",
   "execution_count": 4,
   "metadata": {},
   "outputs": [],
   "source": [
    "df.columns = [\"SOUID\", \"DATE\", \"TG\", \"Q_TG\"]"
   ]
  },
  {
   "cell_type": "code",
   "execution_count": 5,
   "metadata": {},
   "outputs": [
    {
     "data": {
      "text/plain": [
       "SOUID      0\n",
       "DATE       0\n",
       "TG       195\n",
       "Q_TG       0\n",
       "dtype: int64"
      ]
     },
     "execution_count": 5,
     "metadata": {},
     "output_type": "execute_result"
    }
   ],
   "source": [
    "df.isin([-9999]).sum()"
   ]
  },
  {
   "cell_type": "code",
   "execution_count": 6,
   "metadata": {},
   "outputs": [],
   "source": [
    "df['DATE'] = pd.to_datetime(df['DATE'], format='%Y%m%d')\n",
    "df['month'] = df['DATE'].dt.month\n",
    "df['year'] = df['DATE'].dt.year\n",
    "df['day'] = df['DATE'].dt.day"
   ]
  },
  {
   "cell_type": "code",
   "execution_count": 7,
   "metadata": {},
   "outputs": [
    {
     "data": {
      "text/html": [
       "<div>\n",
       "<style scoped>\n",
       "    .dataframe tbody tr th:only-of-type {\n",
       "        vertical-align: middle;\n",
       "    }\n",
       "\n",
       "    .dataframe tbody tr th {\n",
       "        vertical-align: top;\n",
       "    }\n",
       "\n",
       "    .dataframe thead th {\n",
       "        text-align: right;\n",
       "    }\n",
       "</style>\n",
       "<table border=\"1\" class=\"dataframe\">\n",
       "  <thead>\n",
       "    <tr style=\"text-align: right;\">\n",
       "      <th></th>\n",
       "      <th>SOUID</th>\n",
       "      <th>DATE</th>\n",
       "      <th>TG</th>\n",
       "      <th>Q_TG</th>\n",
       "      <th>month</th>\n",
       "      <th>year</th>\n",
       "      <th>day</th>\n",
       "    </tr>\n",
       "  </thead>\n",
       "  <tbody>\n",
       "    <tr>\n",
       "      <th>25316</th>\n",
       "      <td>127488</td>\n",
       "      <td>1945-04-25</td>\n",
       "      <td>-9999</td>\n",
       "      <td>9</td>\n",
       "      <td>4</td>\n",
       "      <td>1945</td>\n",
       "      <td>25</td>\n",
       "    </tr>\n",
       "    <tr>\n",
       "      <th>25317</th>\n",
       "      <td>127488</td>\n",
       "      <td>1945-04-26</td>\n",
       "      <td>-9999</td>\n",
       "      <td>9</td>\n",
       "      <td>4</td>\n",
       "      <td>1945</td>\n",
       "      <td>26</td>\n",
       "    </tr>\n",
       "    <tr>\n",
       "      <th>25318</th>\n",
       "      <td>127488</td>\n",
       "      <td>1945-04-27</td>\n",
       "      <td>-9999</td>\n",
       "      <td>9</td>\n",
       "      <td>4</td>\n",
       "      <td>1945</td>\n",
       "      <td>27</td>\n",
       "    </tr>\n",
       "    <tr>\n",
       "      <th>25319</th>\n",
       "      <td>127488</td>\n",
       "      <td>1945-04-28</td>\n",
       "      <td>-9999</td>\n",
       "      <td>9</td>\n",
       "      <td>4</td>\n",
       "      <td>1945</td>\n",
       "      <td>28</td>\n",
       "    </tr>\n",
       "    <tr>\n",
       "      <th>25320</th>\n",
       "      <td>127488</td>\n",
       "      <td>1945-04-29</td>\n",
       "      <td>-9999</td>\n",
       "      <td>9</td>\n",
       "      <td>4</td>\n",
       "      <td>1945</td>\n",
       "      <td>29</td>\n",
       "    </tr>\n",
       "    <tr>\n",
       "      <th>...</th>\n",
       "      <td>...</td>\n",
       "      <td>...</td>\n",
       "      <td>...</td>\n",
       "      <td>...</td>\n",
       "      <td>...</td>\n",
       "      <td>...</td>\n",
       "      <td>...</td>\n",
       "    </tr>\n",
       "    <tr>\n",
       "      <th>25506</th>\n",
       "      <td>127488</td>\n",
       "      <td>1945-11-01</td>\n",
       "      <td>-9999</td>\n",
       "      <td>9</td>\n",
       "      <td>11</td>\n",
       "      <td>1945</td>\n",
       "      <td>1</td>\n",
       "    </tr>\n",
       "    <tr>\n",
       "      <th>25507</th>\n",
       "      <td>127488</td>\n",
       "      <td>1945-11-02</td>\n",
       "      <td>-9999</td>\n",
       "      <td>9</td>\n",
       "      <td>11</td>\n",
       "      <td>1945</td>\n",
       "      <td>2</td>\n",
       "    </tr>\n",
       "    <tr>\n",
       "      <th>25508</th>\n",
       "      <td>127488</td>\n",
       "      <td>1945-11-03</td>\n",
       "      <td>-9999</td>\n",
       "      <td>9</td>\n",
       "      <td>11</td>\n",
       "      <td>1945</td>\n",
       "      <td>3</td>\n",
       "    </tr>\n",
       "    <tr>\n",
       "      <th>25509</th>\n",
       "      <td>127488</td>\n",
       "      <td>1945-11-04</td>\n",
       "      <td>-9999</td>\n",
       "      <td>9</td>\n",
       "      <td>11</td>\n",
       "      <td>1945</td>\n",
       "      <td>4</td>\n",
       "    </tr>\n",
       "    <tr>\n",
       "      <th>25510</th>\n",
       "      <td>127488</td>\n",
       "      <td>1945-11-05</td>\n",
       "      <td>-9999</td>\n",
       "      <td>9</td>\n",
       "      <td>11</td>\n",
       "      <td>1945</td>\n",
       "      <td>5</td>\n",
       "    </tr>\n",
       "  </tbody>\n",
       "</table>\n",
       "<p>195 rows × 7 columns</p>\n",
       "</div>"
      ],
      "text/plain": [
       "        SOUID       DATE    TG  Q_TG  month  year  day\n",
       "25316  127488 1945-04-25 -9999     9      4  1945   25\n",
       "25317  127488 1945-04-26 -9999     9      4  1945   26\n",
       "25318  127488 1945-04-27 -9999     9      4  1945   27\n",
       "25319  127488 1945-04-28 -9999     9      4  1945   28\n",
       "25320  127488 1945-04-29 -9999     9      4  1945   29\n",
       "...       ...        ...   ...   ...    ...   ...  ...\n",
       "25506  127488 1945-11-01 -9999     9     11  1945    1\n",
       "25507  127488 1945-11-02 -9999     9     11  1945    2\n",
       "25508  127488 1945-11-03 -9999     9     11  1945    3\n",
       "25509  127488 1945-11-04 -9999     9     11  1945    4\n",
       "25510  127488 1945-11-05 -9999     9     11  1945    5\n",
       "\n",
       "[195 rows x 7 columns]"
      ]
     },
     "execution_count": 7,
     "metadata": {},
     "output_type": "execute_result"
    }
   ],
   "source": [
    "df.loc[df['TG'] == -9999]"
   ]
  },
  {
   "cell_type": "code",
   "execution_count": 8,
   "metadata": {},
   "outputs": [],
   "source": [
    "may_39_50 = ((df.loc[((1939 <= df['year']) & (df['year'] <= 1944)) & (df['month'] == 5)]['TG'].mean()) + \\\n",
    "(df.loc[((1946 <= df['year']) & (df['year'] <= 1950)) & (df['month'] == 5)]['TG'].mean())) / 2"
   ]
  },
  {
   "cell_type": "code",
   "execution_count": 9,
   "metadata": {},
   "outputs": [],
   "source": [
    "june_39_50 = ((df.loc[((1939 <= df['year']) & (df['year'] <= 1944)) & (df['month'] == 6)]['TG'].mean()) + \\\n",
    "(df.loc[((1946 <= df['year']) & (df['year'] <= 1950)) & (df['month'] == 6)]['TG'].mean())) / 2"
   ]
  },
  {
   "cell_type": "code",
   "execution_count": 10,
   "metadata": {},
   "outputs": [],
   "source": [
    "july_39_50 = ((df.loc[((1939 <= df['year']) & (df['year'] <= 1944)) & (df['month'] == 7)]['TG'].mean()) + \\\n",
    "(df.loc[((1946 <= df['year']) & (df['year'] <= 1950)) & (df['month'] == 7)]['TG'].mean())) / 2"
   ]
  },
  {
   "cell_type": "code",
   "execution_count": 11,
   "metadata": {},
   "outputs": [],
   "source": [
    "august_39_50 = ((df.loc[((1939 <= df['year']) & (df['year'] <= 1944)) & (df['month'] == 8)]['TG'].mean()) + \\\n",
    "(df.loc[((1946 <= df['year']) & (df['year'] <= 1950)) & (df['month'] == 8)]['TG'].mean())) / 2"
   ]
  },
  {
   "cell_type": "code",
   "execution_count": 12,
   "metadata": {},
   "outputs": [],
   "source": [
    "september_39_50 = ((df.loc[((1939 <= df['year']) & (df['year'] <= 1944)) & (df['month'] == 9)]['TG'].mean()) + \\\n",
    "(df.loc[((1946 <= df['year']) & (df['year'] <= 1950)) & (df['month'] == 9)]['TG'].mean())) / 2"
   ]
  },
  {
   "cell_type": "code",
   "execution_count": 13,
   "metadata": {},
   "outputs": [],
   "source": [
    "october_39_50 = ((df.loc[((1939 <= df['year']) & (df['year'] <= 1944)) & (df['month'] == 10)]['TG'].mean()) + \\\n",
    "(df.loc[((1946 <= df['year']) & (df['year'] <= 1950)) & (df['month'] == 10)]['TG'].mean())) / 2"
   ]
  },
  {
   "cell_type": "code",
   "execution_count": 14,
   "metadata": {},
   "outputs": [],
   "source": [
    "df.loc[(df['year'] == 1945) & (df['month'] == 5), 'TG'] = may_39_50"
   ]
  },
  {
   "cell_type": "code",
   "execution_count": 15,
   "metadata": {},
   "outputs": [],
   "source": [
    "df.loc[(df['year'] == 1945) & (df['month'] == 6), 'TG'] = june_39_50"
   ]
  },
  {
   "cell_type": "code",
   "execution_count": 16,
   "metadata": {},
   "outputs": [],
   "source": [
    "df.loc[(df['year'] == 1945) & (df['month'] == 7), 'TG'] = july_39_50"
   ]
  },
  {
   "cell_type": "code",
   "execution_count": 17,
   "metadata": {},
   "outputs": [],
   "source": [
    "df.loc[(df['year'] == 1945) & (df['month'] == 8), 'TG'] = august_39_50"
   ]
  },
  {
   "cell_type": "code",
   "execution_count": 18,
   "metadata": {},
   "outputs": [],
   "source": [
    "df.loc[(df['year'] == 1945) & (df['month'] == 9), 'TG'] = september_39_50"
   ]
  },
  {
   "cell_type": "code",
   "execution_count": 19,
   "metadata": {},
   "outputs": [],
   "source": [
    "df.loc[(df['year'] == 1945) & (df['month'] == 10), 'TG'] = october_39_50"
   ]
  },
  {
   "cell_type": "code",
   "execution_count": 20,
   "metadata": {},
   "outputs": [],
   "source": [
    "df = df.where(df!=-9999, np.nan)"
   ]
  },
  {
   "cell_type": "code",
   "execution_count": 21,
   "metadata": {},
   "outputs": [],
   "source": [
    "df.loc[(df['year'] == 1945) & (df['month'] == 4)] = df.loc[(df['year'] == 1945) & (df['month'] == 4)]\\\n",
    ".fillna(method='ffill')"
   ]
  },
  {
   "cell_type": "code",
   "execution_count": 22,
   "metadata": {},
   "outputs": [],
   "source": [
    "df.loc[(df['year'] == 1945) & (df['month'] == 11)] = df.loc[(df['year'] == 1945) & (df['month'] == 11)]\\\n",
    ".fillna(method='bfill')"
   ]
  },
  {
   "cell_type": "code",
   "execution_count": 23,
   "metadata": {},
   "outputs": [
    {
     "data": {
      "text/plain": [
       "(SOUID    0\n",
       " DATE     0\n",
       " TG       0\n",
       " Q_TG     0\n",
       " month    0\n",
       " year     0\n",
       " day      0\n",
       " dtype: int64,\n",
       " SOUID    0\n",
       " DATE     0\n",
       " TG       0\n",
       " Q_TG     0\n",
       " month    0\n",
       " year     0\n",
       " day      0\n",
       " dtype: int64)"
      ]
     },
     "execution_count": 23,
     "metadata": {},
     "output_type": "execute_result"
    }
   ],
   "source": [
    "df.isin([-9999]).sum(), df.isna().sum()"
   ]
  },
  {
   "cell_type": "code",
   "execution_count": 24,
   "metadata": {},
   "outputs": [
    {
     "data": {
      "text/html": [
       "<div>\n",
       "<style scoped>\n",
       "    .dataframe tbody tr th:only-of-type {\n",
       "        vertical-align: middle;\n",
       "    }\n",
       "\n",
       "    .dataframe tbody tr th {\n",
       "        vertical-align: top;\n",
       "    }\n",
       "\n",
       "    .dataframe thead th {\n",
       "        text-align: right;\n",
       "    }\n",
       "</style>\n",
       "<table border=\"1\" class=\"dataframe\">\n",
       "  <thead>\n",
       "    <tr style=\"text-align: right;\">\n",
       "      <th></th>\n",
       "      <th>SOUID</th>\n",
       "      <th>DATE</th>\n",
       "      <th>TG</th>\n",
       "      <th>Q_TG</th>\n",
       "      <th>month</th>\n",
       "      <th>year</th>\n",
       "      <th>day</th>\n",
       "    </tr>\n",
       "  </thead>\n",
       "  <tbody>\n",
       "    <tr>\n",
       "      <th>25202</th>\n",
       "      <td>127488</td>\n",
       "      <td>1945-01-01</td>\n",
       "      <td>-28.0</td>\n",
       "      <td>0</td>\n",
       "      <td>1</td>\n",
       "      <td>1945</td>\n",
       "      <td>1</td>\n",
       "    </tr>\n",
       "    <tr>\n",
       "      <th>25203</th>\n",
       "      <td>127488</td>\n",
       "      <td>1945-01-02</td>\n",
       "      <td>-22.0</td>\n",
       "      <td>0</td>\n",
       "      <td>1</td>\n",
       "      <td>1945</td>\n",
       "      <td>2</td>\n",
       "    </tr>\n",
       "    <tr>\n",
       "      <th>25204</th>\n",
       "      <td>127488</td>\n",
       "      <td>1945-01-03</td>\n",
       "      <td>17.0</td>\n",
       "      <td>0</td>\n",
       "      <td>1</td>\n",
       "      <td>1945</td>\n",
       "      <td>3</td>\n",
       "    </tr>\n",
       "    <tr>\n",
       "      <th>25205</th>\n",
       "      <td>127488</td>\n",
       "      <td>1945-01-04</td>\n",
       "      <td>22.0</td>\n",
       "      <td>0</td>\n",
       "      <td>1</td>\n",
       "      <td>1945</td>\n",
       "      <td>4</td>\n",
       "    </tr>\n",
       "    <tr>\n",
       "      <th>25206</th>\n",
       "      <td>127488</td>\n",
       "      <td>1945-01-05</td>\n",
       "      <td>-18.0</td>\n",
       "      <td>0</td>\n",
       "      <td>1</td>\n",
       "      <td>1945</td>\n",
       "      <td>5</td>\n",
       "    </tr>\n",
       "    <tr>\n",
       "      <th>...</th>\n",
       "      <td>...</td>\n",
       "      <td>...</td>\n",
       "      <td>...</td>\n",
       "      <td>...</td>\n",
       "      <td>...</td>\n",
       "      <td>...</td>\n",
       "      <td>...</td>\n",
       "    </tr>\n",
       "    <tr>\n",
       "      <th>25562</th>\n",
       "      <td>127488</td>\n",
       "      <td>1945-12-27</td>\n",
       "      <td>44.0</td>\n",
       "      <td>0</td>\n",
       "      <td>12</td>\n",
       "      <td>1945</td>\n",
       "      <td>27</td>\n",
       "    </tr>\n",
       "    <tr>\n",
       "      <th>25563</th>\n",
       "      <td>127488</td>\n",
       "      <td>1945-12-28</td>\n",
       "      <td>61.0</td>\n",
       "      <td>0</td>\n",
       "      <td>12</td>\n",
       "      <td>1945</td>\n",
       "      <td>28</td>\n",
       "    </tr>\n",
       "    <tr>\n",
       "      <th>25564</th>\n",
       "      <td>127488</td>\n",
       "      <td>1945-12-29</td>\n",
       "      <td>32.0</td>\n",
       "      <td>0</td>\n",
       "      <td>12</td>\n",
       "      <td>1945</td>\n",
       "      <td>29</td>\n",
       "    </tr>\n",
       "    <tr>\n",
       "      <th>25565</th>\n",
       "      <td>127488</td>\n",
       "      <td>1945-12-30</td>\n",
       "      <td>2.0</td>\n",
       "      <td>0</td>\n",
       "      <td>12</td>\n",
       "      <td>1945</td>\n",
       "      <td>30</td>\n",
       "    </tr>\n",
       "    <tr>\n",
       "      <th>25566</th>\n",
       "      <td>127488</td>\n",
       "      <td>1945-12-31</td>\n",
       "      <td>-18.0</td>\n",
       "      <td>0</td>\n",
       "      <td>12</td>\n",
       "      <td>1945</td>\n",
       "      <td>31</td>\n",
       "    </tr>\n",
       "  </tbody>\n",
       "</table>\n",
       "<p>365 rows × 7 columns</p>\n",
       "</div>"
      ],
      "text/plain": [
       "        SOUID       DATE    TG  Q_TG  month  year  day\n",
       "25202  127488 1945-01-01 -28.0     0      1  1945    1\n",
       "25203  127488 1945-01-02 -22.0     0      1  1945    2\n",
       "25204  127488 1945-01-03  17.0     0      1  1945    3\n",
       "25205  127488 1945-01-04  22.0     0      1  1945    4\n",
       "25206  127488 1945-01-05 -18.0     0      1  1945    5\n",
       "...       ...        ...   ...   ...    ...   ...  ...\n",
       "25562  127488 1945-12-27  44.0     0     12  1945   27\n",
       "25563  127488 1945-12-28  61.0     0     12  1945   28\n",
       "25564  127488 1945-12-29  32.0     0     12  1945   29\n",
       "25565  127488 1945-12-30   2.0     0     12  1945   30\n",
       "25566  127488 1945-12-31 -18.0     0     12  1945   31\n",
       "\n",
       "[365 rows x 7 columns]"
      ]
     },
     "execution_count": 24,
     "metadata": {},
     "output_type": "execute_result"
    }
   ],
   "source": [
    "df.loc[(df['year'] == 1945)]"
   ]
  },
  {
   "cell_type": "code",
   "execution_count": 25,
   "metadata": {},
   "outputs": [
    {
     "data": {
      "text/plain": [
       "<matplotlib.axes._subplots.AxesSubplot at 0x194ac83b8c8>"
      ]
     },
     "execution_count": 25,
     "metadata": {},
     "output_type": "execute_result"
    },
    {
     "data": {
      "image/png": "[encoded data removed]",
      "text/plain": [
       "<Figure size 432x288 with 1 Axes>"
      ]
     },
     "metadata": {
      "needs_background": "light"
     },
     "output_type": "display_data"
    }
   ],
   "source": [
    "#%matplotlib notebook\n",
    "sns.lineplot(data=df, x=\"year\", y=\"TG\")"
   ]
  },
  {
   "cell_type": "code",
   "execution_count": 26,
   "metadata": {},
   "outputs": [
    {
     "data": {
      "text/plain": [
       "<seaborn.axisgrid.JointGrid at 0x194ac810cc8>"
      ]
     },
     "execution_count": 26,
     "metadata": {},
     "output_type": "execute_result"
    },
    {
     "data": {
      "image/png": "[encoded data removed]",
      "text/plain": [
       "<Figure size 432x432 with 3 Axes>"
      ]
     },
     "metadata": {
      "needs_background": "light"
     },
     "output_type": "display_data"
    }
   ],
   "source": [
    "sns.jointplot(data=df, x=\"year\", y=\"TG\", kind='reg', joint_kws={'line_kws':{'color':'red'}})"
   ]
  },
  {
   "cell_type": "markdown",
   "metadata": {},
   "source": [
    "## Decomposing to Components\n",
    "\n",
    "We decompose the time series into its components to be able to model the different components separately \\\n",
    "before adding them for the final model together."
   ]
  },
  {
   "cell_type": "markdown",
   "metadata": {},
   "source": [
    "### a. diff function to find all changes\n",
    "\n",
    "The diff function gives you the differences between consecutive elements (time steps). \\\n",
    "It is the opposite of the cumulative sum. "
   ]
  },
  {
   "cell_type": "code",
   "execution_count": 27,
   "metadata": {},
   "outputs": [
    {
     "data": {
      "text/html": [
       "<div>\n",
       "<style scoped>\n",
       "    .dataframe tbody tr th:only-of-type {\n",
       "        vertical-align: middle;\n",
       "    }\n",
       "\n",
       "    .dataframe tbody tr th {\n",
       "        vertical-align: top;\n",
       "    }\n",
       "\n",
       "    .dataframe thead th {\n",
       "        text-align: right;\n",
       "    }\n",
       "</style>\n",
       "<table border=\"1\" class=\"dataframe\">\n",
       "  <thead>\n",
       "    <tr style=\"text-align: right;\">\n",
       "      <th></th>\n",
       "      <th>SOUID</th>\n",
       "      <th>DATE</th>\n",
       "      <th>TG</th>\n",
       "      <th>Q_TG</th>\n",
       "      <th>month</th>\n",
       "      <th>year</th>\n",
       "      <th>day</th>\n",
       "      <th>diff</th>\n",
       "    </tr>\n",
       "  </thead>\n",
       "  <tbody>\n",
       "    <tr>\n",
       "      <th>0</th>\n",
       "      <td>127488</td>\n",
       "      <td>1876-01-01</td>\n",
       "      <td>22.0</td>\n",
       "      <td>0</td>\n",
       "      <td>1</td>\n",
       "      <td>1876</td>\n",
       "      <td>1</td>\n",
       "      <td>NaN</td>\n",
       "    </tr>\n",
       "    <tr>\n",
       "      <th>1</th>\n",
       "      <td>127488</td>\n",
       "      <td>1876-01-02</td>\n",
       "      <td>25.0</td>\n",
       "      <td>0</td>\n",
       "      <td>1</td>\n",
       "      <td>1876</td>\n",
       "      <td>2</td>\n",
       "      <td>3.0</td>\n",
       "    </tr>\n",
       "    <tr>\n",
       "      <th>2</th>\n",
       "      <td>127488</td>\n",
       "      <td>1876-01-03</td>\n",
       "      <td>3.0</td>\n",
       "      <td>0</td>\n",
       "      <td>1</td>\n",
       "      <td>1876</td>\n",
       "      <td>3</td>\n",
       "      <td>-22.0</td>\n",
       "    </tr>\n",
       "    <tr>\n",
       "      <th>3</th>\n",
       "      <td>127488</td>\n",
       "      <td>1876-01-04</td>\n",
       "      <td>-58.0</td>\n",
       "      <td>0</td>\n",
       "      <td>1</td>\n",
       "      <td>1876</td>\n",
       "      <td>4</td>\n",
       "      <td>-61.0</td>\n",
       "    </tr>\n",
       "    <tr>\n",
       "      <th>4</th>\n",
       "      <td>127488</td>\n",
       "      <td>1876-01-05</td>\n",
       "      <td>-98.0</td>\n",
       "      <td>0</td>\n",
       "      <td>1</td>\n",
       "      <td>1876</td>\n",
       "      <td>5</td>\n",
       "      <td>-40.0</td>\n",
       "    </tr>\n",
       "  </tbody>\n",
       "</table>\n",
       "</div>"
      ],
      "text/plain": [
       "    SOUID       DATE    TG  Q_TG  month  year  day  diff\n",
       "0  127488 1876-01-01  22.0     0      1  1876    1   NaN\n",
       "1  127488 1876-01-02  25.0     0      1  1876    2   3.0\n",
       "2  127488 1876-01-03   3.0     0      1  1876    3 -22.0\n",
       "3  127488 1876-01-04 -58.0     0      1  1876    4 -61.0\n",
       "4  127488 1876-01-05 -98.0     0      1  1876    5 -40.0"
      ]
     },
     "execution_count": 27,
     "metadata": {},
     "output_type": "execute_result"
    }
   ],
   "source": [
    "df['diff'] = df['TG'].diff()\n",
    "df.head()"
   ]
  },
  {
   "cell_type": "code",
   "execution_count": 28,
   "metadata": {},
   "outputs": [
    {
     "data": {
      "text/plain": [
       "<matplotlib.axes._subplots.AxesSubplot at 0x194abf7ff08>"
      ]
     },
     "execution_count": 28,
     "metadata": {},
     "output_type": "execute_result"
    },
    {
     "data": {
      "image/png": "[encoded data removed]",
      "text/plain": [
       "<Figure size 432x288 with 1 Axes>"
      ]
     },
     "metadata": {
      "needs_background": "light"
     },
     "output_type": "display_data"
    }
   ],
   "source": [
    "df['diff'].plot()"
   ]
  },
  {
   "cell_type": "code",
   "execution_count": 29,
   "metadata": {},
   "outputs": [
    {
     "data": {
      "text/plain": [
       "0.0025918498618941314"
      ]
     },
     "execution_count": 29,
     "metadata": {},
     "output_type": "execute_result"
    }
   ],
   "source": [
    "df['diff'].mean() # what does this mean? how do i read this?"
   ]
  },
  {
   "cell_type": "markdown",
   "metadata": {},
   "source": [
    "## Im not sure if my data is heteroscedastic (meaning that the variance is changing, bad)"
   ]
  },
  {
   "cell_type": "markdown",
   "metadata": {},
   "source": [
    "if it is, Percentage Change is a way to deal with that."
   ]
  },
  {
   "cell_type": "code",
   "execution_count": 30,
   "metadata": {},
   "outputs": [
    {
     "data": {
      "text/html": [
       "<div>\n",
       "<style scoped>\n",
       "    .dataframe tbody tr th:only-of-type {\n",
       "        vertical-align: middle;\n",
       "    }\n",
       "\n",
       "    .dataframe tbody tr th {\n",
       "        vertical-align: top;\n",
       "    }\n",
       "\n",
       "    .dataframe thead th {\n",
       "        text-align: right;\n",
       "    }\n",
       "</style>\n",
       "<table border=\"1\" class=\"dataframe\">\n",
       "  <thead>\n",
       "    <tr style=\"text-align: right;\">\n",
       "      <th></th>\n",
       "      <th>SOUID</th>\n",
       "      <th>DATE</th>\n",
       "      <th>TG</th>\n",
       "      <th>Q_TG</th>\n",
       "      <th>month</th>\n",
       "      <th>year</th>\n",
       "      <th>day</th>\n",
       "      <th>diff</th>\n",
       "      <th>pct_change</th>\n",
       "    </tr>\n",
       "  </thead>\n",
       "  <tbody>\n",
       "    <tr>\n",
       "      <th>0</th>\n",
       "      <td>127488</td>\n",
       "      <td>1876-01-01</td>\n",
       "      <td>22.0</td>\n",
       "      <td>0</td>\n",
       "      <td>1</td>\n",
       "      <td>1876</td>\n",
       "      <td>1</td>\n",
       "      <td>NaN</td>\n",
       "      <td>NaN</td>\n",
       "    </tr>\n",
       "    <tr>\n",
       "      <th>1</th>\n",
       "      <td>127488</td>\n",
       "      <td>1876-01-02</td>\n",
       "      <td>25.0</td>\n",
       "      <td>0</td>\n",
       "      <td>1</td>\n",
       "      <td>1876</td>\n",
       "      <td>2</td>\n",
       "      <td>3.0</td>\n",
       "      <td>0.136364</td>\n",
       "    </tr>\n",
       "    <tr>\n",
       "      <th>2</th>\n",
       "      <td>127488</td>\n",
       "      <td>1876-01-03</td>\n",
       "      <td>3.0</td>\n",
       "      <td>0</td>\n",
       "      <td>1</td>\n",
       "      <td>1876</td>\n",
       "      <td>3</td>\n",
       "      <td>-22.0</td>\n",
       "      <td>-0.880000</td>\n",
       "    </tr>\n",
       "    <tr>\n",
       "      <th>3</th>\n",
       "      <td>127488</td>\n",
       "      <td>1876-01-04</td>\n",
       "      <td>-58.0</td>\n",
       "      <td>0</td>\n",
       "      <td>1</td>\n",
       "      <td>1876</td>\n",
       "      <td>4</td>\n",
       "      <td>-61.0</td>\n",
       "      <td>-20.333333</td>\n",
       "    </tr>\n",
       "    <tr>\n",
       "      <th>4</th>\n",
       "      <td>127488</td>\n",
       "      <td>1876-01-05</td>\n",
       "      <td>-98.0</td>\n",
       "      <td>0</td>\n",
       "      <td>1</td>\n",
       "      <td>1876</td>\n",
       "      <td>5</td>\n",
       "      <td>-40.0</td>\n",
       "      <td>0.689655</td>\n",
       "    </tr>\n",
       "  </tbody>\n",
       "</table>\n",
       "</div>"
      ],
      "text/plain": [
       "    SOUID       DATE    TG  Q_TG  month  year  day  diff  pct_change\n",
       "0  127488 1876-01-01  22.0     0      1  1876    1   NaN         NaN\n",
       "1  127488 1876-01-02  25.0     0      1  1876    2   3.0    0.136364\n",
       "2  127488 1876-01-03   3.0     0      1  1876    3 -22.0   -0.880000\n",
       "3  127488 1876-01-04 -58.0     0      1  1876    4 -61.0  -20.333333\n",
       "4  127488 1876-01-05 -98.0     0      1  1876    5 -40.0    0.689655"
      ]
     },
     "execution_count": 30,
     "metadata": {},
     "output_type": "execute_result"
    }
   ],
   "source": [
    "df['pct_change'] = df['TG'].pct_change()\n",
    "df.head()"
   ]
  },
  {
   "cell_type": "code",
   "execution_count": 31,
   "metadata": {},
   "outputs": [],
   "source": [
    "f_index = list(df.loc[(df['pct_change'] == -np.inf) | (df['pct_change'].isna()) | (df['pct_change'] == np.inf)].index)"
   ]
  },
  {
   "cell_type": "code",
   "execution_count": 32,
   "metadata": {},
   "outputs": [],
   "source": [
    "t_index = []\n",
    "for i in f_index:\n",
    "    x = i -1\n",
    "    t_index.append(x)"
   ]
  },
  {
   "cell_type": "code",
   "execution_count": 33,
   "metadata": {},
   "outputs": [],
   "source": [
    "df.loc[df.index.isin(t_index), ['TG']] = 1 # to solve the problem with large percentage values\\\n",
    "# you could also manually change the percentage change to a certain value or simply accept the \\\n",
    "# large percentage change"
   ]
  },
  {
   "cell_type": "code",
   "execution_count": 34,
   "metadata": {},
   "outputs": [
    {
     "data": {
      "text/html": [
       "<div>\n",
       "<style scoped>\n",
       "    .dataframe tbody tr th:only-of-type {\n",
       "        vertical-align: middle;\n",
       "    }\n",
       "\n",
       "    .dataframe tbody tr th {\n",
       "        vertical-align: top;\n",
       "    }\n",
       "\n",
       "    .dataframe thead th {\n",
       "        text-align: right;\n",
       "    }\n",
       "</style>\n",
       "<table border=\"1\" class=\"dataframe\">\n",
       "  <thead>\n",
       "    <tr style=\"text-align: right;\">\n",
       "      <th></th>\n",
       "      <th>SOUID</th>\n",
       "      <th>DATE</th>\n",
       "      <th>TG</th>\n",
       "      <th>Q_TG</th>\n",
       "      <th>month</th>\n",
       "      <th>year</th>\n",
       "      <th>day</th>\n",
       "      <th>diff</th>\n",
       "      <th>pct_change</th>\n",
       "    </tr>\n",
       "  </thead>\n",
       "  <tbody>\n",
       "    <tr>\n",
       "      <th>0</th>\n",
       "      <td>127488</td>\n",
       "      <td>1876-01-01</td>\n",
       "      <td>22.0</td>\n",
       "      <td>0</td>\n",
       "      <td>1</td>\n",
       "      <td>1876</td>\n",
       "      <td>1</td>\n",
       "      <td>NaN</td>\n",
       "      <td>NaN</td>\n",
       "    </tr>\n",
       "    <tr>\n",
       "      <th>1</th>\n",
       "      <td>127488</td>\n",
       "      <td>1876-01-02</td>\n",
       "      <td>25.0</td>\n",
       "      <td>0</td>\n",
       "      <td>1</td>\n",
       "      <td>1876</td>\n",
       "      <td>2</td>\n",
       "      <td>3.0</td>\n",
       "      <td>0.136364</td>\n",
       "    </tr>\n",
       "    <tr>\n",
       "      <th>2</th>\n",
       "      <td>127488</td>\n",
       "      <td>1876-01-03</td>\n",
       "      <td>3.0</td>\n",
       "      <td>0</td>\n",
       "      <td>1</td>\n",
       "      <td>1876</td>\n",
       "      <td>3</td>\n",
       "      <td>-22.0</td>\n",
       "      <td>-0.880000</td>\n",
       "    </tr>\n",
       "    <tr>\n",
       "      <th>3</th>\n",
       "      <td>127488</td>\n",
       "      <td>1876-01-04</td>\n",
       "      <td>-58.0</td>\n",
       "      <td>0</td>\n",
       "      <td>1</td>\n",
       "      <td>1876</td>\n",
       "      <td>4</td>\n",
       "      <td>-61.0</td>\n",
       "      <td>-20.333333</td>\n",
       "    </tr>\n",
       "    <tr>\n",
       "      <th>4</th>\n",
       "      <td>127488</td>\n",
       "      <td>1876-01-05</td>\n",
       "      <td>-98.0</td>\n",
       "      <td>0</td>\n",
       "      <td>1</td>\n",
       "      <td>1876</td>\n",
       "      <td>5</td>\n",
       "      <td>-40.0</td>\n",
       "      <td>0.689655</td>\n",
       "    </tr>\n",
       "  </tbody>\n",
       "</table>\n",
       "</div>"
      ],
      "text/plain": [
       "    SOUID       DATE    TG  Q_TG  month  year  day  diff  pct_change\n",
       "0  127488 1876-01-01  22.0     0      1  1876    1   NaN         NaN\n",
       "1  127488 1876-01-02  25.0     0      1  1876    2   3.0    0.136364\n",
       "2  127488 1876-01-03   3.0     0      1  1876    3 -22.0   -0.880000\n",
       "3  127488 1876-01-04 -58.0     0      1  1876    4 -61.0  -20.333333\n",
       "4  127488 1876-01-05 -98.0     0      1  1876    5 -40.0    0.689655"
      ]
     },
     "execution_count": 34,
     "metadata": {},
     "output_type": "execute_result"
    }
   ],
   "source": [
    "df['pct_change'] = df['TG'].pct_change()\n",
    "df.head()"
   ]
  },
  {
   "cell_type": "code",
   "execution_count": 35,
   "metadata": {},
   "outputs": [],
   "source": [
    "df = df.drop(0, axis=0)"
   ]
  },
  {
   "cell_type": "code",
   "execution_count": 36,
   "metadata": {},
   "outputs": [
    {
     "data": {
      "text/html": [
       "<div>\n",
       "<style scoped>\n",
       "    .dataframe tbody tr th:only-of-type {\n",
       "        vertical-align: middle;\n",
       "    }\n",
       "\n",
       "    .dataframe tbody tr th {\n",
       "        vertical-align: top;\n",
       "    }\n",
       "\n",
       "    .dataframe thead th {\n",
       "        text-align: right;\n",
       "    }\n",
       "</style>\n",
       "<table border=\"1\" class=\"dataframe\">\n",
       "  <thead>\n",
       "    <tr style=\"text-align: right;\">\n",
       "      <th></th>\n",
       "      <th>SOUID</th>\n",
       "      <th>DATE</th>\n",
       "      <th>TG</th>\n",
       "      <th>Q_TG</th>\n",
       "      <th>month</th>\n",
       "      <th>year</th>\n",
       "      <th>day</th>\n",
       "      <th>diff</th>\n",
       "      <th>pct_change</th>\n",
       "    </tr>\n",
       "  </thead>\n",
       "  <tbody>\n",
       "    <tr>\n",
       "      <th>37</th>\n",
       "      <td>127488</td>\n",
       "      <td>1876-02-07</td>\n",
       "      <td>1.0</td>\n",
       "      <td>0</td>\n",
       "      <td>2</td>\n",
       "      <td>1876</td>\n",
       "      <td>7</td>\n",
       "      <td>8.0</td>\n",
       "      <td>-1.125000</td>\n",
       "    </tr>\n",
       "    <tr>\n",
       "      <th>317</th>\n",
       "      <td>127488</td>\n",
       "      <td>1876-11-13</td>\n",
       "      <td>1.0</td>\n",
       "      <td>0</td>\n",
       "      <td>11</td>\n",
       "      <td>1876</td>\n",
       "      <td>13</td>\n",
       "      <td>39.0</td>\n",
       "      <td>-1.025641</td>\n",
       "    </tr>\n",
       "    <tr>\n",
       "      <th>727</th>\n",
       "      <td>127488</td>\n",
       "      <td>1877-12-28</td>\n",
       "      <td>1.0</td>\n",
       "      <td>0</td>\n",
       "      <td>12</td>\n",
       "      <td>1877</td>\n",
       "      <td>28</td>\n",
       "      <td>-5.0</td>\n",
       "      <td>-0.800000</td>\n",
       "    </tr>\n",
       "    <tr>\n",
       "      <th>1417</th>\n",
       "      <td>127488</td>\n",
       "      <td>1879-11-18</td>\n",
       "      <td>1.0</td>\n",
       "      <td>0</td>\n",
       "      <td>11</td>\n",
       "      <td>1879</td>\n",
       "      <td>18</td>\n",
       "      <td>-14.0</td>\n",
       "      <td>-0.928571</td>\n",
       "    </tr>\n",
       "    <tr>\n",
       "      <th>2208</th>\n",
       "      <td>127488</td>\n",
       "      <td>1882-01-17</td>\n",
       "      <td>1.0</td>\n",
       "      <td>0</td>\n",
       "      <td>1</td>\n",
       "      <td>1882</td>\n",
       "      <td>17</td>\n",
       "      <td>5.0</td>\n",
       "      <td>-1.200000</td>\n",
       "    </tr>\n",
       "    <tr>\n",
       "      <th>...</th>\n",
       "      <td>...</td>\n",
       "      <td>...</td>\n",
       "      <td>...</td>\n",
       "      <td>...</td>\n",
       "      <td>...</td>\n",
       "      <td>...</td>\n",
       "      <td>...</td>\n",
       "      <td>...</td>\n",
       "      <td>...</td>\n",
       "    </tr>\n",
       "    <tr>\n",
       "      <th>51521</th>\n",
       "      <td>111448</td>\n",
       "      <td>2017-01-22</td>\n",
       "      <td>1.0</td>\n",
       "      <td>0</td>\n",
       "      <td>1</td>\n",
       "      <td>2017</td>\n",
       "      <td>22</td>\n",
       "      <td>-19.0</td>\n",
       "      <td>-0.947368</td>\n",
       "    </tr>\n",
       "    <tr>\n",
       "      <th>51915</th>\n",
       "      <td>111448</td>\n",
       "      <td>2018-02-20</td>\n",
       "      <td>1.0</td>\n",
       "      <td>0</td>\n",
       "      <td>2</td>\n",
       "      <td>2018</td>\n",
       "      <td>20</td>\n",
       "      <td>-17.0</td>\n",
       "      <td>-0.941176</td>\n",
       "    </tr>\n",
       "    <tr>\n",
       "      <th>52213</th>\n",
       "      <td>111448</td>\n",
       "      <td>2018-12-15</td>\n",
       "      <td>1.0</td>\n",
       "      <td>0</td>\n",
       "      <td>12</td>\n",
       "      <td>2018</td>\n",
       "      <td>15</td>\n",
       "      <td>-4.0</td>\n",
       "      <td>-0.750000</td>\n",
       "    </tr>\n",
       "    <tr>\n",
       "      <th>52259</th>\n",
       "      <td>111448</td>\n",
       "      <td>2019-01-30</td>\n",
       "      <td>1.0</td>\n",
       "      <td>0</td>\n",
       "      <td>1</td>\n",
       "      <td>2019</td>\n",
       "      <td>30</td>\n",
       "      <td>-12.0</td>\n",
       "      <td>-0.916667</td>\n",
       "    </tr>\n",
       "    <tr>\n",
       "      <th>52592</th>\n",
       "      <td>111448</td>\n",
       "      <td>2019-12-29</td>\n",
       "      <td>1.0</td>\n",
       "      <td>0</td>\n",
       "      <td>12</td>\n",
       "      <td>2019</td>\n",
       "      <td>29</td>\n",
       "      <td>-13.0</td>\n",
       "      <td>-0.923077</td>\n",
       "    </tr>\n",
       "  </tbody>\n",
       "</table>\n",
       "<p>213 rows × 9 columns</p>\n",
       "</div>"
      ],
      "text/plain": [
       "        SOUID       DATE   TG  Q_TG  month  year  day  diff  pct_change\n",
       "37     127488 1876-02-07  1.0     0      2  1876    7   8.0   -1.125000\n",
       "317    127488 1876-11-13  1.0     0     11  1876   13  39.0   -1.025641\n",
       "727    127488 1877-12-28  1.0     0     12  1877   28  -5.0   -0.800000\n",
       "1417   127488 1879-11-18  1.0     0     11  1879   18 -14.0   -0.928571\n",
       "2208   127488 1882-01-17  1.0     0      1  1882   17   5.0   -1.200000\n",
       "...       ...        ...  ...   ...    ...   ...  ...   ...         ...\n",
       "51521  111448 2017-01-22  1.0     0      1  2017   22 -19.0   -0.947368\n",
       "51915  111448 2018-02-20  1.0     0      2  2018   20 -17.0   -0.941176\n",
       "52213  111448 2018-12-15  1.0     0     12  2018   15  -4.0   -0.750000\n",
       "52259  111448 2019-01-30  1.0     0      1  2019   30 -12.0   -0.916667\n",
       "52592  111448 2019-12-29  1.0     0     12  2019   29 -13.0   -0.923077\n",
       "\n",
       "[213 rows x 9 columns]"
      ]
     },
     "execution_count": 36,
     "metadata": {},
     "output_type": "execute_result"
    }
   ],
   "source": [
    "df.loc[df.index.isin(t_index)]"
   ]
  },
  {
   "cell_type": "code",
   "execution_count": 37,
   "metadata": {},
   "outputs": [
    {
     "data": {
      "text/plain": [
       "<matplotlib.axes._subplots.AxesSubplot at 0x194abfd6e88>"
      ]
     },
     "execution_count": 37,
     "metadata": {},
     "output_type": "execute_result"
    },
    {
     "data": {
      "image/png": "[encoded data removed]",
      "text/plain": [
       "<Figure size 432x288 with 1 Axes>"
      ]
     },
     "metadata": {
      "needs_background": "light"
     },
     "output_type": "display_data"
    }
   ],
   "source": [
    "df['pct_change'].plot() # what does this mean, why is this good?"
   ]
  },
  {
   "cell_type": "code",
   "execution_count": 38,
   "metadata": {},
   "outputs": [
    {
     "data": {
      "text/plain": [
       "0.002220769380850906"
      ]
     },
     "execution_count": 38,
     "metadata": {},
     "output_type": "execute_result"
    }
   ],
   "source": [
    "df['pct_change'].mean() #this should tell us the average change in temeprature per day"
   ]
  },
  {
   "cell_type": "markdown",
   "metadata": {},
   "source": [
    "#### Other option: Relative Change with logarithm\n",
    "\n",
    "It also takes care of heteroscedasticity"
   ]
  },
  {
   "cell_type": "code",
   "execution_count": 39,
   "metadata": {},
   "outputs": [],
   "source": [
    "#df['log'] = np.log(df['TG']) \n",
    "#df.head(100) # division by zero, i definitely need to talk about this, pass on log"
   ]
  },
  {
   "cell_type": "code",
   "execution_count": 40,
   "metadata": {},
   "outputs": [],
   "source": [
    "# cant take log of negative, for perc_chang if temperature = 0 use 0.01 instead (or so)\n",
    "# so i pass on log for the moment"
   ]
  },
  {
   "cell_type": "code",
   "execution_count": 41,
   "metadata": {
    "scrolled": true
   },
   "outputs": [],
   "source": [
    "#df['log'].plot()"
   ]
  },
  {
   "cell_type": "code",
   "execution_count": 42,
   "metadata": {},
   "outputs": [],
   "source": [
    "#df['log'].isna().sum()"
   ]
  },
  {
   "cell_type": "markdown",
   "metadata": {},
   "source": [
    "### b. Trend\n",
    "\n",
    "The trend is the shift in your data over time. the above is also used to determine the trend."
   ]
  },
  {
   "cell_type": "markdown",
   "metadata": {},
   "source": [
    "## rolling mean"
   ]
  },
  {
   "cell_type": "markdown",
   "metadata": {},
   "source": [
    "### Ill try to define a rolling mean using the month, later"
   ]
  },
  {
   "cell_type": "code",
   "execution_count": 43,
   "metadata": {},
   "outputs": [],
   "source": [
    "#df.groupby(['month']).mean()"
   ]
  },
  {
   "cell_type": "code",
   "execution_count": 44,
   "metadata": {},
   "outputs": [
    {
     "data": {
      "text/plain": [
       "<matplotlib.axes._subplots.AxesSubplot at 0x194ac076ec8>"
      ]
     },
     "execution_count": 44,
     "metadata": {},
     "output_type": "execute_result"
    },
    {
     "data": {
      "image/png": "[encoded data removed]",
      "text/plain": [
       "<Figure size 432x288 with 1 Axes>"
      ]
     },
     "metadata": {
      "needs_background": "light"
     },
     "output_type": "display_data"
    }
   ],
   "source": [
    "df['TG'].plot()"
   ]
  },
  {
   "cell_type": "code",
   "execution_count": 45,
   "metadata": {},
   "outputs": [],
   "source": [
    "df['rolling'] = df['TG'].rolling(window=365).mean()"
   ]
  },
  {
   "cell_type": "code",
   "execution_count": 46,
   "metadata": {},
   "outputs": [
    {
     "data": {
      "text/html": [
       "<div>\n",
       "<style scoped>\n",
       "    .dataframe tbody tr th:only-of-type {\n",
       "        vertical-align: middle;\n",
       "    }\n",
       "\n",
       "    .dataframe tbody tr th {\n",
       "        vertical-align: top;\n",
       "    }\n",
       "\n",
       "    .dataframe thead th {\n",
       "        text-align: right;\n",
       "    }\n",
       "</style>\n",
       "<table border=\"1\" class=\"dataframe\">\n",
       "  <thead>\n",
       "    <tr style=\"text-align: right;\">\n",
       "      <th></th>\n",
       "      <th>SOUID</th>\n",
       "      <th>DATE</th>\n",
       "      <th>TG</th>\n",
       "      <th>Q_TG</th>\n",
       "      <th>month</th>\n",
       "      <th>year</th>\n",
       "      <th>day</th>\n",
       "      <th>diff</th>\n",
       "      <th>pct_change</th>\n",
       "      <th>rolling</th>\n",
       "    </tr>\n",
       "  </thead>\n",
       "  <tbody>\n",
       "    <tr>\n",
       "      <th>1</th>\n",
       "      <td>127488</td>\n",
       "      <td>1876-01-02</td>\n",
       "      <td>25.0</td>\n",
       "      <td>0</td>\n",
       "      <td>1</td>\n",
       "      <td>1876</td>\n",
       "      <td>2</td>\n",
       "      <td>3.0</td>\n",
       "      <td>0.136364</td>\n",
       "      <td>NaN</td>\n",
       "    </tr>\n",
       "    <tr>\n",
       "      <th>2</th>\n",
       "      <td>127488</td>\n",
       "      <td>1876-01-03</td>\n",
       "      <td>3.0</td>\n",
       "      <td>0</td>\n",
       "      <td>1</td>\n",
       "      <td>1876</td>\n",
       "      <td>3</td>\n",
       "      <td>-22.0</td>\n",
       "      <td>-0.880000</td>\n",
       "      <td>NaN</td>\n",
       "    </tr>\n",
       "    <tr>\n",
       "      <th>3</th>\n",
       "      <td>127488</td>\n",
       "      <td>1876-01-04</td>\n",
       "      <td>-58.0</td>\n",
       "      <td>0</td>\n",
       "      <td>1</td>\n",
       "      <td>1876</td>\n",
       "      <td>4</td>\n",
       "      <td>-61.0</td>\n",
       "      <td>-20.333333</td>\n",
       "      <td>NaN</td>\n",
       "    </tr>\n",
       "    <tr>\n",
       "      <th>4</th>\n",
       "      <td>127488</td>\n",
       "      <td>1876-01-05</td>\n",
       "      <td>-98.0</td>\n",
       "      <td>0</td>\n",
       "      <td>1</td>\n",
       "      <td>1876</td>\n",
       "      <td>5</td>\n",
       "      <td>-40.0</td>\n",
       "      <td>0.689655</td>\n",
       "      <td>NaN</td>\n",
       "    </tr>\n",
       "    <tr>\n",
       "      <th>5</th>\n",
       "      <td>127488</td>\n",
       "      <td>1876-01-06</td>\n",
       "      <td>-77.0</td>\n",
       "      <td>0</td>\n",
       "      <td>1</td>\n",
       "      <td>1876</td>\n",
       "      <td>6</td>\n",
       "      <td>21.0</td>\n",
       "      <td>-0.214286</td>\n",
       "      <td>NaN</td>\n",
       "    </tr>\n",
       "    <tr>\n",
       "      <th>...</th>\n",
       "      <td>...</td>\n",
       "      <td>...</td>\n",
       "      <td>...</td>\n",
       "      <td>...</td>\n",
       "      <td>...</td>\n",
       "      <td>...</td>\n",
       "      <td>...</td>\n",
       "      <td>...</td>\n",
       "      <td>...</td>\n",
       "      <td>...</td>\n",
       "    </tr>\n",
       "    <tr>\n",
       "      <th>52854</th>\n",
       "      <td>111448</td>\n",
       "      <td>2020-09-16</td>\n",
       "      <td>221.0</td>\n",
       "      <td>0</td>\n",
       "      <td>9</td>\n",
       "      <td>2020</td>\n",
       "      <td>16</td>\n",
       "      <td>-11.0</td>\n",
       "      <td>-0.047414</td>\n",
       "      <td>117.610959</td>\n",
       "    </tr>\n",
       "    <tr>\n",
       "      <th>52855</th>\n",
       "      <td>111448</td>\n",
       "      <td>2020-09-17</td>\n",
       "      <td>146.0</td>\n",
       "      <td>0</td>\n",
       "      <td>9</td>\n",
       "      <td>2020</td>\n",
       "      <td>17</td>\n",
       "      <td>-75.0</td>\n",
       "      <td>-0.339367</td>\n",
       "      <td>117.690411</td>\n",
       "    </tr>\n",
       "    <tr>\n",
       "      <th>52856</th>\n",
       "      <td>111448</td>\n",
       "      <td>2020-09-18</td>\n",
       "      <td>130.0</td>\n",
       "      <td>0</td>\n",
       "      <td>9</td>\n",
       "      <td>2020</td>\n",
       "      <td>18</td>\n",
       "      <td>-16.0</td>\n",
       "      <td>-0.109589</td>\n",
       "      <td>117.736986</td>\n",
       "    </tr>\n",
       "    <tr>\n",
       "      <th>52857</th>\n",
       "      <td>111448</td>\n",
       "      <td>2020-09-19</td>\n",
       "      <td>144.0</td>\n",
       "      <td>0</td>\n",
       "      <td>9</td>\n",
       "      <td>2020</td>\n",
       "      <td>19</td>\n",
       "      <td>14.0</td>\n",
       "      <td>0.107692</td>\n",
       "      <td>117.794521</td>\n",
       "    </tr>\n",
       "    <tr>\n",
       "      <th>52858</th>\n",
       "      <td>111448</td>\n",
       "      <td>2020-09-20</td>\n",
       "      <td>159.0</td>\n",
       "      <td>0</td>\n",
       "      <td>9</td>\n",
       "      <td>2020</td>\n",
       "      <td>20</td>\n",
       "      <td>15.0</td>\n",
       "      <td>0.104167</td>\n",
       "      <td>117.835616</td>\n",
       "    </tr>\n",
       "  </tbody>\n",
       "</table>\n",
       "<p>52858 rows × 10 columns</p>\n",
       "</div>"
      ],
      "text/plain": [
       "        SOUID       DATE     TG  Q_TG  month  year  day  diff  pct_change  \\\n",
       "1      127488 1876-01-02   25.0     0      1  1876    2   3.0    0.136364   \n",
       "2      127488 1876-01-03    3.0     0      1  1876    3 -22.0   -0.880000   \n",
       "3      127488 1876-01-04  -58.0     0      1  1876    4 -61.0  -20.333333   \n",
       "4      127488 1876-01-05  -98.0     0      1  1876    5 -40.0    0.689655   \n",
       "5      127488 1876-01-06  -77.0     0      1  1876    6  21.0   -0.214286   \n",
       "...       ...        ...    ...   ...    ...   ...  ...   ...         ...   \n",
       "52854  111448 2020-09-16  221.0     0      9  2020   16 -11.0   -0.047414   \n",
       "52855  111448 2020-09-17  146.0     0      9  2020   17 -75.0   -0.339367   \n",
       "52856  111448 2020-09-18  130.0     0      9  2020   18 -16.0   -0.109589   \n",
       "52857  111448 2020-09-19  144.0     0      9  2020   19  14.0    0.107692   \n",
       "52858  111448 2020-09-20  159.0     0      9  2020   20  15.0    0.104167   \n",
       "\n",
       "          rolling  \n",
       "1             NaN  \n",
       "2             NaN  \n",
       "3             NaN  \n",
       "4             NaN  \n",
       "5             NaN  \n",
       "...           ...  \n",
       "52854  117.610959  \n",
       "52855  117.690411  \n",
       "52856  117.736986  \n",
       "52857  117.794521  \n",
       "52858  117.835616  \n",
       "\n",
       "[52858 rows x 10 columns]"
      ]
     },
     "execution_count": 46,
     "metadata": {},
     "output_type": "execute_result"
    }
   ],
   "source": [
    "df"
   ]
  },
  {
   "cell_type": "code",
   "execution_count": 47,
   "metadata": {},
   "outputs": [
    {
     "data": {
      "text/plain": [
       "<matplotlib.axes._subplots.AxesSubplot at 0x194abfa6848>"
      ]
     },
     "execution_count": 47,
     "metadata": {},
     "output_type": "execute_result"
    },
    {
     "data": {
      "image/png": "[encoded data removed]",
      "text/plain": [
       "<Figure size 432x288 with 1 Axes>"
      ]
     },
     "metadata": {
      "needs_background": "light"
     },
     "output_type": "display_data"
    }
   ],
   "source": [
    "df['rolling'].iloc[20000:20500].plot()\n",
    "df['TG'].iloc[20000:20500].plot()"
   ]
  },
  {
   "cell_type": "code",
   "execution_count": 48,
   "metadata": {},
   "outputs": [
    {
     "data": {
      "text/html": [
       "<div>\n",
       "<style scoped>\n",
       "    .dataframe tbody tr th:only-of-type {\n",
       "        vertical-align: middle;\n",
       "    }\n",
       "\n",
       "    .dataframe tbody tr th {\n",
       "        vertical-align: top;\n",
       "    }\n",
       "\n",
       "    .dataframe thead th {\n",
       "        text-align: right;\n",
       "    }\n",
       "</style>\n",
       "<table border=\"1\" class=\"dataframe\">\n",
       "  <thead>\n",
       "    <tr style=\"text-align: right;\">\n",
       "      <th></th>\n",
       "      <th>SOUID</th>\n",
       "      <th>DATE</th>\n",
       "      <th>TG</th>\n",
       "      <th>Q_TG</th>\n",
       "      <th>month</th>\n",
       "      <th>year</th>\n",
       "      <th>day</th>\n",
       "      <th>diff</th>\n",
       "      <th>pct_change</th>\n",
       "      <th>rolling</th>\n",
       "    </tr>\n",
       "  </thead>\n",
       "  <tbody>\n",
       "    <tr>\n",
       "      <th>20001</th>\n",
       "      <td>127488</td>\n",
       "      <td>1930-10-06</td>\n",
       "      <td>93.0</td>\n",
       "      <td>0</td>\n",
       "      <td>10</td>\n",
       "      <td>1930</td>\n",
       "      <td>6</td>\n",
       "      <td>-33.0</td>\n",
       "      <td>-0.261905</td>\n",
       "      <td>95.547945</td>\n",
       "    </tr>\n",
       "    <tr>\n",
       "      <th>20002</th>\n",
       "      <td>127488</td>\n",
       "      <td>1930-10-07</td>\n",
       "      <td>93.0</td>\n",
       "      <td>0</td>\n",
       "      <td>10</td>\n",
       "      <td>1930</td>\n",
       "      <td>7</td>\n",
       "      <td>0.0</td>\n",
       "      <td>0.000000</td>\n",
       "      <td>95.465753</td>\n",
       "    </tr>\n",
       "    <tr>\n",
       "      <th>20003</th>\n",
       "      <td>127488</td>\n",
       "      <td>1930-10-08</td>\n",
       "      <td>108.0</td>\n",
       "      <td>0</td>\n",
       "      <td>10</td>\n",
       "      <td>1930</td>\n",
       "      <td>8</td>\n",
       "      <td>15.0</td>\n",
       "      <td>0.161290</td>\n",
       "      <td>95.334247</td>\n",
       "    </tr>\n",
       "    <tr>\n",
       "      <th>20004</th>\n",
       "      <td>127488</td>\n",
       "      <td>1930-10-09</td>\n",
       "      <td>100.0</td>\n",
       "      <td>0</td>\n",
       "      <td>10</td>\n",
       "      <td>1930</td>\n",
       "      <td>9</td>\n",
       "      <td>-8.0</td>\n",
       "      <td>-0.074074</td>\n",
       "      <td>95.298630</td>\n",
       "    </tr>\n",
       "    <tr>\n",
       "      <th>20005</th>\n",
       "      <td>127488</td>\n",
       "      <td>1930-10-10</td>\n",
       "      <td>89.0</td>\n",
       "      <td>0</td>\n",
       "      <td>10</td>\n",
       "      <td>1930</td>\n",
       "      <td>10</td>\n",
       "      <td>-11.0</td>\n",
       "      <td>-0.110000</td>\n",
       "      <td>95.276712</td>\n",
       "    </tr>\n",
       "    <tr>\n",
       "      <th>...</th>\n",
       "      <td>...</td>\n",
       "      <td>...</td>\n",
       "      <td>...</td>\n",
       "      <td>...</td>\n",
       "      <td>...</td>\n",
       "      <td>...</td>\n",
       "      <td>...</td>\n",
       "      <td>...</td>\n",
       "      <td>...</td>\n",
       "      <td>...</td>\n",
       "    </tr>\n",
       "    <tr>\n",
       "      <th>20496</th>\n",
       "      <td>127488</td>\n",
       "      <td>1932-02-13</td>\n",
       "      <td>-23.0</td>\n",
       "      <td>0</td>\n",
       "      <td>2</td>\n",
       "      <td>1932</td>\n",
       "      <td>13</td>\n",
       "      <td>33.0</td>\n",
       "      <td>-0.589286</td>\n",
       "      <td>84.394521</td>\n",
       "    </tr>\n",
       "    <tr>\n",
       "      <th>20497</th>\n",
       "      <td>127488</td>\n",
       "      <td>1932-02-14</td>\n",
       "      <td>4.0</td>\n",
       "      <td>0</td>\n",
       "      <td>2</td>\n",
       "      <td>1932</td>\n",
       "      <td>14</td>\n",
       "      <td>27.0</td>\n",
       "      <td>-1.173913</td>\n",
       "      <td>84.460274</td>\n",
       "    </tr>\n",
       "    <tr>\n",
       "      <th>20498</th>\n",
       "      <td>127488</td>\n",
       "      <td>1932-02-15</td>\n",
       "      <td>14.0</td>\n",
       "      <td>0</td>\n",
       "      <td>2</td>\n",
       "      <td>1932</td>\n",
       "      <td>15</td>\n",
       "      <td>10.0</td>\n",
       "      <td>2.500000</td>\n",
       "      <td>84.641096</td>\n",
       "    </tr>\n",
       "    <tr>\n",
       "      <th>20499</th>\n",
       "      <td>127488</td>\n",
       "      <td>1932-02-16</td>\n",
       "      <td>8.0</td>\n",
       "      <td>0</td>\n",
       "      <td>2</td>\n",
       "      <td>1932</td>\n",
       "      <td>16</td>\n",
       "      <td>-6.0</td>\n",
       "      <td>-0.428571</td>\n",
       "      <td>84.660274</td>\n",
       "    </tr>\n",
       "    <tr>\n",
       "      <th>20500</th>\n",
       "      <td>127488</td>\n",
       "      <td>1932-02-17</td>\n",
       "      <td>-8.0</td>\n",
       "      <td>0</td>\n",
       "      <td>2</td>\n",
       "      <td>1932</td>\n",
       "      <td>17</td>\n",
       "      <td>-16.0</td>\n",
       "      <td>-2.000000</td>\n",
       "      <td>84.630137</td>\n",
       "    </tr>\n",
       "  </tbody>\n",
       "</table>\n",
       "<p>500 rows × 10 columns</p>\n",
       "</div>"
      ],
      "text/plain": [
       "        SOUID       DATE     TG  Q_TG  month  year  day  diff  pct_change  \\\n",
       "20001  127488 1930-10-06   93.0     0     10  1930    6 -33.0   -0.261905   \n",
       "20002  127488 1930-10-07   93.0     0     10  1930    7   0.0    0.000000   \n",
       "20003  127488 1930-10-08  108.0     0     10  1930    8  15.0    0.161290   \n",
       "20004  127488 1930-10-09  100.0     0     10  1930    9  -8.0   -0.074074   \n",
       "20005  127488 1930-10-10   89.0     0     10  1930   10 -11.0   -0.110000   \n",
       "...       ...        ...    ...   ...    ...   ...  ...   ...         ...   \n",
       "20496  127488 1932-02-13  -23.0     0      2  1932   13  33.0   -0.589286   \n",
       "20497  127488 1932-02-14    4.0     0      2  1932   14  27.0   -1.173913   \n",
       "20498  127488 1932-02-15   14.0     0      2  1932   15  10.0    2.500000   \n",
       "20499  127488 1932-02-16    8.0     0      2  1932   16  -6.0   -0.428571   \n",
       "20500  127488 1932-02-17   -8.0     0      2  1932   17 -16.0   -2.000000   \n",
       "\n",
       "         rolling  \n",
       "20001  95.547945  \n",
       "20002  95.465753  \n",
       "20003  95.334247  \n",
       "20004  95.298630  \n",
       "20005  95.276712  \n",
       "...          ...  \n",
       "20496  84.394521  \n",
       "20497  84.460274  \n",
       "20498  84.641096  \n",
       "20499  84.660274  \n",
       "20500  84.630137  \n",
       "\n",
       "[500 rows x 10 columns]"
      ]
     },
     "execution_count": 48,
     "metadata": {},
     "output_type": "execute_result"
    }
   ],
   "source": [
    "df.iloc[20000:20500]"
   ]
  },
  {
   "cell_type": "markdown",
   "metadata": {},
   "source": [
    "### c. Noise\n",
    "noise is random abberations from an ideal \"curve\"."
   ]
  },
  {
   "cell_type": "code",
   "execution_count": 49,
   "metadata": {},
   "outputs": [],
   "source": [
    "# noise is what will be left after we extract seasonality and trend."
   ]
  },
  {
   "cell_type": "code",
   "execution_count": null,
   "metadata": {},
   "outputs": [],
   "source": []
  },
  {
   "cell_type": "code",
   "execution_count": null,
   "metadata": {},
   "outputs": [],
   "source": []
  },
  {
   "cell_type": "code",
   "execution_count": null,
   "metadata": {},
   "outputs": [],
   "source": []
  },
  {
   "cell_type": "markdown",
   "metadata": {},
   "source": [
    "### d. Seasonality"
   ]
  },
  {
   "cell_type": "markdown",
   "metadata": {},
   "source": [
    "#Seasonality is about reoccuring patterns in your time series. Formally it is expected to be in time-spans less than a year.\n",
    "\n",
    "#This could be a dependence on the seasons of a year, or on the hour of the day, or week and weekend day differences."
   ]
  },
  {
   "cell_type": "markdown",
   "metadata": {},
   "source": [
    "### How can we get the seasonality?"
   ]
  },
  {
   "cell_type": "code",
   "execution_count": 50,
   "metadata": {},
   "outputs": [],
   "source": [
    "df['TG_wo_Trend'] = df['TG'] - df['rolling'] # this is correct"
   ]
  },
  {
   "cell_type": "code",
   "execution_count": 51,
   "metadata": {},
   "outputs": [
    {
     "data": {
      "text/html": [
       "<div>\n",
       "<style scoped>\n",
       "    .dataframe tbody tr th:only-of-type {\n",
       "        vertical-align: middle;\n",
       "    }\n",
       "\n",
       "    .dataframe tbody tr th {\n",
       "        vertical-align: top;\n",
       "    }\n",
       "\n",
       "    .dataframe thead th {\n",
       "        text-align: right;\n",
       "    }\n",
       "</style>\n",
       "<table border=\"1\" class=\"dataframe\">\n",
       "  <thead>\n",
       "    <tr style=\"text-align: right;\">\n",
       "      <th></th>\n",
       "      <th>SOUID</th>\n",
       "      <th>DATE</th>\n",
       "      <th>TG</th>\n",
       "      <th>Q_TG</th>\n",
       "      <th>month</th>\n",
       "      <th>year</th>\n",
       "      <th>day</th>\n",
       "      <th>diff</th>\n",
       "      <th>pct_change</th>\n",
       "      <th>rolling</th>\n",
       "      <th>TG_wo_Trend</th>\n",
       "    </tr>\n",
       "  </thead>\n",
       "  <tbody>\n",
       "    <tr>\n",
       "      <th>20251</th>\n",
       "      <td>127488</td>\n",
       "      <td>1931-06-13</td>\n",
       "      <td>159.0</td>\n",
       "      <td>0</td>\n",
       "      <td>6</td>\n",
       "      <td>1931</td>\n",
       "      <td>13</td>\n",
       "      <td>-26.0</td>\n",
       "      <td>-0.140541</td>\n",
       "      <td>86.561644</td>\n",
       "      <td>72.438356</td>\n",
       "    </tr>\n",
       "    <tr>\n",
       "      <th>20252</th>\n",
       "      <td>127488</td>\n",
       "      <td>1931-06-14</td>\n",
       "      <td>184.0</td>\n",
       "      <td>0</td>\n",
       "      <td>6</td>\n",
       "      <td>1931</td>\n",
       "      <td>14</td>\n",
       "      <td>25.0</td>\n",
       "      <td>0.157233</td>\n",
       "      <td>86.378082</td>\n",
       "      <td>97.621918</td>\n",
       "    </tr>\n",
       "    <tr>\n",
       "      <th>20253</th>\n",
       "      <td>127488</td>\n",
       "      <td>1931-06-15</td>\n",
       "      <td>171.0</td>\n",
       "      <td>0</td>\n",
       "      <td>6</td>\n",
       "      <td>1931</td>\n",
       "      <td>15</td>\n",
       "      <td>-13.0</td>\n",
       "      <td>-0.070652</td>\n",
       "      <td>86.320548</td>\n",
       "      <td>84.679452</td>\n",
       "    </tr>\n",
       "    <tr>\n",
       "      <th>20254</th>\n",
       "      <td>127488</td>\n",
       "      <td>1931-06-16</td>\n",
       "      <td>174.0</td>\n",
       "      <td>0</td>\n",
       "      <td>6</td>\n",
       "      <td>1931</td>\n",
       "      <td>16</td>\n",
       "      <td>3.0</td>\n",
       "      <td>0.017544</td>\n",
       "      <td>86.265753</td>\n",
       "      <td>87.734247</td>\n",
       "    </tr>\n",
       "    <tr>\n",
       "      <th>20255</th>\n",
       "      <td>127488</td>\n",
       "      <td>1931-06-17</td>\n",
       "      <td>216.0</td>\n",
       "      <td>0</td>\n",
       "      <td>6</td>\n",
       "      <td>1931</td>\n",
       "      <td>17</td>\n",
       "      <td>42.0</td>\n",
       "      <td>0.241379</td>\n",
       "      <td>86.279452</td>\n",
       "      <td>129.720548</td>\n",
       "    </tr>\n",
       "    <tr>\n",
       "      <th>...</th>\n",
       "      <td>...</td>\n",
       "      <td>...</td>\n",
       "      <td>...</td>\n",
       "      <td>...</td>\n",
       "      <td>...</td>\n",
       "      <td>...</td>\n",
       "      <td>...</td>\n",
       "      <td>...</td>\n",
       "      <td>...</td>\n",
       "      <td>...</td>\n",
       "      <td>...</td>\n",
       "    </tr>\n",
       "    <tr>\n",
       "      <th>20336</th>\n",
       "      <td>127488</td>\n",
       "      <td>1931-09-06</td>\n",
       "      <td>121.0</td>\n",
       "      <td>0</td>\n",
       "      <td>9</td>\n",
       "      <td>1931</td>\n",
       "      <td>6</td>\n",
       "      <td>-1.0</td>\n",
       "      <td>-0.008197</td>\n",
       "      <td>86.635616</td>\n",
       "      <td>34.364384</td>\n",
       "    </tr>\n",
       "    <tr>\n",
       "      <th>20337</th>\n",
       "      <td>127488</td>\n",
       "      <td>1931-09-07</td>\n",
       "      <td>105.0</td>\n",
       "      <td>0</td>\n",
       "      <td>9</td>\n",
       "      <td>1931</td>\n",
       "      <td>7</td>\n",
       "      <td>-16.0</td>\n",
       "      <td>-0.132231</td>\n",
       "      <td>86.542466</td>\n",
       "      <td>18.457534</td>\n",
       "    </tr>\n",
       "    <tr>\n",
       "      <th>20338</th>\n",
       "      <td>127488</td>\n",
       "      <td>1931-09-08</td>\n",
       "      <td>96.0</td>\n",
       "      <td>0</td>\n",
       "      <td>9</td>\n",
       "      <td>1931</td>\n",
       "      <td>8</td>\n",
       "      <td>-9.0</td>\n",
       "      <td>-0.085714</td>\n",
       "      <td>86.443836</td>\n",
       "      <td>9.556164</td>\n",
       "    </tr>\n",
       "    <tr>\n",
       "      <th>20339</th>\n",
       "      <td>127488</td>\n",
       "      <td>1931-09-09</td>\n",
       "      <td>111.0</td>\n",
       "      <td>0</td>\n",
       "      <td>9</td>\n",
       "      <td>1931</td>\n",
       "      <td>9</td>\n",
       "      <td>15.0</td>\n",
       "      <td>0.156250</td>\n",
       "      <td>86.383562</td>\n",
       "      <td>24.616438</td>\n",
       "    </tr>\n",
       "    <tr>\n",
       "      <th>20340</th>\n",
       "      <td>127488</td>\n",
       "      <td>1931-09-10</td>\n",
       "      <td>99.0</td>\n",
       "      <td>0</td>\n",
       "      <td>9</td>\n",
       "      <td>1931</td>\n",
       "      <td>10</td>\n",
       "      <td>-12.0</td>\n",
       "      <td>-0.108108</td>\n",
       "      <td>86.282192</td>\n",
       "      <td>12.717808</td>\n",
       "    </tr>\n",
       "  </tbody>\n",
       "</table>\n",
       "<p>90 rows × 11 columns</p>\n",
       "</div>"
      ],
      "text/plain": [
       "        SOUID       DATE     TG  Q_TG  month  year  day  diff  pct_change  \\\n",
       "20251  127488 1931-06-13  159.0     0      6  1931   13 -26.0   -0.140541   \n",
       "20252  127488 1931-06-14  184.0     0      6  1931   14  25.0    0.157233   \n",
       "20253  127488 1931-06-15  171.0     0      6  1931   15 -13.0   -0.070652   \n",
       "20254  127488 1931-06-16  174.0     0      6  1931   16   3.0    0.017544   \n",
       "20255  127488 1931-06-17  216.0     0      6  1931   17  42.0    0.241379   \n",
       "...       ...        ...    ...   ...    ...   ...  ...   ...         ...   \n",
       "20336  127488 1931-09-06  121.0     0      9  1931    6  -1.0   -0.008197   \n",
       "20337  127488 1931-09-07  105.0     0      9  1931    7 -16.0   -0.132231   \n",
       "20338  127488 1931-09-08   96.0     0      9  1931    8  -9.0   -0.085714   \n",
       "20339  127488 1931-09-09  111.0     0      9  1931    9  15.0    0.156250   \n",
       "20340  127488 1931-09-10   99.0     0      9  1931   10 -12.0   -0.108108   \n",
       "\n",
       "         rolling  TG_wo_Trend  \n",
       "20251  86.561644    72.438356  \n",
       "20252  86.378082    97.621918  \n",
       "20253  86.320548    84.679452  \n",
       "20254  86.265753    87.734247  \n",
       "20255  86.279452   129.720548  \n",
       "...          ...          ...  \n",
       "20336  86.635616    34.364384  \n",
       "20337  86.542466    18.457534  \n",
       "20338  86.443836     9.556164  \n",
       "20339  86.383562    24.616438  \n",
       "20340  86.282192    12.717808  \n",
       "\n",
       "[90 rows x 11 columns]"
      ]
     },
     "execution_count": 51,
     "metadata": {},
     "output_type": "execute_result"
    }
   ],
   "source": [
    "df.iloc[20250:20340]"
   ]
  },
  {
   "cell_type": "code",
   "execution_count": 52,
   "metadata": {},
   "outputs": [],
   "source": [
    "df['seasonal'] = df['TG_wo_Trend'].rolling(window=30).mean() #this is actually the season"
   ]
  },
  {
   "cell_type": "code",
   "execution_count": 53,
   "metadata": {},
   "outputs": [],
   "source": [
    "df['residual'] = df['TG'] - df['rolling'] - df['seasonal']"
   ]
  },
  {
   "cell_type": "code",
   "execution_count": 54,
   "metadata": {},
   "outputs": [
    {
     "data": {
      "text/html": [
       "<div>\n",
       "<style scoped>\n",
       "    .dataframe tbody tr th:only-of-type {\n",
       "        vertical-align: middle;\n",
       "    }\n",
       "\n",
       "    .dataframe tbody tr th {\n",
       "        vertical-align: top;\n",
       "    }\n",
       "\n",
       "    .dataframe thead th {\n",
       "        text-align: right;\n",
       "    }\n",
       "</style>\n",
       "<table border=\"1\" class=\"dataframe\">\n",
       "  <thead>\n",
       "    <tr style=\"text-align: right;\">\n",
       "      <th></th>\n",
       "      <th>SOUID</th>\n",
       "      <th>DATE</th>\n",
       "      <th>TG</th>\n",
       "      <th>Q_TG</th>\n",
       "      <th>month</th>\n",
       "      <th>year</th>\n",
       "      <th>day</th>\n",
       "      <th>diff</th>\n",
       "      <th>pct_change</th>\n",
       "      <th>rolling</th>\n",
       "      <th>TG_wo_Trend</th>\n",
       "      <th>seasonal</th>\n",
       "      <th>residual</th>\n",
       "    </tr>\n",
       "  </thead>\n",
       "  <tbody>\n",
       "    <tr>\n",
       "      <th>20001</th>\n",
       "      <td>127488</td>\n",
       "      <td>1930-10-06</td>\n",
       "      <td>93.0</td>\n",
       "      <td>0</td>\n",
       "      <td>10</td>\n",
       "      <td>1930</td>\n",
       "      <td>6</td>\n",
       "      <td>-33.0</td>\n",
       "      <td>-0.261905</td>\n",
       "      <td>95.547945</td>\n",
       "      <td>-2.547945</td>\n",
       "      <td>27.641279</td>\n",
       "      <td>-30.189224</td>\n",
       "    </tr>\n",
       "    <tr>\n",
       "      <th>20002</th>\n",
       "      <td>127488</td>\n",
       "      <td>1930-10-07</td>\n",
       "      <td>93.0</td>\n",
       "      <td>0</td>\n",
       "      <td>10</td>\n",
       "      <td>1930</td>\n",
       "      <td>7</td>\n",
       "      <td>0.0</td>\n",
       "      <td>0.000000</td>\n",
       "      <td>95.465753</td>\n",
       "      <td>-2.465753</td>\n",
       "      <td>26.160639</td>\n",
       "      <td>-28.626393</td>\n",
       "    </tr>\n",
       "    <tr>\n",
       "      <th>20003</th>\n",
       "      <td>127488</td>\n",
       "      <td>1930-10-08</td>\n",
       "      <td>108.0</td>\n",
       "      <td>0</td>\n",
       "      <td>10</td>\n",
       "      <td>1930</td>\n",
       "      <td>8</td>\n",
       "      <td>15.0</td>\n",
       "      <td>0.161290</td>\n",
       "      <td>95.334247</td>\n",
       "      <td>12.665753</td>\n",
       "      <td>25.416347</td>\n",
       "      <td>-12.750594</td>\n",
       "    </tr>\n",
       "    <tr>\n",
       "      <th>20004</th>\n",
       "      <td>127488</td>\n",
       "      <td>1930-10-09</td>\n",
       "      <td>100.0</td>\n",
       "      <td>0</td>\n",
       "      <td>10</td>\n",
       "      <td>1930</td>\n",
       "      <td>9</td>\n",
       "      <td>-8.0</td>\n",
       "      <td>-0.074074</td>\n",
       "      <td>95.298630</td>\n",
       "      <td>4.701370</td>\n",
       "      <td>24.366484</td>\n",
       "      <td>-19.665114</td>\n",
       "    </tr>\n",
       "    <tr>\n",
       "      <th>20005</th>\n",
       "      <td>127488</td>\n",
       "      <td>1930-10-10</td>\n",
       "      <td>89.0</td>\n",
       "      <td>0</td>\n",
       "      <td>10</td>\n",
       "      <td>1930</td>\n",
       "      <td>10</td>\n",
       "      <td>-11.0</td>\n",
       "      <td>-0.110000</td>\n",
       "      <td>95.276712</td>\n",
       "      <td>-6.276712</td>\n",
       "      <td>22.849680</td>\n",
       "      <td>-29.126393</td>\n",
       "    </tr>\n",
       "    <tr>\n",
       "      <th>...</th>\n",
       "      <td>...</td>\n",
       "      <td>...</td>\n",
       "      <td>...</td>\n",
       "      <td>...</td>\n",
       "      <td>...</td>\n",
       "      <td>...</td>\n",
       "      <td>...</td>\n",
       "      <td>...</td>\n",
       "      <td>...</td>\n",
       "      <td>...</td>\n",
       "      <td>...</td>\n",
       "      <td>...</td>\n",
       "      <td>...</td>\n",
       "    </tr>\n",
       "    <tr>\n",
       "      <th>20496</th>\n",
       "      <td>127488</td>\n",
       "      <td>1932-02-13</td>\n",
       "      <td>-23.0</td>\n",
       "      <td>0</td>\n",
       "      <td>2</td>\n",
       "      <td>1932</td>\n",
       "      <td>13</td>\n",
       "      <td>33.0</td>\n",
       "      <td>-0.589286</td>\n",
       "      <td>84.394521</td>\n",
       "      <td>-107.394521</td>\n",
       "      <td>-83.064292</td>\n",
       "      <td>-24.330228</td>\n",
       "    </tr>\n",
       "    <tr>\n",
       "      <th>20497</th>\n",
       "      <td>127488</td>\n",
       "      <td>1932-02-14</td>\n",
       "      <td>4.0</td>\n",
       "      <td>0</td>\n",
       "      <td>2</td>\n",
       "      <td>1932</td>\n",
       "      <td>14</td>\n",
       "      <td>27.0</td>\n",
       "      <td>-1.173913</td>\n",
       "      <td>84.460274</td>\n",
       "      <td>-80.460274</td>\n",
       "      <td>-84.552968</td>\n",
       "      <td>4.092694</td>\n",
       "    </tr>\n",
       "    <tr>\n",
       "      <th>20498</th>\n",
       "      <td>127488</td>\n",
       "      <td>1932-02-15</td>\n",
       "      <td>14.0</td>\n",
       "      <td>0</td>\n",
       "      <td>2</td>\n",
       "      <td>1932</td>\n",
       "      <td>15</td>\n",
       "      <td>10.0</td>\n",
       "      <td>2.500000</td>\n",
       "      <td>84.641096</td>\n",
       "      <td>-70.641096</td>\n",
       "      <td>-85.613059</td>\n",
       "      <td>14.971963</td>\n",
       "    </tr>\n",
       "    <tr>\n",
       "      <th>20499</th>\n",
       "      <td>127488</td>\n",
       "      <td>1932-02-16</td>\n",
       "      <td>8.0</td>\n",
       "      <td>0</td>\n",
       "      <td>2</td>\n",
       "      <td>1932</td>\n",
       "      <td>16</td>\n",
       "      <td>-6.0</td>\n",
       "      <td>-0.428571</td>\n",
       "      <td>84.660274</td>\n",
       "      <td>-76.660274</td>\n",
       "      <td>-87.170959</td>\n",
       "      <td>10.510685</td>\n",
       "    </tr>\n",
       "    <tr>\n",
       "      <th>20500</th>\n",
       "      <td>127488</td>\n",
       "      <td>1932-02-17</td>\n",
       "      <td>-8.0</td>\n",
       "      <td>0</td>\n",
       "      <td>2</td>\n",
       "      <td>1932</td>\n",
       "      <td>17</td>\n",
       "      <td>-16.0</td>\n",
       "      <td>-2.000000</td>\n",
       "      <td>84.630137</td>\n",
       "      <td>-92.630137</td>\n",
       "      <td>-89.689224</td>\n",
       "      <td>-2.940913</td>\n",
       "    </tr>\n",
       "  </tbody>\n",
       "</table>\n",
       "<p>500 rows × 13 columns</p>\n",
       "</div>"
      ],
      "text/plain": [
       "        SOUID       DATE     TG  Q_TG  month  year  day  diff  pct_change  \\\n",
       "20001  127488 1930-10-06   93.0     0     10  1930    6 -33.0   -0.261905   \n",
       "20002  127488 1930-10-07   93.0     0     10  1930    7   0.0    0.000000   \n",
       "20003  127488 1930-10-08  108.0     0     10  1930    8  15.0    0.161290   \n",
       "20004  127488 1930-10-09  100.0     0     10  1930    9  -8.0   -0.074074   \n",
       "20005  127488 1930-10-10   89.0     0     10  1930   10 -11.0   -0.110000   \n",
       "...       ...        ...    ...   ...    ...   ...  ...   ...         ...   \n",
       "20496  127488 1932-02-13  -23.0     0      2  1932   13  33.0   -0.589286   \n",
       "20497  127488 1932-02-14    4.0     0      2  1932   14  27.0   -1.173913   \n",
       "20498  127488 1932-02-15   14.0     0      2  1932   15  10.0    2.500000   \n",
       "20499  127488 1932-02-16    8.0     0      2  1932   16  -6.0   -0.428571   \n",
       "20500  127488 1932-02-17   -8.0     0      2  1932   17 -16.0   -2.000000   \n",
       "\n",
       "         rolling  TG_wo_Trend   seasonal   residual  \n",
       "20001  95.547945    -2.547945  27.641279 -30.189224  \n",
       "20002  95.465753    -2.465753  26.160639 -28.626393  \n",
       "20003  95.334247    12.665753  25.416347 -12.750594  \n",
       "20004  95.298630     4.701370  24.366484 -19.665114  \n",
       "20005  95.276712    -6.276712  22.849680 -29.126393  \n",
       "...          ...          ...        ...        ...  \n",
       "20496  84.394521  -107.394521 -83.064292 -24.330228  \n",
       "20497  84.460274   -80.460274 -84.552968   4.092694  \n",
       "20498  84.641096   -70.641096 -85.613059  14.971963  \n",
       "20499  84.660274   -76.660274 -87.170959  10.510685  \n",
       "20500  84.630137   -92.630137 -89.689224  -2.940913  \n",
       "\n",
       "[500 rows x 13 columns]"
      ]
     },
     "execution_count": 54,
     "metadata": {},
     "output_type": "execute_result"
    }
   ],
   "source": [
    "df.iloc[20000:20500]"
   ]
  },
  {
   "cell_type": "code",
   "execution_count": 55,
   "metadata": {},
   "outputs": [
    {
     "data": {
      "text/plain": [
       "<matplotlib.axes._subplots.AxesSubplot at 0x194ac2dcc08>"
      ]
     },
     "execution_count": 55,
     "metadata": {},
     "output_type": "execute_result"
    },
    {
     "data": {
      "image/png": "[encoded data removed]",
      "text/plain": [
       "<Figure size 432x288 with 1 Axes>"
      ]
     },
     "metadata": {
      "needs_background": "light"
     },
     "output_type": "display_data"
    }
   ],
   "source": [
    "df['rolling'].iloc[20000:20500].plot()\n",
    "df['TG'].iloc[20000:20500].plot()\n",
    "df['residual'].iloc[20000:20500].plot()\n",
    "df['seasonal'].iloc[20000:20500].plot()"
   ]
  },
  {
   "cell_type": "code",
   "execution_count": 56,
   "metadata": {},
   "outputs": [],
   "source": [
    "#now lets check on the autocorrelation of the different columns"
   ]
  },
  {
   "cell_type": "code",
   "execution_count": 57,
   "metadata": {},
   "outputs": [
    {
     "name": "stderr",
     "output_type": "stream",
     "text": [
      "C:\\Users\\Affetheking\\anaconda3\\lib\\site-packages\\statsmodels\\regression\\linear_model.py:1406: RuntimeWarning: invalid value encountered in sqrt\n",
      "  return rho, np.sqrt(sigmasq)\n"
     ]
    },
    {
     "data": {
      "image/png": "[encoded data removed]",
      "text/plain": [
       "<Figure size 432x288 with 1 Axes>"
      ]
     },
     "metadata": {
      "needs_background": "light"
     },
     "output_type": "display_data"
    },
    {
     "data": {
      "image/png": "[encoded data removed]",
      "text/plain": [
       "<Figure size 432x288 with 1 Axes>"
      ]
     },
     "metadata": {
      "needs_background": "light"
     },
     "output_type": "display_data"
    }
   ],
   "source": [
    "plot_acf(df['rolling'].iloc[-5000:]);\n",
    "plot_pacf(df['rolling'].iloc[-5000:]); # autocorrelation of the trend is massive as was to be expected"
   ]
  },
  {
   "cell_type": "code",
   "execution_count": 58,
   "metadata": {},
   "outputs": [
    {
     "data": {
      "image/png": "[encoded data removed]",
      "text/plain": [
       "<Figure size 432x288 with 1 Axes>"
      ]
     },
     "metadata": {
      "needs_background": "light"
     },
     "output_type": "display_data"
    },
    {
     "data": {
      "image/png": "[encoded data removed]",
      "text/plain": [
       "<Figure size 432x288 with 1 Axes>"
      ]
     },
     "metadata": {
      "needs_background": "light"
     },
     "output_type": "display_data"
    }
   ],
   "source": [
    "plot_acf(df['TG'].iloc[-5000:]);\n",
    "plot_pacf(df['TG'].iloc[-5000:]);"
   ]
  },
  {
   "cell_type": "code",
   "execution_count": 59,
   "metadata": {},
   "outputs": [
    {
     "name": "stderr",
     "output_type": "stream",
     "text": [
      "C:\\Users\\Affetheking\\anaconda3\\lib\\site-packages\\statsmodels\\regression\\linear_model.py:1406: RuntimeWarning: invalid value encountered in sqrt\n",
      "  return rho, np.sqrt(sigmasq)\n"
     ]
    },
    {
     "data": {
      "image/png": "[encoded data removed]",
      "text/plain": [
       "<Figure size 432x288 with 1 Axes>"
      ]
     },
     "metadata": {
      "needs_background": "light"
     },
     "output_type": "display_data"
    },
    {
     "data": {
      "image/png": "[encoded data removed]",
      "text/plain": [
       "<Figure size 432x288 with 1 Axes>"
      ]
     },
     "metadata": {
      "needs_background": "light"
     },
     "output_type": "display_data"
    }
   ],
   "source": [
    "plot_acf(df['seasonal'].iloc[-5000:]);\n",
    "plot_pacf(df['seasonal'].iloc[-5000:]);"
   ]
  },
  {
   "cell_type": "code",
   "execution_count": 60,
   "metadata": {},
   "outputs": [
    {
     "data": {
      "image/png": "[encoded data removed]",
      "text/plain": [
       "<Figure size 432x288 with 1 Axes>"
      ]
     },
     "metadata": {
      "needs_background": "light"
     },
     "output_type": "display_data"
    },
    {
     "data": {
      "image/png": "[encoded data removed]",
      "text/plain": [
       "<Figure size 432x288 with 1 Axes>"
      ]
     },
     "metadata": {
      "needs_background": "light"
     },
     "output_type": "display_data"
    }
   ],
   "source": [
    "plot_acf(df['residual'].iloc[-5000:]);\n",
    "plot_pacf(df['residual'].iloc[-5000:]); # the residual seems to still contain some information."
   ]
  },
  {
   "cell_type": "code",
   "execution_count": 61,
   "metadata": {},
   "outputs": [
    {
     "data": {
      "text/plain": [
       "(array([  1.,   0.,   1.,   1.,   0.,   0.,   3.,   0.,   0.,   0.,   3.,\n",
       "          2.,   0.,   0.,   1.,   1.,   0.,   3.,   1.,   0.,   2.,   3.,\n",
       "          4.,   5.,  10.,   8.,  13.,  19.,  14.,  21.,  28.,  33.,  33.,\n",
       "         40.,  39.,  56.,  62.,  68.,  84.,  90.,  97., 106., 125., 124.,\n",
       "        125., 149., 158., 131., 164., 172., 153., 171., 171., 156., 148.,\n",
       "        151., 154., 142., 152., 139., 133., 117., 118., 116.,  85., 112.,\n",
       "         81.,  90.,  78.,  68.,  64.,  64.,  42.,  39.,  45.,  36.,  28.,\n",
       "         17.,  18.,  13.,  14.,  12.,  17.,  14.,   9.,   4.,   5.,   5.,\n",
       "          1.,   5.,   6.,   1.,   1.,   0.,   1.,   1.,   0.,   1.,   1.,\n",
       "          1.]),\n",
       " array([-168.58401826, -165.42724658, -162.27047489, -159.1137032 ,\n",
       "        -155.95693151, -152.80015982, -149.64338813, -146.48661644,\n",
       "        -143.32984475, -140.17307306, -137.01630137, -133.85952968,\n",
       "        -130.70275799, -127.5459863 , -124.38921461, -121.23244292,\n",
       "        -118.07567123, -114.91889954, -111.76212785, -108.60535616,\n",
       "        -105.44858447, -102.29181279,  -99.1350411 ,  -95.97826941,\n",
       "         -92.82149772,  -89.66472603,  -86.50795434,  -83.35118265,\n",
       "         -80.19441096,  -77.03763927,  -73.88086758,  -70.72409589,\n",
       "         -67.5673242 ,  -64.41055251,  -61.25378082,  -58.09700913,\n",
       "         -54.94023744,  -51.78346575,  -48.62669406,  -45.46992237,\n",
       "         -42.31315068,  -39.156379  ,  -35.99960731,  -32.84283562,\n",
       "         -29.68606393,  -26.52929224,  -23.37252055,  -20.21574886,\n",
       "         -17.05897717,  -13.90220548,  -10.74543379,   -7.5886621 ,\n",
       "          -4.43189041,   -1.27511872,    1.88165297,    5.03842466,\n",
       "           8.19519635,   11.35196804,   14.50873973,   17.66551142,\n",
       "          20.82228311,   23.97905479,   27.13582648,   30.29259817,\n",
       "          33.44936986,   36.60614155,   39.76291324,   42.91968493,\n",
       "          46.07645662,   49.23322831,   52.39      ,   55.54677169,\n",
       "          58.70354338,   61.86031507,   65.01708676,   68.17385845,\n",
       "          71.33063014,   74.48740183,   77.64417352,   80.80094521,\n",
       "          83.95771689,   87.11448858,   90.27126027,   93.42803196,\n",
       "          96.58480365,   99.74157534,  102.89834703,  106.05511872,\n",
       "         109.21189041,  112.3686621 ,  115.52543379,  118.68220548,\n",
       "         121.83897717,  124.99574886,  128.15252055,  131.30929224,\n",
       "         134.46606393,  137.62283562,  140.77960731,  143.936379  ,\n",
       "         147.09315068]),\n",
       " <a list of 100 Patch objects>)"
      ]
     },
     "execution_count": 61,
     "metadata": {},
     "output_type": "execute_result"
    },
    {
     "data": {
      "image/png": "[encoded data removed]",
      "text/plain": [
       "<Figure size 432x288 with 1 Axes>"
      ]
     },
     "metadata": {
      "needs_background": "light"
     },
     "output_type": "display_data"
    }
   ],
   "source": [
    "plt.hist(df['residual'].iloc[-5000:], bins = 100) #but the residual is normally distributed"
   ]
  },
  {
   "cell_type": "markdown",
   "metadata": {},
   "source": [
    "## diff of the residual"
   ]
  },
  {
   "cell_type": "code",
   "execution_count": 65,
   "metadata": {},
   "outputs": [
    {
     "data": {
      "text/html": [
       "<div>\n",
       "<style scoped>\n",
       "    .dataframe tbody tr th:only-of-type {\n",
       "        vertical-align: middle;\n",
       "    }\n",
       "\n",
       "    .dataframe tbody tr th {\n",
       "        vertical-align: top;\n",
       "    }\n",
       "\n",
       "    .dataframe thead th {\n",
       "        text-align: right;\n",
       "    }\n",
       "</style>\n",
       "<table border=\"1\" class=\"dataframe\">\n",
       "  <thead>\n",
       "    <tr style=\"text-align: right;\">\n",
       "      <th></th>\n",
       "      <th>SOUID</th>\n",
       "      <th>DATE</th>\n",
       "      <th>TG</th>\n",
       "      <th>Q_TG</th>\n",
       "      <th>month</th>\n",
       "      <th>year</th>\n",
       "      <th>day</th>\n",
       "      <th>diff</th>\n",
       "      <th>pct_change</th>\n",
       "      <th>rolling</th>\n",
       "      <th>TG_wo_Trend</th>\n",
       "      <th>seasonal</th>\n",
       "      <th>residual</th>\n",
       "      <th>res_diff</th>\n",
       "    </tr>\n",
       "  </thead>\n",
       "  <tbody>\n",
       "    <tr>\n",
       "      <th>4001</th>\n",
       "      <td>127488</td>\n",
       "      <td>1886-12-15</td>\n",
       "      <td>59.0</td>\n",
       "      <td>0</td>\n",
       "      <td>12</td>\n",
       "      <td>1886</td>\n",
       "      <td>15</td>\n",
       "      <td>33.0</td>\n",
       "      <td>1.269231</td>\n",
       "      <td>81.709589</td>\n",
       "      <td>-22.709589</td>\n",
       "      <td>-45.286027</td>\n",
       "      <td>22.576438</td>\n",
       "      <td>33.077169</td>\n",
       "    </tr>\n",
       "    <tr>\n",
       "      <th>4002</th>\n",
       "      <td>127488</td>\n",
       "      <td>1886-12-16</td>\n",
       "      <td>54.0</td>\n",
       "      <td>0</td>\n",
       "      <td>12</td>\n",
       "      <td>1886</td>\n",
       "      <td>16</td>\n",
       "      <td>-5.0</td>\n",
       "      <td>-0.084746</td>\n",
       "      <td>81.786301</td>\n",
       "      <td>-27.786301</td>\n",
       "      <td>-45.612877</td>\n",
       "      <td>17.826575</td>\n",
       "      <td>-4.749863</td>\n",
       "    </tr>\n",
       "    <tr>\n",
       "      <th>4003</th>\n",
       "      <td>127488</td>\n",
       "      <td>1886-12-17</td>\n",
       "      <td>17.0</td>\n",
       "      <td>0</td>\n",
       "      <td>12</td>\n",
       "      <td>1886</td>\n",
       "      <td>17</td>\n",
       "      <td>-37.0</td>\n",
       "      <td>-0.685185</td>\n",
       "      <td>81.715068</td>\n",
       "      <td>-64.715068</td>\n",
       "      <td>-47.395434</td>\n",
       "      <td>-17.319635</td>\n",
       "      <td>-35.146210</td>\n",
       "    </tr>\n",
       "    <tr>\n",
       "      <th>4004</th>\n",
       "      <td>127488</td>\n",
       "      <td>1886-12-18</td>\n",
       "      <td>14.0</td>\n",
       "      <td>0</td>\n",
       "      <td>12</td>\n",
       "      <td>1886</td>\n",
       "      <td>18</td>\n",
       "      <td>-3.0</td>\n",
       "      <td>-0.176471</td>\n",
       "      <td>81.676712</td>\n",
       "      <td>-67.676712</td>\n",
       "      <td>-49.102374</td>\n",
       "      <td>-18.574338</td>\n",
       "      <td>-1.254703</td>\n",
       "    </tr>\n",
       "    <tr>\n",
       "      <th>4005</th>\n",
       "      <td>127488</td>\n",
       "      <td>1886-12-19</td>\n",
       "      <td>-3.0</td>\n",
       "      <td>0</td>\n",
       "      <td>12</td>\n",
       "      <td>1886</td>\n",
       "      <td>19</td>\n",
       "      <td>-17.0</td>\n",
       "      <td>-1.214286</td>\n",
       "      <td>81.706849</td>\n",
       "      <td>-84.706849</td>\n",
       "      <td>-51.035434</td>\n",
       "      <td>-33.671416</td>\n",
       "      <td>-15.097078</td>\n",
       "    </tr>\n",
       "    <tr>\n",
       "      <th>...</th>\n",
       "      <td>...</td>\n",
       "      <td>...</td>\n",
       "      <td>...</td>\n",
       "      <td>...</td>\n",
       "      <td>...</td>\n",
       "      <td>...</td>\n",
       "      <td>...</td>\n",
       "      <td>...</td>\n",
       "      <td>...</td>\n",
       "      <td>...</td>\n",
       "      <td>...</td>\n",
       "      <td>...</td>\n",
       "      <td>...</td>\n",
       "      <td>...</td>\n",
       "    </tr>\n",
       "    <tr>\n",
       "      <th>4496</th>\n",
       "      <td>127488</td>\n",
       "      <td>1888-04-23</td>\n",
       "      <td>116.0</td>\n",
       "      <td>0</td>\n",
       "      <td>4</td>\n",
       "      <td>1888</td>\n",
       "      <td>23</td>\n",
       "      <td>12.0</td>\n",
       "      <td>0.115385</td>\n",
       "      <td>82.600000</td>\n",
       "      <td>33.400000</td>\n",
       "      <td>-13.909224</td>\n",
       "      <td>47.309224</td>\n",
       "      <td>9.366210</td>\n",
       "    </tr>\n",
       "    <tr>\n",
       "      <th>4497</th>\n",
       "      <td>127488</td>\n",
       "      <td>1888-04-24</td>\n",
       "      <td>134.0</td>\n",
       "      <td>0</td>\n",
       "      <td>4</td>\n",
       "      <td>1888</td>\n",
       "      <td>24</td>\n",
       "      <td>18.0</td>\n",
       "      <td>0.155172</td>\n",
       "      <td>82.578082</td>\n",
       "      <td>51.421918</td>\n",
       "      <td>-11.042648</td>\n",
       "      <td>62.464566</td>\n",
       "      <td>15.155342</td>\n",
       "    </tr>\n",
       "    <tr>\n",
       "      <th>4498</th>\n",
       "      <td>127488</td>\n",
       "      <td>1888-04-25</td>\n",
       "      <td>87.0</td>\n",
       "      <td>0</td>\n",
       "      <td>4</td>\n",
       "      <td>1888</td>\n",
       "      <td>25</td>\n",
       "      <td>-47.0</td>\n",
       "      <td>-0.350746</td>\n",
       "      <td>82.454795</td>\n",
       "      <td>4.545205</td>\n",
       "      <td>-9.606393</td>\n",
       "      <td>14.151598</td>\n",
       "      <td>-48.312968</td>\n",
       "    </tr>\n",
       "    <tr>\n",
       "      <th>4499</th>\n",
       "      <td>127488</td>\n",
       "      <td>1888-04-26</td>\n",
       "      <td>35.0</td>\n",
       "      <td>0</td>\n",
       "      <td>4</td>\n",
       "      <td>1888</td>\n",
       "      <td>26</td>\n",
       "      <td>-52.0</td>\n",
       "      <td>-0.597701</td>\n",
       "      <td>82.241096</td>\n",
       "      <td>-47.241096</td>\n",
       "      <td>-10.063014</td>\n",
       "      <td>-37.178082</td>\n",
       "      <td>-51.329680</td>\n",
       "    </tr>\n",
       "    <tr>\n",
       "      <th>4500</th>\n",
       "      <td>127488</td>\n",
       "      <td>1888-04-27</td>\n",
       "      <td>44.0</td>\n",
       "      <td>0</td>\n",
       "      <td>4</td>\n",
       "      <td>1888</td>\n",
       "      <td>27</td>\n",
       "      <td>9.0</td>\n",
       "      <td>0.257143</td>\n",
       "      <td>81.991781</td>\n",
       "      <td>-37.991781</td>\n",
       "      <td>-11.174155</td>\n",
       "      <td>-26.817626</td>\n",
       "      <td>10.360457</td>\n",
       "    </tr>\n",
       "  </tbody>\n",
       "</table>\n",
       "<p>500 rows × 14 columns</p>\n",
       "</div>"
      ],
      "text/plain": [
       "       SOUID       DATE     TG  Q_TG  month  year  day  diff  pct_change  \\\n",
       "4001  127488 1886-12-15   59.0     0     12  1886   15  33.0    1.269231   \n",
       "4002  127488 1886-12-16   54.0     0     12  1886   16  -5.0   -0.084746   \n",
       "4003  127488 1886-12-17   17.0     0     12  1886   17 -37.0   -0.685185   \n",
       "4004  127488 1886-12-18   14.0     0     12  1886   18  -3.0   -0.176471   \n",
       "4005  127488 1886-12-19   -3.0     0     12  1886   19 -17.0   -1.214286   \n",
       "...      ...        ...    ...   ...    ...   ...  ...   ...         ...   \n",
       "4496  127488 1888-04-23  116.0     0      4  1888   23  12.0    0.115385   \n",
       "4497  127488 1888-04-24  134.0     0      4  1888   24  18.0    0.155172   \n",
       "4498  127488 1888-04-25   87.0     0      4  1888   25 -47.0   -0.350746   \n",
       "4499  127488 1888-04-26   35.0     0      4  1888   26 -52.0   -0.597701   \n",
       "4500  127488 1888-04-27   44.0     0      4  1888   27   9.0    0.257143   \n",
       "\n",
       "        rolling  TG_wo_Trend   seasonal   residual   res_diff  \n",
       "4001  81.709589   -22.709589 -45.286027  22.576438  33.077169  \n",
       "4002  81.786301   -27.786301 -45.612877  17.826575  -4.749863  \n",
       "4003  81.715068   -64.715068 -47.395434 -17.319635 -35.146210  \n",
       "4004  81.676712   -67.676712 -49.102374 -18.574338  -1.254703  \n",
       "4005  81.706849   -84.706849 -51.035434 -33.671416 -15.097078  \n",
       "...         ...          ...        ...        ...        ...  \n",
       "4496  82.600000    33.400000 -13.909224  47.309224   9.366210  \n",
       "4497  82.578082    51.421918 -11.042648  62.464566  15.155342  \n",
       "4498  82.454795     4.545205  -9.606393  14.151598 -48.312968  \n",
       "4499  82.241096   -47.241096 -10.063014 -37.178082 -51.329680  \n",
       "4500  81.991781   -37.991781 -11.174155 -26.817626  10.360457  \n",
       "\n",
       "[500 rows x 14 columns]"
      ]
     },
     "execution_count": 65,
     "metadata": {},
     "output_type": "execute_result"
    }
   ],
   "source": [
    "df['res_diff'] = df['residual'].diff()\n",
    "df.iloc[4000:4500]"
   ]
  },
  {
   "cell_type": "code",
   "execution_count": 68,
   "metadata": {},
   "outputs": [
    {
     "data": {
      "text/plain": [
       "<matplotlib.axes._subplots.AxesSubplot at 0x194b0e7c808>"
      ]
     },
     "execution_count": 68,
     "metadata": {},
     "output_type": "execute_result"
    },
    {
     "data": {
      "image/png": "[encoded data removed]",
      "text/plain": [
       "<Figure size 432x288 with 1 Axes>"
      ]
     },
     "metadata": {
      "needs_background": "light"
     },
     "output_type": "display_data"
    }
   ],
   "source": [
    "df['res_diff'].plot()"
   ]
  },
  {
   "cell_type": "code",
   "execution_count": 69,
   "metadata": {},
   "outputs": [
    {
     "data": {
      "text/plain": [
       "-0.0004044330115123135"
      ]
     },
     "execution_count": 69,
     "metadata": {},
     "output_type": "execute_result"
    }
   ],
   "source": [
    "df['res_diff'].mean()"
   ]
  },
  {
   "cell_type": "code",
   "execution_count": 74,
   "metadata": {},
   "outputs": [
    {
     "data": {
      "text/plain": [
       "(array([1.000e+00, 0.000e+00, 0.000e+00, 0.000e+00, 2.000e+00, 0.000e+00,\n",
       "        1.000e+00, 1.000e+00, 3.000e+00, 1.000e+00, 5.000e+00, 4.000e+00,\n",
       "        3.000e+00, 5.000e+00, 6.000e+00, 1.200e+01, 1.400e+01, 1.500e+01,\n",
       "        1.600e+01, 1.500e+01, 2.100e+01, 3.200e+01, 4.100e+01, 4.000e+01,\n",
       "        4.000e+01, 4.800e+01, 6.000e+01, 8.200e+01, 8.300e+01, 1.120e+02,\n",
       "        1.590e+02, 1.790e+02, 2.040e+02, 2.290e+02, 3.040e+02, 3.520e+02,\n",
       "        4.260e+02, 5.140e+02, 5.870e+02, 7.180e+02, 8.160e+02, 9.500e+02,\n",
       "        1.113e+03, 1.287e+03, 1.442e+03, 1.684e+03, 1.779e+03, 2.059e+03,\n",
       "        2.169e+03, 2.294e+03, 2.533e+03, 2.477e+03, 2.564e+03, 2.441e+03,\n",
       "        2.375e+03, 2.242e+03, 2.184e+03, 1.902e+03, 1.744e+03, 1.596e+03,\n",
       "        1.325e+03, 1.169e+03, 9.640e+02, 8.180e+02, 6.910e+02, 5.730e+02,\n",
       "        4.680e+02, 3.750e+02, 3.610e+02, 2.620e+02, 2.150e+02, 1.680e+02,\n",
       "        1.340e+02, 8.400e+01, 8.500e+01, 6.400e+01, 6.500e+01, 3.700e+01,\n",
       "        2.500e+01, 2.100e+01, 1.900e+01, 1.700e+01, 1.300e+01, 1.400e+01,\n",
       "        8.000e+00, 6.000e+00, 9.000e+00, 4.000e+00, 2.000e+00, 2.000e+00,\n",
       "        3.000e+00, 2.000e+00, 2.000e+00, 2.000e+00, 1.000e+00, 1.000e+00,\n",
       "        1.000e+00, 1.000e+00, 1.000e+00, 2.000e+00]),\n",
       " array([-136.7052968 , -134.06701461, -131.42873242, -128.79045023,\n",
       "        -126.15216804, -123.51388584, -120.87560365, -118.23732146,\n",
       "        -115.59903927, -112.96075708, -110.32247489, -107.68419269,\n",
       "        -105.0459105 , -102.40762831,  -99.76934612,  -97.13106393,\n",
       "         -94.49278174,  -91.85449954,  -89.21621735,  -86.57793516,\n",
       "         -83.93965297,  -81.30137078,  -78.66308858,  -76.02480639,\n",
       "         -73.3865242 ,  -70.74824201,  -68.10995982,  -65.47167763,\n",
       "         -62.83339543,  -60.19511324,  -57.55683105,  -54.91854886,\n",
       "         -52.28026667,  -49.64198447,  -47.00370228,  -44.36542009,\n",
       "         -41.7271379 ,  -39.08885571,  -36.45057352,  -33.81229132,\n",
       "         -31.17400913,  -28.53572694,  -25.89744475,  -23.25916256,\n",
       "         -20.62088037,  -17.98259817,  -15.34431598,  -12.70603379,\n",
       "         -10.0677516 ,   -7.42946941,   -4.79118721,   -2.15290502,\n",
       "           0.48537717,    3.12365936,    5.76194155,    8.40022374,\n",
       "          11.03850594,   13.67678813,   16.31507032,   18.95335251,\n",
       "          21.5916347 ,   24.22991689,   26.86819909,   29.50648128,\n",
       "          32.14476347,   34.78304566,   37.42132785,   40.05961005,\n",
       "          42.69789224,   45.33617443,   47.97445662,   50.61273881,\n",
       "          53.251021  ,   55.8893032 ,   58.52758539,   61.16586758,\n",
       "          63.80414977,   66.44243196,   69.08071416,   71.71899635,\n",
       "          74.35727854,   76.99556073,   79.63384292,   82.27212511,\n",
       "          84.91040731,   87.5486895 ,   90.18697169,   92.82525388,\n",
       "          95.46353607,   98.10181826,  100.74010046,  103.37838265,\n",
       "         106.01666484,  108.65494703,  111.29322922,  113.93151142,\n",
       "         116.56979361,  119.2080758 ,  121.84635799,  124.48464018,\n",
       "         127.12292237]),\n",
       " <a list of 100 Patch objects>)"
      ]
     },
     "execution_count": 74,
     "metadata": {},
     "output_type": "execute_result"
    },
    {
     "data": {
      "image/png": "[encoded data removed]",
      "text/plain": [
       "<Figure size 432x288 with 1 Axes>"
      ]
     },
     "metadata": {
      "needs_background": "light"
     },
     "output_type": "display_data"
    }
   ],
   "source": [
    "plt.hist(df['res_diff'].iloc[-50000:], bins = 100) #but the residual is normally distributed"
   ]
  },
  {
   "cell_type": "code",
   "execution_count": null,
   "metadata": {},
   "outputs": [],
   "source": []
  },
  {
   "cell_type": "code",
   "execution_count": null,
   "metadata": {},
   "outputs": [],
   "source": []
  }
 ],
 "metadata": {
  "kernelspec": {
   "display_name": "Python 3",
   "language": "python",
   "name": "python3"
  },
  "language_info": {
   "codemirror_mode": {
    "name": "ipython",
    "version": 3
   },
   "file_extension": ".py",
   "mimetype": "text/x-python",
   "name": "python",
   "nbconvert_exporter": "python",
   "pygments_lexer": "ipython3",
   "version": "3.7.6"
  }
 },
 "nbformat": 4,
 "nbformat_minor": 4
}
