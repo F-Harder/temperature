{
 "cells": [
  {
   "cell_type": "code",
   "execution_count": 1,
   "metadata": {},
   "outputs": [],
   "source": [
    "import pandas as pd\n",
    "from matplotlib import pyplot as plt\n",
    "import numpy as np\n",
    "import seaborn as sns\n",
    "import math\n",
    "from sklearn.linear_model import LinearRegression\n",
    "from statsmodels.tsa.ar_model import AutoReg\n",
    "from sklearn.model_selection import TimeSeriesSplit\n",
    "from sklearn.metrics import mean_squared_error, mean_squared_log_error, \\\n",
    "mean_absolute_error, r2_score\n",
    "from sklearn.model_selection import TimeSeriesSplit"
   ]
  },
  {
   "cell_type": "code",
   "execution_count": 2,
   "metadata": {},
   "outputs": [
    {
     "name": "stderr",
     "output_type": "stream",
     "text": [
      "C:\\Users\\Affetheking\\anaconda3\\lib\\site-packages\\ipykernel_launcher.py:1: ParserWarning: Falling back to the 'python' engine because the 'c' engine does not support skipfooter; you can avoid this warning by specifying engine='python'.\n",
      "  \"\"\"Entry point for launching an IPython kernel.\n"
     ]
    }
   ],
   "source": [
    "df = pd.read_csv('../data/TG_STAID002759.txt', sep=',', comment='%', skiprows=18, skipfooter=10)"
   ]
  },
  {
   "cell_type": "code",
   "execution_count": 3,
   "metadata": {},
   "outputs": [
    {
     "data": {
      "text/html": [
       "<div>\n",
       "<style scoped>\n",
       "    .dataframe tbody tr th:only-of-type {\n",
       "        vertical-align: middle;\n",
       "    }\n",
       "\n",
       "    .dataframe tbody tr th {\n",
       "        vertical-align: top;\n",
       "    }\n",
       "\n",
       "    .dataframe thead th {\n",
       "        text-align: right;\n",
       "    }\n",
       "</style>\n",
       "<table border=\"1\" class=\"dataframe\">\n",
       "  <thead>\n",
       "    <tr style=\"text-align: right;\">\n",
       "      <th></th>\n",
       "      <th>SOUID</th>\n",
       "      <th>DATE</th>\n",
       "      <th>TG</th>\n",
       "      <th>Q_TG</th>\n",
       "    </tr>\n",
       "  </thead>\n",
       "  <tbody>\n",
       "    <tr>\n",
       "      <th>0</th>\n",
       "      <td>127488</td>\n",
       "      <td>18760101</td>\n",
       "      <td>22</td>\n",
       "      <td>0</td>\n",
       "    </tr>\n",
       "    <tr>\n",
       "      <th>1</th>\n",
       "      <td>127488</td>\n",
       "      <td>18760102</td>\n",
       "      <td>25</td>\n",
       "      <td>0</td>\n",
       "    </tr>\n",
       "    <tr>\n",
       "      <th>2</th>\n",
       "      <td>127488</td>\n",
       "      <td>18760103</td>\n",
       "      <td>3</td>\n",
       "      <td>0</td>\n",
       "    </tr>\n",
       "    <tr>\n",
       "      <th>3</th>\n",
       "      <td>127488</td>\n",
       "      <td>18760104</td>\n",
       "      <td>-58</td>\n",
       "      <td>0</td>\n",
       "    </tr>\n",
       "    <tr>\n",
       "      <th>4</th>\n",
       "      <td>127488</td>\n",
       "      <td>18760105</td>\n",
       "      <td>-98</td>\n",
       "      <td>0</td>\n",
       "    </tr>\n",
       "    <tr>\n",
       "      <th>...</th>\n",
       "      <td>...</td>\n",
       "      <td>...</td>\n",
       "      <td>...</td>\n",
       "      <td>...</td>\n",
       "    </tr>\n",
       "    <tr>\n",
       "      <th>52854</th>\n",
       "      <td>111448</td>\n",
       "      <td>20200916</td>\n",
       "      <td>221</td>\n",
       "      <td>0</td>\n",
       "    </tr>\n",
       "    <tr>\n",
       "      <th>52855</th>\n",
       "      <td>111448</td>\n",
       "      <td>20200917</td>\n",
       "      <td>146</td>\n",
       "      <td>0</td>\n",
       "    </tr>\n",
       "    <tr>\n",
       "      <th>52856</th>\n",
       "      <td>111448</td>\n",
       "      <td>20200918</td>\n",
       "      <td>130</td>\n",
       "      <td>0</td>\n",
       "    </tr>\n",
       "    <tr>\n",
       "      <th>52857</th>\n",
       "      <td>111448</td>\n",
       "      <td>20200919</td>\n",
       "      <td>144</td>\n",
       "      <td>0</td>\n",
       "    </tr>\n",
       "    <tr>\n",
       "      <th>52858</th>\n",
       "      <td>111448</td>\n",
       "      <td>20200920</td>\n",
       "      <td>159</td>\n",
       "      <td>0</td>\n",
       "    </tr>\n",
       "  </tbody>\n",
       "</table>\n",
       "<p>52859 rows × 4 columns</p>\n",
       "</div>"
      ],
      "text/plain": [
       "        SOUID      DATE     TG   Q_TG\n",
       "0      127488  18760101     22      0\n",
       "1      127488  18760102     25      0\n",
       "2      127488  18760103      3      0\n",
       "3      127488  18760104    -58      0\n",
       "4      127488  18760105    -98      0\n",
       "...       ...       ...    ...    ...\n",
       "52854  111448  20200916    221      0\n",
       "52855  111448  20200917    146      0\n",
       "52856  111448  20200918    130      0\n",
       "52857  111448  20200919    144      0\n",
       "52858  111448  20200920    159      0\n",
       "\n",
       "[52859 rows x 4 columns]"
      ]
     },
     "execution_count": 3,
     "metadata": {},
     "output_type": "execute_result"
    }
   ],
   "source": [
    "df"
   ]
  },
  {
   "cell_type": "code",
   "execution_count": 4,
   "metadata": {},
   "outputs": [],
   "source": [
    "df.columns = [\"SOUID\", \"DATE\", \"TG\", \"Q_TG\"]"
   ]
  },
  {
   "cell_type": "code",
   "execution_count": 5,
   "metadata": {},
   "outputs": [],
   "source": [
    "df['DATE'] = pd.to_datetime(df['DATE'], format='%Y%m%d')\n",
    "df['month'] = df['DATE'].dt.month\n",
    "df['year'] = df['DATE'].dt.year\n",
    "df['day'] = df['DATE'].dt.day"
   ]
  },
  {
   "cell_type": "code",
   "execution_count": 6,
   "metadata": {},
   "outputs": [
    {
     "data": {
      "text/html": [
       "<div>\n",
       "<style scoped>\n",
       "    .dataframe tbody tr th:only-of-type {\n",
       "        vertical-align: middle;\n",
       "    }\n",
       "\n",
       "    .dataframe tbody tr th {\n",
       "        vertical-align: top;\n",
       "    }\n",
       "\n",
       "    .dataframe thead th {\n",
       "        text-align: right;\n",
       "    }\n",
       "</style>\n",
       "<table border=\"1\" class=\"dataframe\">\n",
       "  <thead>\n",
       "    <tr style=\"text-align: right;\">\n",
       "      <th></th>\n",
       "      <th>SOUID</th>\n",
       "      <th>TG</th>\n",
       "      <th>Q_TG</th>\n",
       "      <th>month</th>\n",
       "      <th>year</th>\n",
       "      <th>day</th>\n",
       "    </tr>\n",
       "    <tr>\n",
       "      <th>DATE</th>\n",
       "      <th></th>\n",
       "      <th></th>\n",
       "      <th></th>\n",
       "      <th></th>\n",
       "      <th></th>\n",
       "      <th></th>\n",
       "    </tr>\n",
       "  </thead>\n",
       "  <tbody>\n",
       "    <tr>\n",
       "      <th>1876-01-01</th>\n",
       "      <td>127488</td>\n",
       "      <td>22</td>\n",
       "      <td>0</td>\n",
       "      <td>1</td>\n",
       "      <td>1876</td>\n",
       "      <td>1</td>\n",
       "    </tr>\n",
       "    <tr>\n",
       "      <th>1876-01-02</th>\n",
       "      <td>127488</td>\n",
       "      <td>25</td>\n",
       "      <td>0</td>\n",
       "      <td>1</td>\n",
       "      <td>1876</td>\n",
       "      <td>2</td>\n",
       "    </tr>\n",
       "    <tr>\n",
       "      <th>1876-01-03</th>\n",
       "      <td>127488</td>\n",
       "      <td>3</td>\n",
       "      <td>0</td>\n",
       "      <td>1</td>\n",
       "      <td>1876</td>\n",
       "      <td>3</td>\n",
       "    </tr>\n",
       "    <tr>\n",
       "      <th>1876-01-04</th>\n",
       "      <td>127488</td>\n",
       "      <td>-58</td>\n",
       "      <td>0</td>\n",
       "      <td>1</td>\n",
       "      <td>1876</td>\n",
       "      <td>4</td>\n",
       "    </tr>\n",
       "    <tr>\n",
       "      <th>1876-01-05</th>\n",
       "      <td>127488</td>\n",
       "      <td>-98</td>\n",
       "      <td>0</td>\n",
       "      <td>1</td>\n",
       "      <td>1876</td>\n",
       "      <td>5</td>\n",
       "    </tr>\n",
       "  </tbody>\n",
       "</table>\n",
       "</div>"
      ],
      "text/plain": [
       "             SOUID  TG  Q_TG  month  year  day\n",
       "DATE                                          \n",
       "1876-01-01  127488  22     0      1  1876    1\n",
       "1876-01-02  127488  25     0      1  1876    2\n",
       "1876-01-03  127488   3     0      1  1876    3\n",
       "1876-01-04  127488 -58     0      1  1876    4\n",
       "1876-01-05  127488 -98     0      1  1876    5"
      ]
     },
     "execution_count": 6,
     "metadata": {},
     "output_type": "execute_result"
    }
   ],
   "source": [
    "df.set_index('DATE', inplace=True)\n",
    "df.head()"
   ]
  },
  {
   "cell_type": "code",
   "execution_count": 7,
   "metadata": {},
   "outputs": [
    {
     "data": {
      "text/plain": [
       "SOUID      0\n",
       "TG       195\n",
       "Q_TG       0\n",
       "month      0\n",
       "year       0\n",
       "day        0\n",
       "dtype: int64"
      ]
     },
     "execution_count": 7,
     "metadata": {},
     "output_type": "execute_result"
    }
   ],
   "source": [
    "df.isin([-9999]).sum()"
   ]
  },
  {
   "cell_type": "code",
   "execution_count": 8,
   "metadata": {},
   "outputs": [
    {
     "data": {
      "text/html": [
       "<div>\n",
       "<style scoped>\n",
       "    .dataframe tbody tr th:only-of-type {\n",
       "        vertical-align: middle;\n",
       "    }\n",
       "\n",
       "    .dataframe tbody tr th {\n",
       "        vertical-align: top;\n",
       "    }\n",
       "\n",
       "    .dataframe thead th {\n",
       "        text-align: right;\n",
       "    }\n",
       "</style>\n",
       "<table border=\"1\" class=\"dataframe\">\n",
       "  <thead>\n",
       "    <tr style=\"text-align: right;\">\n",
       "      <th></th>\n",
       "      <th>SOUID</th>\n",
       "      <th>TG</th>\n",
       "      <th>Q_TG</th>\n",
       "      <th>month</th>\n",
       "      <th>year</th>\n",
       "      <th>day</th>\n",
       "    </tr>\n",
       "    <tr>\n",
       "      <th>DATE</th>\n",
       "      <th></th>\n",
       "      <th></th>\n",
       "      <th></th>\n",
       "      <th></th>\n",
       "      <th></th>\n",
       "      <th></th>\n",
       "    </tr>\n",
       "  </thead>\n",
       "  <tbody>\n",
       "    <tr>\n",
       "      <th>1945-04-25</th>\n",
       "      <td>127488</td>\n",
       "      <td>-9999</td>\n",
       "      <td>9</td>\n",
       "      <td>4</td>\n",
       "      <td>1945</td>\n",
       "      <td>25</td>\n",
       "    </tr>\n",
       "    <tr>\n",
       "      <th>1945-04-26</th>\n",
       "      <td>127488</td>\n",
       "      <td>-9999</td>\n",
       "      <td>9</td>\n",
       "      <td>4</td>\n",
       "      <td>1945</td>\n",
       "      <td>26</td>\n",
       "    </tr>\n",
       "    <tr>\n",
       "      <th>1945-04-27</th>\n",
       "      <td>127488</td>\n",
       "      <td>-9999</td>\n",
       "      <td>9</td>\n",
       "      <td>4</td>\n",
       "      <td>1945</td>\n",
       "      <td>27</td>\n",
       "    </tr>\n",
       "    <tr>\n",
       "      <th>1945-04-28</th>\n",
       "      <td>127488</td>\n",
       "      <td>-9999</td>\n",
       "      <td>9</td>\n",
       "      <td>4</td>\n",
       "      <td>1945</td>\n",
       "      <td>28</td>\n",
       "    </tr>\n",
       "    <tr>\n",
       "      <th>1945-04-29</th>\n",
       "      <td>127488</td>\n",
       "      <td>-9999</td>\n",
       "      <td>9</td>\n",
       "      <td>4</td>\n",
       "      <td>1945</td>\n",
       "      <td>29</td>\n",
       "    </tr>\n",
       "    <tr>\n",
       "      <th>...</th>\n",
       "      <td>...</td>\n",
       "      <td>...</td>\n",
       "      <td>...</td>\n",
       "      <td>...</td>\n",
       "      <td>...</td>\n",
       "      <td>...</td>\n",
       "    </tr>\n",
       "    <tr>\n",
       "      <th>1945-11-01</th>\n",
       "      <td>127488</td>\n",
       "      <td>-9999</td>\n",
       "      <td>9</td>\n",
       "      <td>11</td>\n",
       "      <td>1945</td>\n",
       "      <td>1</td>\n",
       "    </tr>\n",
       "    <tr>\n",
       "      <th>1945-11-02</th>\n",
       "      <td>127488</td>\n",
       "      <td>-9999</td>\n",
       "      <td>9</td>\n",
       "      <td>11</td>\n",
       "      <td>1945</td>\n",
       "      <td>2</td>\n",
       "    </tr>\n",
       "    <tr>\n",
       "      <th>1945-11-03</th>\n",
       "      <td>127488</td>\n",
       "      <td>-9999</td>\n",
       "      <td>9</td>\n",
       "      <td>11</td>\n",
       "      <td>1945</td>\n",
       "      <td>3</td>\n",
       "    </tr>\n",
       "    <tr>\n",
       "      <th>1945-11-04</th>\n",
       "      <td>127488</td>\n",
       "      <td>-9999</td>\n",
       "      <td>9</td>\n",
       "      <td>11</td>\n",
       "      <td>1945</td>\n",
       "      <td>4</td>\n",
       "    </tr>\n",
       "    <tr>\n",
       "      <th>1945-11-05</th>\n",
       "      <td>127488</td>\n",
       "      <td>-9999</td>\n",
       "      <td>9</td>\n",
       "      <td>11</td>\n",
       "      <td>1945</td>\n",
       "      <td>5</td>\n",
       "    </tr>\n",
       "  </tbody>\n",
       "</table>\n",
       "<p>195 rows × 6 columns</p>\n",
       "</div>"
      ],
      "text/plain": [
       "             SOUID    TG  Q_TG  month  year  day\n",
       "DATE                                            \n",
       "1945-04-25  127488 -9999     9      4  1945   25\n",
       "1945-04-26  127488 -9999     9      4  1945   26\n",
       "1945-04-27  127488 -9999     9      4  1945   27\n",
       "1945-04-28  127488 -9999     9      4  1945   28\n",
       "1945-04-29  127488 -9999     9      4  1945   29\n",
       "...            ...   ...   ...    ...   ...  ...\n",
       "1945-11-01  127488 -9999     9     11  1945    1\n",
       "1945-11-02  127488 -9999     9     11  1945    2\n",
       "1945-11-03  127488 -9999     9     11  1945    3\n",
       "1945-11-04  127488 -9999     9     11  1945    4\n",
       "1945-11-05  127488 -9999     9     11  1945    5\n",
       "\n",
       "[195 rows x 6 columns]"
      ]
     },
     "execution_count": 8,
     "metadata": {},
     "output_type": "execute_result"
    }
   ],
   "source": [
    "df.loc[df['TG'] == -9999]"
   ]
  },
  {
   "cell_type": "code",
   "execution_count": 9,
   "metadata": {},
   "outputs": [],
   "source": [
    "may_39_50 = ((df.loc[((1939 <= df['year']) & (df['year'] <= 1944)) & (df['month'] == 5)]['TG'].mean()) + \\\n",
    "(df.loc[((1946 <= df['year']) & (df['year'] <= 1950)) & (df['month'] == 5)]['TG'].mean())) / 2"
   ]
  },
  {
   "cell_type": "code",
   "execution_count": 10,
   "metadata": {},
   "outputs": [],
   "source": [
    "june_39_50 = ((df.loc[((1939 <= df['year']) & (df['year'] <= 1944)) & (df['month'] == 6)]['TG'].mean()) + \\\n",
    "(df.loc[((1946 <= df['year']) & (df['year'] <= 1950)) & (df['month'] == 6)]['TG'].mean())) / 2"
   ]
  },
  {
   "cell_type": "code",
   "execution_count": 11,
   "metadata": {},
   "outputs": [],
   "source": [
    "july_39_50 = ((df.loc[((1939 <= df['year']) & (df['year'] <= 1944)) & (df['month'] == 7)]['TG'].mean()) + \\\n",
    "(df.loc[((1946 <= df['year']) & (df['year'] <= 1950)) & (df['month'] == 7)]['TG'].mean())) / 2"
   ]
  },
  {
   "cell_type": "code",
   "execution_count": 12,
   "metadata": {},
   "outputs": [],
   "source": [
    "august_39_50 = ((df.loc[((1939 <= df['year']) & (df['year'] <= 1944)) & (df['month'] == 8)]['TG'].mean()) + \\\n",
    "(df.loc[((1946 <= df['year']) & (df['year'] <= 1950)) & (df['month'] == 8)]['TG'].mean())) / 2"
   ]
  },
  {
   "cell_type": "code",
   "execution_count": 13,
   "metadata": {},
   "outputs": [],
   "source": [
    "september_39_50 = ((df.loc[((1939 <= df['year']) & (df['year'] <= 1944)) & (df['month'] == 9)]['TG'].mean()) + \\\n",
    "(df.loc[((1946 <= df['year']) & (df['year'] <= 1950)) & (df['month'] == 9)]['TG'].mean())) / 2"
   ]
  },
  {
   "cell_type": "code",
   "execution_count": 14,
   "metadata": {},
   "outputs": [],
   "source": [
    "october_39_50 = ((df.loc[((1939 <= df['year']) & (df['year'] <= 1944)) & (df['month'] == 10)]['TG'].mean()) + \\\n",
    "(df.loc[((1946 <= df['year']) & (df['year'] <= 1950)) & (df['month'] == 10)]['TG'].mean())) / 2"
   ]
  },
  {
   "cell_type": "code",
   "execution_count": 15,
   "metadata": {},
   "outputs": [],
   "source": [
    "df.loc[(df['year'] == 1945) & (df['month'] == 5), 'TG'] = may_39_50"
   ]
  },
  {
   "cell_type": "code",
   "execution_count": 16,
   "metadata": {},
   "outputs": [],
   "source": [
    "df.loc[(df['year'] == 1945) & (df['month'] == 6), 'TG'] = june_39_50"
   ]
  },
  {
   "cell_type": "code",
   "execution_count": 17,
   "metadata": {},
   "outputs": [],
   "source": [
    "df.loc[(df['year'] == 1945) & (df['month'] == 7), 'TG'] = july_39_50"
   ]
  },
  {
   "cell_type": "code",
   "execution_count": 18,
   "metadata": {},
   "outputs": [],
   "source": [
    "df.loc[(df['year'] == 1945) & (df['month'] == 8), 'TG'] = august_39_50"
   ]
  },
  {
   "cell_type": "code",
   "execution_count": 19,
   "metadata": {},
   "outputs": [],
   "source": [
    "df.loc[(df['year'] == 1945) & (df['month'] == 9), 'TG'] = september_39_50"
   ]
  },
  {
   "cell_type": "code",
   "execution_count": 20,
   "metadata": {},
   "outputs": [],
   "source": [
    "df.loc[(df['year'] == 1945) & (df['month'] == 10), 'TG'] = october_39_50"
   ]
  },
  {
   "cell_type": "code",
   "execution_count": 21,
   "metadata": {},
   "outputs": [],
   "source": [
    "df = df.where(df!=-9999, np.nan)"
   ]
  },
  {
   "cell_type": "code",
   "execution_count": 22,
   "metadata": {},
   "outputs": [],
   "source": [
    "df.loc[(df['year'] == 1945) & (df['month'] == 4)] = df.loc[(df['year'] == 1945) & (df['month'] == 4)]\\\n",
    ".fillna(method='ffill')"
   ]
  },
  {
   "cell_type": "code",
   "execution_count": 23,
   "metadata": {},
   "outputs": [],
   "source": [
    "df.loc[(df['year'] == 1945) & (df['month'] == 11)] = df.loc[(df['year'] == 1945) & (df['month'] == 11)]\\\n",
    ".fillna(method='bfill')"
   ]
  },
  {
   "cell_type": "code",
   "execution_count": 24,
   "metadata": {},
   "outputs": [
    {
     "data": {
      "text/plain": [
       "(SOUID    0\n",
       " TG       0\n",
       " Q_TG     0\n",
       " month    0\n",
       " year     0\n",
       " day      0\n",
       " dtype: int64,\n",
       " SOUID    0\n",
       " TG       0\n",
       " Q_TG     0\n",
       " month    0\n",
       " year     0\n",
       " day      0\n",
       " dtype: int64)"
      ]
     },
     "execution_count": 24,
     "metadata": {},
     "output_type": "execute_result"
    }
   ],
   "source": [
    "df.isin([-9999]).sum(), df.isna().sum()"
   ]
  },
  {
   "cell_type": "code",
   "execution_count": 25,
   "metadata": {},
   "outputs": [
    {
     "data": {
      "text/html": [
       "<div>\n",
       "<style scoped>\n",
       "    .dataframe tbody tr th:only-of-type {\n",
       "        vertical-align: middle;\n",
       "    }\n",
       "\n",
       "    .dataframe tbody tr th {\n",
       "        vertical-align: top;\n",
       "    }\n",
       "\n",
       "    .dataframe thead th {\n",
       "        text-align: right;\n",
       "    }\n",
       "</style>\n",
       "<table border=\"1\" class=\"dataframe\">\n",
       "  <thead>\n",
       "    <tr style=\"text-align: right;\">\n",
       "      <th></th>\n",
       "      <th>SOUID</th>\n",
       "      <th>TG</th>\n",
       "      <th>Q_TG</th>\n",
       "      <th>month</th>\n",
       "      <th>year</th>\n",
       "      <th>day</th>\n",
       "    </tr>\n",
       "    <tr>\n",
       "      <th>DATE</th>\n",
       "      <th></th>\n",
       "      <th></th>\n",
       "      <th></th>\n",
       "      <th></th>\n",
       "      <th></th>\n",
       "      <th></th>\n",
       "    </tr>\n",
       "  </thead>\n",
       "  <tbody>\n",
       "    <tr>\n",
       "      <th>1945-01-01</th>\n",
       "      <td>127488</td>\n",
       "      <td>-28.0</td>\n",
       "      <td>0</td>\n",
       "      <td>1</td>\n",
       "      <td>1945</td>\n",
       "      <td>1</td>\n",
       "    </tr>\n",
       "    <tr>\n",
       "      <th>1945-01-02</th>\n",
       "      <td>127488</td>\n",
       "      <td>-22.0</td>\n",
       "      <td>0</td>\n",
       "      <td>1</td>\n",
       "      <td>1945</td>\n",
       "      <td>2</td>\n",
       "    </tr>\n",
       "    <tr>\n",
       "      <th>1945-01-03</th>\n",
       "      <td>127488</td>\n",
       "      <td>17.0</td>\n",
       "      <td>0</td>\n",
       "      <td>1</td>\n",
       "      <td>1945</td>\n",
       "      <td>3</td>\n",
       "    </tr>\n",
       "    <tr>\n",
       "      <th>1945-01-04</th>\n",
       "      <td>127488</td>\n",
       "      <td>22.0</td>\n",
       "      <td>0</td>\n",
       "      <td>1</td>\n",
       "      <td>1945</td>\n",
       "      <td>4</td>\n",
       "    </tr>\n",
       "    <tr>\n",
       "      <th>1945-01-05</th>\n",
       "      <td>127488</td>\n",
       "      <td>-18.0</td>\n",
       "      <td>0</td>\n",
       "      <td>1</td>\n",
       "      <td>1945</td>\n",
       "      <td>5</td>\n",
       "    </tr>\n",
       "    <tr>\n",
       "      <th>...</th>\n",
       "      <td>...</td>\n",
       "      <td>...</td>\n",
       "      <td>...</td>\n",
       "      <td>...</td>\n",
       "      <td>...</td>\n",
       "      <td>...</td>\n",
       "    </tr>\n",
       "    <tr>\n",
       "      <th>1945-12-27</th>\n",
       "      <td>127488</td>\n",
       "      <td>44.0</td>\n",
       "      <td>0</td>\n",
       "      <td>12</td>\n",
       "      <td>1945</td>\n",
       "      <td>27</td>\n",
       "    </tr>\n",
       "    <tr>\n",
       "      <th>1945-12-28</th>\n",
       "      <td>127488</td>\n",
       "      <td>61.0</td>\n",
       "      <td>0</td>\n",
       "      <td>12</td>\n",
       "      <td>1945</td>\n",
       "      <td>28</td>\n",
       "    </tr>\n",
       "    <tr>\n",
       "      <th>1945-12-29</th>\n",
       "      <td>127488</td>\n",
       "      <td>32.0</td>\n",
       "      <td>0</td>\n",
       "      <td>12</td>\n",
       "      <td>1945</td>\n",
       "      <td>29</td>\n",
       "    </tr>\n",
       "    <tr>\n",
       "      <th>1945-12-30</th>\n",
       "      <td>127488</td>\n",
       "      <td>2.0</td>\n",
       "      <td>0</td>\n",
       "      <td>12</td>\n",
       "      <td>1945</td>\n",
       "      <td>30</td>\n",
       "    </tr>\n",
       "    <tr>\n",
       "      <th>1945-12-31</th>\n",
       "      <td>127488</td>\n",
       "      <td>-18.0</td>\n",
       "      <td>0</td>\n",
       "      <td>12</td>\n",
       "      <td>1945</td>\n",
       "      <td>31</td>\n",
       "    </tr>\n",
       "  </tbody>\n",
       "</table>\n",
       "<p>365 rows × 6 columns</p>\n",
       "</div>"
      ],
      "text/plain": [
       "             SOUID    TG  Q_TG  month  year  day\n",
       "DATE                                            \n",
       "1945-01-01  127488 -28.0     0      1  1945    1\n",
       "1945-01-02  127488 -22.0     0      1  1945    2\n",
       "1945-01-03  127488  17.0     0      1  1945    3\n",
       "1945-01-04  127488  22.0     0      1  1945    4\n",
       "1945-01-05  127488 -18.0     0      1  1945    5\n",
       "...            ...   ...   ...    ...   ...  ...\n",
       "1945-12-27  127488  44.0     0     12  1945   27\n",
       "1945-12-28  127488  61.0     0     12  1945   28\n",
       "1945-12-29  127488  32.0     0     12  1945   29\n",
       "1945-12-30  127488   2.0     0     12  1945   30\n",
       "1945-12-31  127488 -18.0     0     12  1945   31\n",
       "\n",
       "[365 rows x 6 columns]"
      ]
     },
     "execution_count": 25,
     "metadata": {},
     "output_type": "execute_result"
    }
   ],
   "source": [
    "df.loc[(df['year'] == 1945)]"
   ]
  },
  {
   "cell_type": "code",
   "execution_count": 26,
   "metadata": {},
   "outputs": [
    {
     "data": {
      "text/plain": [
       "<matplotlib.axes._subplots.AxesSubplot at 0x1f51585ea08>"
      ]
     },
     "execution_count": 26,
     "metadata": {},
     "output_type": "execute_result"
    },
    {
     "data": {
      "image/png": "[encoded data removed]",
      "text/plain": [
       "<Figure size 432x288 with 1 Axes>"
      ]
     },
     "metadata": {
      "needs_background": "light"
     },
     "output_type": "display_data"
    }
   ],
   "source": [
    "#%matplotlib notebook\n",
    "sns.lineplot(data=df, x='year', y=\"TG\")"
   ]
  },
  {
   "cell_type": "code",
   "execution_count": 27,
   "metadata": {},
   "outputs": [
    {
     "data": {
      "text/plain": [
       "<seaborn.axisgrid.JointGrid at 0x1f514c86408>"
      ]
     },
     "execution_count": 27,
     "metadata": {},
     "output_type": "execute_result"
    },
    {
     "data": {
      "image/png": "[encoded data removed]",
      "text/plain": [
       "<Figure size 432x432 with 3 Axes>"
      ]
     },
     "metadata": {
      "needs_background": "light"
     },
     "output_type": "display_data"
    }
   ],
   "source": [
    "sns.jointplot(data=df, x='year', y=\"TG\", kind='reg', joint_kws={'line_kws':{'color':'red'}})"
   ]
  },
  {
   "cell_type": "markdown",
   "metadata": {},
   "source": [
    "## Decomposing to Components\n",
    "\n",
    "We decompose the time series into its components to be able to model the different components separately \\\n",
    "before adding them for the final model together."
   ]
  },
  {
   "cell_type": "markdown",
   "metadata": {},
   "source": [
    "### a. diff function to find all changes\n",
    "\n",
    "The diff function gives you the differences between consecutive elements (time steps). \\\n",
    "It is the opposite of the cumulative sum. "
   ]
  },
  {
   "cell_type": "code",
   "execution_count": 28,
   "metadata": {},
   "outputs": [
    {
     "data": {
      "text/html": [
       "<div>\n",
       "<style scoped>\n",
       "    .dataframe tbody tr th:only-of-type {\n",
       "        vertical-align: middle;\n",
       "    }\n",
       "\n",
       "    .dataframe tbody tr th {\n",
       "        vertical-align: top;\n",
       "    }\n",
       "\n",
       "    .dataframe thead th {\n",
       "        text-align: right;\n",
       "    }\n",
       "</style>\n",
       "<table border=\"1\" class=\"dataframe\">\n",
       "  <thead>\n",
       "    <tr style=\"text-align: right;\">\n",
       "      <th></th>\n",
       "      <th>SOUID</th>\n",
       "      <th>TG</th>\n",
       "      <th>Q_TG</th>\n",
       "      <th>month</th>\n",
       "      <th>year</th>\n",
       "      <th>day</th>\n",
       "      <th>diff</th>\n",
       "    </tr>\n",
       "    <tr>\n",
       "      <th>DATE</th>\n",
       "      <th></th>\n",
       "      <th></th>\n",
       "      <th></th>\n",
       "      <th></th>\n",
       "      <th></th>\n",
       "      <th></th>\n",
       "      <th></th>\n",
       "    </tr>\n",
       "  </thead>\n",
       "  <tbody>\n",
       "    <tr>\n",
       "      <th>1876-01-01</th>\n",
       "      <td>127488</td>\n",
       "      <td>22.0</td>\n",
       "      <td>0</td>\n",
       "      <td>1</td>\n",
       "      <td>1876</td>\n",
       "      <td>1</td>\n",
       "      <td>NaN</td>\n",
       "    </tr>\n",
       "    <tr>\n",
       "      <th>1876-01-02</th>\n",
       "      <td>127488</td>\n",
       "      <td>25.0</td>\n",
       "      <td>0</td>\n",
       "      <td>1</td>\n",
       "      <td>1876</td>\n",
       "      <td>2</td>\n",
       "      <td>3.0</td>\n",
       "    </tr>\n",
       "    <tr>\n",
       "      <th>1876-01-03</th>\n",
       "      <td>127488</td>\n",
       "      <td>3.0</td>\n",
       "      <td>0</td>\n",
       "      <td>1</td>\n",
       "      <td>1876</td>\n",
       "      <td>3</td>\n",
       "      <td>-22.0</td>\n",
       "    </tr>\n",
       "    <tr>\n",
       "      <th>1876-01-04</th>\n",
       "      <td>127488</td>\n",
       "      <td>-58.0</td>\n",
       "      <td>0</td>\n",
       "      <td>1</td>\n",
       "      <td>1876</td>\n",
       "      <td>4</td>\n",
       "      <td>-61.0</td>\n",
       "    </tr>\n",
       "    <tr>\n",
       "      <th>1876-01-05</th>\n",
       "      <td>127488</td>\n",
       "      <td>-98.0</td>\n",
       "      <td>0</td>\n",
       "      <td>1</td>\n",
       "      <td>1876</td>\n",
       "      <td>5</td>\n",
       "      <td>-40.0</td>\n",
       "    </tr>\n",
       "  </tbody>\n",
       "</table>\n",
       "</div>"
      ],
      "text/plain": [
       "             SOUID    TG  Q_TG  month  year  day  diff\n",
       "DATE                                                  \n",
       "1876-01-01  127488  22.0     0      1  1876    1   NaN\n",
       "1876-01-02  127488  25.0     0      1  1876    2   3.0\n",
       "1876-01-03  127488   3.0     0      1  1876    3 -22.0\n",
       "1876-01-04  127488 -58.0     0      1  1876    4 -61.0\n",
       "1876-01-05  127488 -98.0     0      1  1876    5 -40.0"
      ]
     },
     "execution_count": 28,
     "metadata": {},
     "output_type": "execute_result"
    }
   ],
   "source": [
    "df['diff'] = df['TG'].diff()\n",
    "df.head()"
   ]
  },
  {
   "cell_type": "code",
   "execution_count": 29,
   "metadata": {},
   "outputs": [
    {
     "data": {
      "text/plain": [
       "<matplotlib.axes._subplots.AxesSubplot at 0x1f514c47448>"
      ]
     },
     "execution_count": 29,
     "metadata": {},
     "output_type": "execute_result"
    },
    {
     "data": {
      "image/png": "[encoded data removed]",
      "text/plain": [
       "<Figure size 432x288 with 1 Axes>"
      ]
     },
     "metadata": {
      "needs_background": "light"
     },
     "output_type": "display_data"
    }
   ],
   "source": [
    "df['diff'].plot()"
   ]
  },
  {
   "cell_type": "code",
   "execution_count": 30,
   "metadata": {},
   "outputs": [
    {
     "data": {
      "text/plain": [
       "0.0025918498618941314"
      ]
     },
     "execution_count": 30,
     "metadata": {},
     "output_type": "execute_result"
    }
   ],
   "source": [
    "df['diff'].mean() # what does this mean? how do i read this?"
   ]
  },
  {
   "cell_type": "markdown",
   "metadata": {},
   "source": [
    "## Im not sure if my data is heteroscedastic (meaning that the variance is changing, bad)"
   ]
  },
  {
   "cell_type": "markdown",
   "metadata": {},
   "source": [
    "if it is, Percentage Change is a way to deal with that."
   ]
  },
  {
   "cell_type": "code",
   "execution_count": 31,
   "metadata": {},
   "outputs": [
    {
     "data": {
      "text/html": [
       "<div>\n",
       "<style scoped>\n",
       "    .dataframe tbody tr th:only-of-type {\n",
       "        vertical-align: middle;\n",
       "    }\n",
       "\n",
       "    .dataframe tbody tr th {\n",
       "        vertical-align: top;\n",
       "    }\n",
       "\n",
       "    .dataframe thead th {\n",
       "        text-align: right;\n",
       "    }\n",
       "</style>\n",
       "<table border=\"1\" class=\"dataframe\">\n",
       "  <thead>\n",
       "    <tr style=\"text-align: right;\">\n",
       "      <th></th>\n",
       "      <th>SOUID</th>\n",
       "      <th>TG</th>\n",
       "      <th>Q_TG</th>\n",
       "      <th>month</th>\n",
       "      <th>year</th>\n",
       "      <th>day</th>\n",
       "      <th>diff</th>\n",
       "      <th>pct_change</th>\n",
       "    </tr>\n",
       "    <tr>\n",
       "      <th>DATE</th>\n",
       "      <th></th>\n",
       "      <th></th>\n",
       "      <th></th>\n",
       "      <th></th>\n",
       "      <th></th>\n",
       "      <th></th>\n",
       "      <th></th>\n",
       "      <th></th>\n",
       "    </tr>\n",
       "  </thead>\n",
       "  <tbody>\n",
       "    <tr>\n",
       "      <th>1876-01-01</th>\n",
       "      <td>127488</td>\n",
       "      <td>22.0</td>\n",
       "      <td>0</td>\n",
       "      <td>1</td>\n",
       "      <td>1876</td>\n",
       "      <td>1</td>\n",
       "      <td>NaN</td>\n",
       "      <td>NaN</td>\n",
       "    </tr>\n",
       "    <tr>\n",
       "      <th>1876-01-02</th>\n",
       "      <td>127488</td>\n",
       "      <td>25.0</td>\n",
       "      <td>0</td>\n",
       "      <td>1</td>\n",
       "      <td>1876</td>\n",
       "      <td>2</td>\n",
       "      <td>3.0</td>\n",
       "      <td>0.136364</td>\n",
       "    </tr>\n",
       "    <tr>\n",
       "      <th>1876-01-03</th>\n",
       "      <td>127488</td>\n",
       "      <td>3.0</td>\n",
       "      <td>0</td>\n",
       "      <td>1</td>\n",
       "      <td>1876</td>\n",
       "      <td>3</td>\n",
       "      <td>-22.0</td>\n",
       "      <td>-0.880000</td>\n",
       "    </tr>\n",
       "    <tr>\n",
       "      <th>1876-01-04</th>\n",
       "      <td>127488</td>\n",
       "      <td>-58.0</td>\n",
       "      <td>0</td>\n",
       "      <td>1</td>\n",
       "      <td>1876</td>\n",
       "      <td>4</td>\n",
       "      <td>-61.0</td>\n",
       "      <td>-20.333333</td>\n",
       "    </tr>\n",
       "    <tr>\n",
       "      <th>1876-01-05</th>\n",
       "      <td>127488</td>\n",
       "      <td>-98.0</td>\n",
       "      <td>0</td>\n",
       "      <td>1</td>\n",
       "      <td>1876</td>\n",
       "      <td>5</td>\n",
       "      <td>-40.0</td>\n",
       "      <td>0.689655</td>\n",
       "    </tr>\n",
       "  </tbody>\n",
       "</table>\n",
       "</div>"
      ],
      "text/plain": [
       "             SOUID    TG  Q_TG  month  year  day  diff  pct_change\n",
       "DATE                                                              \n",
       "1876-01-01  127488  22.0     0      1  1876    1   NaN         NaN\n",
       "1876-01-02  127488  25.0     0      1  1876    2   3.0    0.136364\n",
       "1876-01-03  127488   3.0     0      1  1876    3 -22.0   -0.880000\n",
       "1876-01-04  127488 -58.0     0      1  1876    4 -61.0  -20.333333\n",
       "1876-01-05  127488 -98.0     0      1  1876    5 -40.0    0.689655"
      ]
     },
     "execution_count": 31,
     "metadata": {},
     "output_type": "execute_result"
    }
   ],
   "source": [
    "df['pct_change'] = df['TG'].pct_change()\n",
    "df.head()"
   ]
  },
  {
   "cell_type": "code",
   "execution_count": 32,
   "metadata": {},
   "outputs": [],
   "source": [
    "f_index = list(df.loc[(df['pct_change'] == -np.inf) | (df['pct_change'].isna()) | (df['pct_change'] == np.inf)].index)"
   ]
  },
  {
   "cell_type": "code",
   "execution_count": 34,
   "metadata": {},
   "outputs": [
    {
     "data": {
      "text/plain": [
       "[Timestamp('1876-01-01 00:00:00'),\n",
       " Timestamp('1876-02-08 00:00:00'),\n",
       " Timestamp('1876-11-14 00:00:00'),\n",
       " Timestamp('1877-12-29 00:00:00'),\n",
       " Timestamp('1879-11-19 00:00:00'),\n",
       " Timestamp('1882-01-18 00:00:00'),\n",
       " Timestamp('1883-03-03 00:00:00'),\n",
       " Timestamp('1883-12-11 00:00:00'),\n",
       " Timestamp('1887-02-08 00:00:00'),\n",
       " Timestamp('1888-03-23 00:00:00'),\n",
       " Timestamp('1889-02-07 00:00:00'),\n",
       " Timestamp('1889-12-17 00:00:00'),\n",
       " Timestamp('1890-12-09 00:00:00'),\n",
       " Timestamp('1891-02-08 00:00:00'),\n",
       " Timestamp('1892-01-08 00:00:00'),\n",
       " Timestamp('1892-11-21 00:00:00'),\n",
       " Timestamp('1892-12-03 00:00:00'),\n",
       " Timestamp('1892-12-06 00:00:00'),\n",
       " Timestamp('1893-03-19 00:00:00'),\n",
       " Timestamp('1893-12-29 00:00:00'),\n",
       " Timestamp('1894-12-15 00:00:00'),\n",
       " Timestamp('1895-01-16 00:00:00'),\n",
       " Timestamp('1896-01-26 00:00:00'),\n",
       " Timestamp('1896-01-30 00:00:00'),\n",
       " Timestamp('1896-11-26 00:00:00'),\n",
       " Timestamp('1896-12-21 00:00:00'),\n",
       " Timestamp('1898-02-06 00:00:00'),\n",
       " Timestamp('1899-01-02 00:00:00'),\n",
       " Timestamp('1899-01-26 00:00:00'),\n",
       " Timestamp('1899-03-20 00:00:00'),\n",
       " Timestamp('1899-12-29 00:00:00'),\n",
       " Timestamp('1900-03-07 00:00:00'),\n",
       " Timestamp('1901-02-24 00:00:00'),\n",
       " Timestamp('1901-11-30 00:00:00'),\n",
       " Timestamp('1902-02-09 00:00:00'),\n",
       " Timestamp('1902-03-05 00:00:00'),\n",
       " Timestamp('1903-12-07 00:00:00'),\n",
       " Timestamp('1906-02-06 00:00:00'),\n",
       " Timestamp('1906-02-07 00:00:00'),\n",
       " Timestamp('1906-02-08 00:00:00'),\n",
       " Timestamp('1906-03-15 00:00:00'),\n",
       " Timestamp('1907-12-18 00:00:00'),\n",
       " Timestamp('1908-01-14 00:00:00'),\n",
       " Timestamp('1908-10-23 00:00:00'),\n",
       " Timestamp('1908-12-08 00:00:00'),\n",
       " Timestamp('1908-12-17 00:00:00'),\n",
       " Timestamp('1909-02-21 00:00:00'),\n",
       " Timestamp('1909-03-14 00:00:00'),\n",
       " Timestamp('1909-11-29 00:00:00'),\n",
       " Timestamp('1910-02-03 00:00:00'),\n",
       " Timestamp('1910-11-22 00:00:00'),\n",
       " Timestamp('1910-11-24 00:00:00'),\n",
       " Timestamp('1911-12-04 00:00:00'),\n",
       " Timestamp('1912-02-23 00:00:00'),\n",
       " Timestamp('1912-11-30 00:00:00'),\n",
       " Timestamp('1912-12-07 00:00:00'),\n",
       " Timestamp('1913-02-15 00:00:00'),\n",
       " Timestamp('1914-01-09 00:00:00'),\n",
       " Timestamp('1915-12-01 00:00:00'),\n",
       " Timestamp('1916-02-03 00:00:00'),\n",
       " Timestamp('1916-02-13 00:00:00'),\n",
       " Timestamp('1918-01-11 00:00:00'),\n",
       " Timestamp('1918-11-27 00:00:00'),\n",
       " Timestamp('1919-03-23 00:00:00'),\n",
       " Timestamp('1919-03-31 00:00:00'),\n",
       " Timestamp('1919-11-08 00:00:00'),\n",
       " Timestamp('1919-12-10 00:00:00'),\n",
       " Timestamp('1920-01-28 00:00:00'),\n",
       " Timestamp('1920-11-04 00:00:00'),\n",
       " Timestamp('1922-03-22 00:00:00'),\n",
       " Timestamp('1922-03-31 00:00:00'),\n",
       " Timestamp('1923-11-12 00:00:00'),\n",
       " Timestamp('1926-03-24 00:00:00'),\n",
       " Timestamp('1927-02-07 00:00:00'),\n",
       " Timestamp('1927-11-17 00:00:00'),\n",
       " Timestamp('1928-12-16 00:00:00'),\n",
       " Timestamp('1928-12-29 00:00:00'),\n",
       " Timestamp('1929-03-11 00:00:00'),\n",
       " Timestamp('1930-03-13 00:00:00'),\n",
       " Timestamp('1930-11-20 00:00:00'),\n",
       " Timestamp('1931-02-17 00:00:00'),\n",
       " Timestamp('1931-02-20 00:00:00'),\n",
       " Timestamp('1932-01-05 00:00:00'),\n",
       " Timestamp('1932-01-10 00:00:00'),\n",
       " Timestamp('1932-01-24 00:00:00'),\n",
       " Timestamp('1932-02-22 00:00:00'),\n",
       " Timestamp('1932-03-03 00:00:00'),\n",
       " Timestamp('1932-12-22 00:00:00'),\n",
       " Timestamp('1934-01-03 00:00:00'),\n",
       " Timestamp('1934-01-04 00:00:00'),\n",
       " Timestamp('1936-02-15 00:00:00'),\n",
       " Timestamp('1936-02-27 00:00:00'),\n",
       " Timestamp('1937-11-25 00:00:00'),\n",
       " Timestamp('1939-02-20 00:00:00'),\n",
       " Timestamp('1939-12-12 00:00:00'),\n",
       " Timestamp('1939-12-13 00:00:00'),\n",
       " Timestamp('1940-12-03 00:00:00'),\n",
       " Timestamp('1941-01-15 00:00:00'),\n",
       " Timestamp('1941-12-05 00:00:00'),\n",
       " Timestamp('1942-12-01 00:00:00'),\n",
       " Timestamp('1943-02-09 00:00:00'),\n",
       " Timestamp('1943-02-10 00:00:00'),\n",
       " Timestamp('1943-11-19 00:00:00'),\n",
       " Timestamp('1944-02-07 00:00:00'),\n",
       " Timestamp('1944-02-12 00:00:00'),\n",
       " Timestamp('1944-02-28 00:00:00'),\n",
       " Timestamp('1944-02-29 00:00:00'),\n",
       " Timestamp('1945-11-24 00:00:00'),\n",
       " Timestamp('1946-03-16 00:00:00'),\n",
       " Timestamp('1946-12-09 00:00:00'),\n",
       " Timestamp('1947-12-17 00:00:00'),\n",
       " Timestamp('1948-01-20 00:00:00'),\n",
       " Timestamp('1948-01-25 00:00:00'),\n",
       " Timestamp('1948-11-30 00:00:00'),\n",
       " Timestamp('1949-01-09 00:00:00'),\n",
       " Timestamp('1949-03-12 00:00:00'),\n",
       " Timestamp('1950-01-13 00:00:00'),\n",
       " Timestamp('1950-12-11 00:00:00'),\n",
       " Timestamp('1950-12-16 00:00:00'),\n",
       " Timestamp('1952-02-11 00:00:00'),\n",
       " Timestamp('1952-04-02 00:00:00'),\n",
       " Timestamp('1952-12-17 00:00:00'),\n",
       " Timestamp('1953-02-18 00:00:00'),\n",
       " Timestamp('1954-01-04 00:00:00'),\n",
       " Timestamp('1954-11-26 00:00:00'),\n",
       " Timestamp('1955-12-24 00:00:00'),\n",
       " Timestamp('1956-12-24 00:00:00'),\n",
       " Timestamp('1957-01-03 00:00:00'),\n",
       " Timestamp('1957-03-02 00:00:00'),\n",
       " Timestamp('1957-12-14 00:00:00'),\n",
       " Timestamp('1957-12-26 00:00:00'),\n",
       " Timestamp('1958-12-02 00:00:00'),\n",
       " Timestamp('1959-01-30 00:00:00'),\n",
       " Timestamp('1959-02-05 00:00:00'),\n",
       " Timestamp('1960-01-22 00:00:00'),\n",
       " Timestamp('1960-01-31 00:00:00'),\n",
       " Timestamp('1960-02-17 00:00:00'),\n",
       " Timestamp('1960-03-07 00:00:00'),\n",
       " Timestamp('1962-01-04 00:00:00'),\n",
       " Timestamp('1964-03-13 00:00:00'),\n",
       " Timestamp('1965-01-26 00:00:00'),\n",
       " Timestamp('1965-02-11 00:00:00'),\n",
       " Timestamp('1966-02-20 00:00:00'),\n",
       " Timestamp('1966-12-05 00:00:00'),\n",
       " Timestamp('1967-02-17 00:00:00'),\n",
       " Timestamp('1967-11-22 00:00:00'),\n",
       " Timestamp('1967-11-26 00:00:00'),\n",
       " Timestamp('1969-01-18 00:00:00'),\n",
       " Timestamp('1969-03-12 00:00:00'),\n",
       " Timestamp('1970-03-10 00:00:00'),\n",
       " Timestamp('1975-02-08 00:00:00'),\n",
       " Timestamp('1976-12-19 00:00:00'),\n",
       " Timestamp('1976-12-28 00:00:00'),\n",
       " Timestamp('1977-01-02 00:00:00'),\n",
       " Timestamp('1977-01-17 00:00:00'),\n",
       " Timestamp('1977-12-05 00:00:00'),\n",
       " Timestamp('1979-01-11 00:00:00'),\n",
       " Timestamp('1979-01-13 00:00:00'),\n",
       " Timestamp('1979-02-28 00:00:00'),\n",
       " Timestamp('1979-03-06 00:00:00'),\n",
       " Timestamp('1980-01-25 00:00:00'),\n",
       " Timestamp('1980-02-02 00:00:00'),\n",
       " Timestamp('1980-02-19 00:00:00'),\n",
       " Timestamp('1980-02-26 00:00:00'),\n",
       " Timestamp('1981-01-31 00:00:00'),\n",
       " Timestamp('1981-03-06 00:00:00'),\n",
       " Timestamp('1981-11-11 00:00:00'),\n",
       " Timestamp('1983-12-11 00:00:00'),\n",
       " Timestamp('1984-02-12 00:00:00'),\n",
       " Timestamp('1984-02-13 00:00:00'),\n",
       " Timestamp('1984-02-23 00:00:00'),\n",
       " Timestamp('1985-03-01 00:00:00'),\n",
       " Timestamp('1985-11-26 00:00:00'),\n",
       " Timestamp('1987-02-23 00:00:00'),\n",
       " Timestamp('1988-01-15 00:00:00'),\n",
       " Timestamp('1988-03-09 00:00:00'),\n",
       " Timestamp('1990-12-16 00:00:00'),\n",
       " Timestamp('1991-12-04 00:00:00'),\n",
       " Timestamp('1992-02-01 00:00:00'),\n",
       " Timestamp('1993-02-28 00:00:00'),\n",
       " Timestamp('1994-01-19 00:00:00'),\n",
       " Timestamp('1995-02-11 00:00:00'),\n",
       " Timestamp('1995-03-30 00:00:00'),\n",
       " Timestamp('1995-11-29 00:00:00'),\n",
       " Timestamp('1996-12-07 00:00:00'),\n",
       " Timestamp('1996-12-11 00:00:00'),\n",
       " Timestamp('1996-12-20 00:00:00'),\n",
       " Timestamp('1997-11-25 00:00:00'),\n",
       " Timestamp('1997-11-29 00:00:00'),\n",
       " Timestamp('1998-12-23 00:00:00'),\n",
       " Timestamp('1999-01-01 00:00:00'),\n",
       " Timestamp('2002-01-14 00:00:00'),\n",
       " Timestamp('2002-01-18 00:00:00'),\n",
       " Timestamp('2004-01-19 00:00:00'),\n",
       " Timestamp('2004-03-08 00:00:00'),\n",
       " Timestamp('2004-12-16 00:00:00'),\n",
       " Timestamp('2005-01-17 00:00:00'),\n",
       " Timestamp('2006-02-13 00:00:00'),\n",
       " Timestamp('2007-02-09 00:00:00'),\n",
       " Timestamp('2009-02-17 00:00:00'),\n",
       " Timestamp('2010-02-05 00:00:00'),\n",
       " Timestamp('2010-12-25 00:00:00'),\n",
       " Timestamp('2011-02-13 00:00:00'),\n",
       " Timestamp('2012-12-29 00:00:00'),\n",
       " Timestamp('2013-03-18 00:00:00'),\n",
       " Timestamp('2013-04-03 00:00:00'),\n",
       " Timestamp('2016-02-18 00:00:00'),\n",
       " Timestamp('2016-12-04 00:00:00'),\n",
       " Timestamp('2016-12-21 00:00:00'),\n",
       " Timestamp('2017-01-23 00:00:00'),\n",
       " Timestamp('2018-02-21 00:00:00'),\n",
       " Timestamp('2018-12-16 00:00:00'),\n",
       " Timestamp('2019-01-31 00:00:00'),\n",
       " Timestamp('2019-12-30 00:00:00')]"
      ]
     },
     "execution_count": 34,
     "metadata": {},
     "output_type": "execute_result"
    }
   ],
   "source": [
    "f_index"
   ]
  },
  {
   "cell_type": "code",
   "execution_count": null,
   "metadata": {},
   "outputs": [],
   "source": [
    "#date = pd.date_range('2004-01-01', '2018-01-01', freq=\"AS\")    # your code\n",
    "\n",
    "#freq = 'D'                                                     # 'H' for hours, etc.\n",
    "#date = date + pd.Timedelta(3, unit=freq)                       # Perform the action\n",
    "#print(date)"
   ]
  },
  {
   "cell_type": "code",
   "execution_count": 35,
   "metadata": {},
   "outputs": [],
   "source": [
    "t_index = []\n",
    "for i in f_index:\n",
    "    freq = 'D'\n",
    "    x = i + pd.Timedelta(-1, unit=freq) \n",
    "    t_index.append(x)"
   ]
  },
  {
   "cell_type": "code",
   "execution_count": 36,
   "metadata": {},
   "outputs": [],
   "source": [
    "df.loc[df.index.isin(t_index), ['TG']] = 1"
   ]
  },
  {
   "cell_type": "code",
   "execution_count": 37,
   "metadata": {},
   "outputs": [
    {
     "data": {
      "text/html": [
       "<div>\n",
       "<style scoped>\n",
       "    .dataframe tbody tr th:only-of-type {\n",
       "        vertical-align: middle;\n",
       "    }\n",
       "\n",
       "    .dataframe tbody tr th {\n",
       "        vertical-align: top;\n",
       "    }\n",
       "\n",
       "    .dataframe thead th {\n",
       "        text-align: right;\n",
       "    }\n",
       "</style>\n",
       "<table border=\"1\" class=\"dataframe\">\n",
       "  <thead>\n",
       "    <tr style=\"text-align: right;\">\n",
       "      <th></th>\n",
       "      <th>SOUID</th>\n",
       "      <th>TG</th>\n",
       "      <th>Q_TG</th>\n",
       "      <th>month</th>\n",
       "      <th>year</th>\n",
       "      <th>day</th>\n",
       "      <th>diff</th>\n",
       "      <th>pct_change</th>\n",
       "    </tr>\n",
       "    <tr>\n",
       "      <th>DATE</th>\n",
       "      <th></th>\n",
       "      <th></th>\n",
       "      <th></th>\n",
       "      <th></th>\n",
       "      <th></th>\n",
       "      <th></th>\n",
       "      <th></th>\n",
       "      <th></th>\n",
       "    </tr>\n",
       "  </thead>\n",
       "  <tbody>\n",
       "    <tr>\n",
       "      <th>1876-01-01</th>\n",
       "      <td>127488</td>\n",
       "      <td>22.0</td>\n",
       "      <td>0</td>\n",
       "      <td>1</td>\n",
       "      <td>1876</td>\n",
       "      <td>1</td>\n",
       "      <td>NaN</td>\n",
       "      <td>NaN</td>\n",
       "    </tr>\n",
       "    <tr>\n",
       "      <th>1876-01-02</th>\n",
       "      <td>127488</td>\n",
       "      <td>25.0</td>\n",
       "      <td>0</td>\n",
       "      <td>1</td>\n",
       "      <td>1876</td>\n",
       "      <td>2</td>\n",
       "      <td>3.0</td>\n",
       "      <td>0.136364</td>\n",
       "    </tr>\n",
       "    <tr>\n",
       "      <th>1876-01-03</th>\n",
       "      <td>127488</td>\n",
       "      <td>3.0</td>\n",
       "      <td>0</td>\n",
       "      <td>1</td>\n",
       "      <td>1876</td>\n",
       "      <td>3</td>\n",
       "      <td>-22.0</td>\n",
       "      <td>-0.880000</td>\n",
       "    </tr>\n",
       "    <tr>\n",
       "      <th>1876-01-04</th>\n",
       "      <td>127488</td>\n",
       "      <td>-58.0</td>\n",
       "      <td>0</td>\n",
       "      <td>1</td>\n",
       "      <td>1876</td>\n",
       "      <td>4</td>\n",
       "      <td>-61.0</td>\n",
       "      <td>-20.333333</td>\n",
       "    </tr>\n",
       "    <tr>\n",
       "      <th>1876-01-05</th>\n",
       "      <td>127488</td>\n",
       "      <td>-98.0</td>\n",
       "      <td>0</td>\n",
       "      <td>1</td>\n",
       "      <td>1876</td>\n",
       "      <td>5</td>\n",
       "      <td>-40.0</td>\n",
       "      <td>0.689655</td>\n",
       "    </tr>\n",
       "  </tbody>\n",
       "</table>\n",
       "</div>"
      ],
      "text/plain": [
       "             SOUID    TG  Q_TG  month  year  day  diff  pct_change\n",
       "DATE                                                              \n",
       "1876-01-01  127488  22.0     0      1  1876    1   NaN         NaN\n",
       "1876-01-02  127488  25.0     0      1  1876    2   3.0    0.136364\n",
       "1876-01-03  127488   3.0     0      1  1876    3 -22.0   -0.880000\n",
       "1876-01-04  127488 -58.0     0      1  1876    4 -61.0  -20.333333\n",
       "1876-01-05  127488 -98.0     0      1  1876    5 -40.0    0.689655"
      ]
     },
     "execution_count": 37,
     "metadata": {},
     "output_type": "execute_result"
    }
   ],
   "source": [
    "df['pct_change'] = df['TG'].pct_change()\n",
    "df.head()"
   ]
  },
  {
   "cell_type": "code",
   "execution_count": 52,
   "metadata": {},
   "outputs": [
    {
     "data": {
      "text/html": [
       "<div>\n",
       "<style scoped>\n",
       "    .dataframe tbody tr th:only-of-type {\n",
       "        vertical-align: middle;\n",
       "    }\n",
       "\n",
       "    .dataframe tbody tr th {\n",
       "        vertical-align: top;\n",
       "    }\n",
       "\n",
       "    .dataframe thead th {\n",
       "        text-align: right;\n",
       "    }\n",
       "</style>\n",
       "<table border=\"1\" class=\"dataframe\">\n",
       "  <thead>\n",
       "    <tr style=\"text-align: right;\">\n",
       "      <th></th>\n",
       "      <th>SOUID</th>\n",
       "      <th>TG</th>\n",
       "      <th>Q_TG</th>\n",
       "      <th>month</th>\n",
       "      <th>year</th>\n",
       "      <th>day</th>\n",
       "      <th>diff</th>\n",
       "      <th>pct_change</th>\n",
       "    </tr>\n",
       "    <tr>\n",
       "      <th>DATE</th>\n",
       "      <th></th>\n",
       "      <th></th>\n",
       "      <th></th>\n",
       "      <th></th>\n",
       "      <th></th>\n",
       "      <th></th>\n",
       "      <th></th>\n",
       "      <th></th>\n",
       "    </tr>\n",
       "  </thead>\n",
       "  <tbody>\n",
       "    <tr>\n",
       "      <th>1876-01-01</th>\n",
       "      <td>127488</td>\n",
       "      <td>22.0</td>\n",
       "      <td>0</td>\n",
       "      <td>1</td>\n",
       "      <td>1876</td>\n",
       "      <td>1</td>\n",
       "      <td>NaN</td>\n",
       "      <td>NaN</td>\n",
       "    </tr>\n",
       "    <tr>\n",
       "      <th>1876-01-02</th>\n",
       "      <td>127488</td>\n",
       "      <td>25.0</td>\n",
       "      <td>0</td>\n",
       "      <td>1</td>\n",
       "      <td>1876</td>\n",
       "      <td>2</td>\n",
       "      <td>3.0</td>\n",
       "      <td>0.136364</td>\n",
       "    </tr>\n",
       "    <tr>\n",
       "      <th>1876-01-03</th>\n",
       "      <td>127488</td>\n",
       "      <td>3.0</td>\n",
       "      <td>0</td>\n",
       "      <td>1</td>\n",
       "      <td>1876</td>\n",
       "      <td>3</td>\n",
       "      <td>-22.0</td>\n",
       "      <td>-0.880000</td>\n",
       "    </tr>\n",
       "    <tr>\n",
       "      <th>1876-01-04</th>\n",
       "      <td>127488</td>\n",
       "      <td>-58.0</td>\n",
       "      <td>0</td>\n",
       "      <td>1</td>\n",
       "      <td>1876</td>\n",
       "      <td>4</td>\n",
       "      <td>-61.0</td>\n",
       "      <td>-20.333333</td>\n",
       "    </tr>\n",
       "    <tr>\n",
       "      <th>1876-01-05</th>\n",
       "      <td>127488</td>\n",
       "      <td>-98.0</td>\n",
       "      <td>0</td>\n",
       "      <td>1</td>\n",
       "      <td>1876</td>\n",
       "      <td>5</td>\n",
       "      <td>-40.0</td>\n",
       "      <td>0.689655</td>\n",
       "    </tr>\n",
       "  </tbody>\n",
       "</table>\n",
       "</div>"
      ],
      "text/plain": [
       "             SOUID    TG  Q_TG  month  year  day  diff  pct_change\n",
       "DATE                                                              \n",
       "1876-01-01  127488  22.0     0      1  1876    1   NaN         NaN\n",
       "1876-01-02  127488  25.0     0      1  1876    2   3.0    0.136364\n",
       "1876-01-03  127488   3.0     0      1  1876    3 -22.0   -0.880000\n",
       "1876-01-04  127488 -58.0     0      1  1876    4 -61.0  -20.333333\n",
       "1876-01-05  127488 -98.0     0      1  1876    5 -40.0    0.689655"
      ]
     },
     "execution_count": 52,
     "metadata": {},
     "output_type": "execute_result"
    }
   ],
   "source": [
    "df.head()"
   ]
  },
  {
   "cell_type": "code",
   "execution_count": 55,
   "metadata": {},
   "outputs": [],
   "source": [
    "df = df.drop(df.index[0])"
   ]
  },
  {
   "cell_type": "code",
   "execution_count": 56,
   "metadata": {},
   "outputs": [
    {
     "data": {
      "text/html": [
       "<div>\n",
       "<style scoped>\n",
       "    .dataframe tbody tr th:only-of-type {\n",
       "        vertical-align: middle;\n",
       "    }\n",
       "\n",
       "    .dataframe tbody tr th {\n",
       "        vertical-align: top;\n",
       "    }\n",
       "\n",
       "    .dataframe thead th {\n",
       "        text-align: right;\n",
       "    }\n",
       "</style>\n",
       "<table border=\"1\" class=\"dataframe\">\n",
       "  <thead>\n",
       "    <tr style=\"text-align: right;\">\n",
       "      <th></th>\n",
       "      <th>SOUID</th>\n",
       "      <th>TG</th>\n",
       "      <th>Q_TG</th>\n",
       "      <th>month</th>\n",
       "      <th>year</th>\n",
       "      <th>day</th>\n",
       "      <th>diff</th>\n",
       "      <th>pct_change</th>\n",
       "    </tr>\n",
       "    <tr>\n",
       "      <th>DATE</th>\n",
       "      <th></th>\n",
       "      <th></th>\n",
       "      <th></th>\n",
       "      <th></th>\n",
       "      <th></th>\n",
       "      <th></th>\n",
       "      <th></th>\n",
       "      <th></th>\n",
       "    </tr>\n",
       "  </thead>\n",
       "  <tbody>\n",
       "    <tr>\n",
       "      <th>1876-02-07</th>\n",
       "      <td>127488</td>\n",
       "      <td>1.0</td>\n",
       "      <td>0</td>\n",
       "      <td>2</td>\n",
       "      <td>1876</td>\n",
       "      <td>7</td>\n",
       "      <td>8.0</td>\n",
       "      <td>-1.125000</td>\n",
       "    </tr>\n",
       "    <tr>\n",
       "      <th>1876-11-13</th>\n",
       "      <td>127488</td>\n",
       "      <td>1.0</td>\n",
       "      <td>0</td>\n",
       "      <td>11</td>\n",
       "      <td>1876</td>\n",
       "      <td>13</td>\n",
       "      <td>39.0</td>\n",
       "      <td>-1.025641</td>\n",
       "    </tr>\n",
       "    <tr>\n",
       "      <th>1877-12-28</th>\n",
       "      <td>127488</td>\n",
       "      <td>1.0</td>\n",
       "      <td>0</td>\n",
       "      <td>12</td>\n",
       "      <td>1877</td>\n",
       "      <td>28</td>\n",
       "      <td>-5.0</td>\n",
       "      <td>-0.800000</td>\n",
       "    </tr>\n",
       "    <tr>\n",
       "      <th>1879-11-18</th>\n",
       "      <td>127488</td>\n",
       "      <td>1.0</td>\n",
       "      <td>0</td>\n",
       "      <td>11</td>\n",
       "      <td>1879</td>\n",
       "      <td>18</td>\n",
       "      <td>-14.0</td>\n",
       "      <td>-0.928571</td>\n",
       "    </tr>\n",
       "    <tr>\n",
       "      <th>1882-01-17</th>\n",
       "      <td>127488</td>\n",
       "      <td>1.0</td>\n",
       "      <td>0</td>\n",
       "      <td>1</td>\n",
       "      <td>1882</td>\n",
       "      <td>17</td>\n",
       "      <td>5.0</td>\n",
       "      <td>-1.200000</td>\n",
       "    </tr>\n",
       "    <tr>\n",
       "      <th>...</th>\n",
       "      <td>...</td>\n",
       "      <td>...</td>\n",
       "      <td>...</td>\n",
       "      <td>...</td>\n",
       "      <td>...</td>\n",
       "      <td>...</td>\n",
       "      <td>...</td>\n",
       "      <td>...</td>\n",
       "    </tr>\n",
       "    <tr>\n",
       "      <th>2017-01-22</th>\n",
       "      <td>111448</td>\n",
       "      <td>1.0</td>\n",
       "      <td>0</td>\n",
       "      <td>1</td>\n",
       "      <td>2017</td>\n",
       "      <td>22</td>\n",
       "      <td>-19.0</td>\n",
       "      <td>-0.947368</td>\n",
       "    </tr>\n",
       "    <tr>\n",
       "      <th>2018-02-20</th>\n",
       "      <td>111448</td>\n",
       "      <td>1.0</td>\n",
       "      <td>0</td>\n",
       "      <td>2</td>\n",
       "      <td>2018</td>\n",
       "      <td>20</td>\n",
       "      <td>-17.0</td>\n",
       "      <td>-0.941176</td>\n",
       "    </tr>\n",
       "    <tr>\n",
       "      <th>2018-12-15</th>\n",
       "      <td>111448</td>\n",
       "      <td>1.0</td>\n",
       "      <td>0</td>\n",
       "      <td>12</td>\n",
       "      <td>2018</td>\n",
       "      <td>15</td>\n",
       "      <td>-4.0</td>\n",
       "      <td>-0.750000</td>\n",
       "    </tr>\n",
       "    <tr>\n",
       "      <th>2019-01-30</th>\n",
       "      <td>111448</td>\n",
       "      <td>1.0</td>\n",
       "      <td>0</td>\n",
       "      <td>1</td>\n",
       "      <td>2019</td>\n",
       "      <td>30</td>\n",
       "      <td>-12.0</td>\n",
       "      <td>-0.916667</td>\n",
       "    </tr>\n",
       "    <tr>\n",
       "      <th>2019-12-29</th>\n",
       "      <td>111448</td>\n",
       "      <td>1.0</td>\n",
       "      <td>0</td>\n",
       "      <td>12</td>\n",
       "      <td>2019</td>\n",
       "      <td>29</td>\n",
       "      <td>-13.0</td>\n",
       "      <td>-0.923077</td>\n",
       "    </tr>\n",
       "  </tbody>\n",
       "</table>\n",
       "<p>213 rows × 8 columns</p>\n",
       "</div>"
      ],
      "text/plain": [
       "             SOUID   TG  Q_TG  month  year  day  diff  pct_change\n",
       "DATE                                                             \n",
       "1876-02-07  127488  1.0     0      2  1876    7   8.0   -1.125000\n",
       "1876-11-13  127488  1.0     0     11  1876   13  39.0   -1.025641\n",
       "1877-12-28  127488  1.0     0     12  1877   28  -5.0   -0.800000\n",
       "1879-11-18  127488  1.0     0     11  1879   18 -14.0   -0.928571\n",
       "1882-01-17  127488  1.0     0      1  1882   17   5.0   -1.200000\n",
       "...            ...  ...   ...    ...   ...  ...   ...         ...\n",
       "2017-01-22  111448  1.0     0      1  2017   22 -19.0   -0.947368\n",
       "2018-02-20  111448  1.0     0      2  2018   20 -17.0   -0.941176\n",
       "2018-12-15  111448  1.0     0     12  2018   15  -4.0   -0.750000\n",
       "2019-01-30  111448  1.0     0      1  2019   30 -12.0   -0.916667\n",
       "2019-12-29  111448  1.0     0     12  2019   29 -13.0   -0.923077\n",
       "\n",
       "[213 rows x 8 columns]"
      ]
     },
     "execution_count": 56,
     "metadata": {},
     "output_type": "execute_result"
    }
   ],
   "source": [
    "df.loc[df.index.isin(t_index)]"
   ]
  },
  {
   "cell_type": "code",
   "execution_count": 57,
   "metadata": {},
   "outputs": [
    {
     "data": {
      "text/plain": [
       "<matplotlib.axes._subplots.AxesSubplot at 0x1f5174d6508>"
      ]
     },
     "execution_count": 57,
     "metadata": {},
     "output_type": "execute_result"
    },
    {
     "data": {
      "image/png": "[encoded data removed]",
      "text/plain": [
       "<Figure size 432x288 with 1 Axes>"
      ]
     },
     "metadata": {
      "needs_background": "light"
     },
     "output_type": "display_data"
    }
   ],
   "source": [
    "df['pct_change'].plot() # what does this mean, why is this good?"
   ]
  },
  {
   "cell_type": "code",
   "execution_count": 58,
   "metadata": {},
   "outputs": [
    {
     "data": {
      "text/plain": [
       "0.002220769380850906"
      ]
     },
     "execution_count": 58,
     "metadata": {},
     "output_type": "execute_result"
    }
   ],
   "source": [
    "df['pct_change'].mean() #this should tell us the average change in temeprature per day"
   ]
  },
  {
   "cell_type": "markdown",
   "metadata": {},
   "source": [
    "#### Other option: Relative Change with logarithm\n",
    "\n",
    "It also takes care of heteroscedasticity"
   ]
  },
  {
   "cell_type": "code",
   "execution_count": 59,
   "metadata": {},
   "outputs": [],
   "source": [
    "#df['log'] = np.log(df['TG']) \n",
    "#df.head(100) # division by zero, i definitely need to talk about this, pass on log"
   ]
  },
  {
   "cell_type": "code",
   "execution_count": 60,
   "metadata": {},
   "outputs": [],
   "source": [
    "# cant take log of negative, for perc_chang if temperature = 0 use 0.01 instead (or so)\n",
    "# so i pass on log for the moment"
   ]
  },
  {
   "cell_type": "code",
   "execution_count": 61,
   "metadata": {
    "scrolled": true
   },
   "outputs": [],
   "source": [
    "#df['log'].plot()"
   ]
  },
  {
   "cell_type": "code",
   "execution_count": 62,
   "metadata": {},
   "outputs": [],
   "source": [
    "#df['log'].isna().sum()"
   ]
  },
  {
   "cell_type": "markdown",
   "metadata": {},
   "source": [
    "### b. Trend\n",
    "\n",
    "The trend is the shift in your data over time. the above is also used to determine the trend."
   ]
  },
  {
   "cell_type": "markdown",
   "metadata": {},
   "source": [
    "## rolling mean"
   ]
  },
  {
   "cell_type": "code",
   "execution_count": 63,
   "metadata": {},
   "outputs": [],
   "source": [
    "#df.groupby(['month']).mean()"
   ]
  },
  {
   "cell_type": "code",
   "execution_count": 64,
   "metadata": {},
   "outputs": [
    {
     "data": {
      "text/plain": [
       "<matplotlib.axes._subplots.AxesSubplot at 0x1f519551548>"
      ]
     },
     "execution_count": 64,
     "metadata": {},
     "output_type": "execute_result"
    },
    {
     "data": {
      "image/png": "[encoded data removed]",
      "text/plain": [
       "<Figure size 432x288 with 1 Axes>"
      ]
     },
     "metadata": {
      "needs_background": "light"
     },
     "output_type": "display_data"
    }
   ],
   "source": [
    "df['TG'].plot()"
   ]
  },
  {
   "cell_type": "code",
   "execution_count": 65,
   "metadata": {},
   "outputs": [],
   "source": [
    "df['rolling'] = df['TG'].rolling(window=365).mean()"
   ]
  },
  {
   "cell_type": "code",
   "execution_count": 66,
   "metadata": {},
   "outputs": [
    {
     "data": {
      "text/html": [
       "<div>\n",
       "<style scoped>\n",
       "    .dataframe tbody tr th:only-of-type {\n",
       "        vertical-align: middle;\n",
       "    }\n",
       "\n",
       "    .dataframe tbody tr th {\n",
       "        vertical-align: top;\n",
       "    }\n",
       "\n",
       "    .dataframe thead th {\n",
       "        text-align: right;\n",
       "    }\n",
       "</style>\n",
       "<table border=\"1\" class=\"dataframe\">\n",
       "  <thead>\n",
       "    <tr style=\"text-align: right;\">\n",
       "      <th></th>\n",
       "      <th>SOUID</th>\n",
       "      <th>TG</th>\n",
       "      <th>Q_TG</th>\n",
       "      <th>month</th>\n",
       "      <th>year</th>\n",
       "      <th>day</th>\n",
       "      <th>diff</th>\n",
       "      <th>pct_change</th>\n",
       "      <th>rolling</th>\n",
       "    </tr>\n",
       "    <tr>\n",
       "      <th>DATE</th>\n",
       "      <th></th>\n",
       "      <th></th>\n",
       "      <th></th>\n",
       "      <th></th>\n",
       "      <th></th>\n",
       "      <th></th>\n",
       "      <th></th>\n",
       "      <th></th>\n",
       "      <th></th>\n",
       "    </tr>\n",
       "  </thead>\n",
       "  <tbody>\n",
       "    <tr>\n",
       "      <th>1876-01-02</th>\n",
       "      <td>127488</td>\n",
       "      <td>25.0</td>\n",
       "      <td>0</td>\n",
       "      <td>1</td>\n",
       "      <td>1876</td>\n",
       "      <td>2</td>\n",
       "      <td>3.0</td>\n",
       "      <td>0.136364</td>\n",
       "      <td>NaN</td>\n",
       "    </tr>\n",
       "    <tr>\n",
       "      <th>1876-01-03</th>\n",
       "      <td>127488</td>\n",
       "      <td>3.0</td>\n",
       "      <td>0</td>\n",
       "      <td>1</td>\n",
       "      <td>1876</td>\n",
       "      <td>3</td>\n",
       "      <td>-22.0</td>\n",
       "      <td>-0.880000</td>\n",
       "      <td>NaN</td>\n",
       "    </tr>\n",
       "    <tr>\n",
       "      <th>1876-01-04</th>\n",
       "      <td>127488</td>\n",
       "      <td>-58.0</td>\n",
       "      <td>0</td>\n",
       "      <td>1</td>\n",
       "      <td>1876</td>\n",
       "      <td>4</td>\n",
       "      <td>-61.0</td>\n",
       "      <td>-20.333333</td>\n",
       "      <td>NaN</td>\n",
       "    </tr>\n",
       "    <tr>\n",
       "      <th>1876-01-05</th>\n",
       "      <td>127488</td>\n",
       "      <td>-98.0</td>\n",
       "      <td>0</td>\n",
       "      <td>1</td>\n",
       "      <td>1876</td>\n",
       "      <td>5</td>\n",
       "      <td>-40.0</td>\n",
       "      <td>0.689655</td>\n",
       "      <td>NaN</td>\n",
       "    </tr>\n",
       "    <tr>\n",
       "      <th>1876-01-06</th>\n",
       "      <td>127488</td>\n",
       "      <td>-77.0</td>\n",
       "      <td>0</td>\n",
       "      <td>1</td>\n",
       "      <td>1876</td>\n",
       "      <td>6</td>\n",
       "      <td>21.0</td>\n",
       "      <td>-0.214286</td>\n",
       "      <td>NaN</td>\n",
       "    </tr>\n",
       "    <tr>\n",
       "      <th>...</th>\n",
       "      <td>...</td>\n",
       "      <td>...</td>\n",
       "      <td>...</td>\n",
       "      <td>...</td>\n",
       "      <td>...</td>\n",
       "      <td>...</td>\n",
       "      <td>...</td>\n",
       "      <td>...</td>\n",
       "      <td>...</td>\n",
       "    </tr>\n",
       "    <tr>\n",
       "      <th>2020-09-16</th>\n",
       "      <td>111448</td>\n",
       "      <td>221.0</td>\n",
       "      <td>0</td>\n",
       "      <td>9</td>\n",
       "      <td>2020</td>\n",
       "      <td>16</td>\n",
       "      <td>-11.0</td>\n",
       "      <td>-0.047414</td>\n",
       "      <td>117.610959</td>\n",
       "    </tr>\n",
       "    <tr>\n",
       "      <th>2020-09-17</th>\n",
       "      <td>111448</td>\n",
       "      <td>146.0</td>\n",
       "      <td>0</td>\n",
       "      <td>9</td>\n",
       "      <td>2020</td>\n",
       "      <td>17</td>\n",
       "      <td>-75.0</td>\n",
       "      <td>-0.339367</td>\n",
       "      <td>117.690411</td>\n",
       "    </tr>\n",
       "    <tr>\n",
       "      <th>2020-09-18</th>\n",
       "      <td>111448</td>\n",
       "      <td>130.0</td>\n",
       "      <td>0</td>\n",
       "      <td>9</td>\n",
       "      <td>2020</td>\n",
       "      <td>18</td>\n",
       "      <td>-16.0</td>\n",
       "      <td>-0.109589</td>\n",
       "      <td>117.736986</td>\n",
       "    </tr>\n",
       "    <tr>\n",
       "      <th>2020-09-19</th>\n",
       "      <td>111448</td>\n",
       "      <td>144.0</td>\n",
       "      <td>0</td>\n",
       "      <td>9</td>\n",
       "      <td>2020</td>\n",
       "      <td>19</td>\n",
       "      <td>14.0</td>\n",
       "      <td>0.107692</td>\n",
       "      <td>117.794521</td>\n",
       "    </tr>\n",
       "    <tr>\n",
       "      <th>2020-09-20</th>\n",
       "      <td>111448</td>\n",
       "      <td>159.0</td>\n",
       "      <td>0</td>\n",
       "      <td>9</td>\n",
       "      <td>2020</td>\n",
       "      <td>20</td>\n",
       "      <td>15.0</td>\n",
       "      <td>0.104167</td>\n",
       "      <td>117.835616</td>\n",
       "    </tr>\n",
       "  </tbody>\n",
       "</table>\n",
       "<p>52858 rows × 9 columns</p>\n",
       "</div>"
      ],
      "text/plain": [
       "             SOUID     TG  Q_TG  month  year  day  diff  pct_change  \\\n",
       "DATE                                                                  \n",
       "1876-01-02  127488   25.0     0      1  1876    2   3.0    0.136364   \n",
       "1876-01-03  127488    3.0     0      1  1876    3 -22.0   -0.880000   \n",
       "1876-01-04  127488  -58.0     0      1  1876    4 -61.0  -20.333333   \n",
       "1876-01-05  127488  -98.0     0      1  1876    5 -40.0    0.689655   \n",
       "1876-01-06  127488  -77.0     0      1  1876    6  21.0   -0.214286   \n",
       "...            ...    ...   ...    ...   ...  ...   ...         ...   \n",
       "2020-09-16  111448  221.0     0      9  2020   16 -11.0   -0.047414   \n",
       "2020-09-17  111448  146.0     0      9  2020   17 -75.0   -0.339367   \n",
       "2020-09-18  111448  130.0     0      9  2020   18 -16.0   -0.109589   \n",
       "2020-09-19  111448  144.0     0      9  2020   19  14.0    0.107692   \n",
       "2020-09-20  111448  159.0     0      9  2020   20  15.0    0.104167   \n",
       "\n",
       "               rolling  \n",
       "DATE                    \n",
       "1876-01-02         NaN  \n",
       "1876-01-03         NaN  \n",
       "1876-01-04         NaN  \n",
       "1876-01-05         NaN  \n",
       "1876-01-06         NaN  \n",
       "...                ...  \n",
       "2020-09-16  117.610959  \n",
       "2020-09-17  117.690411  \n",
       "2020-09-18  117.736986  \n",
       "2020-09-19  117.794521  \n",
       "2020-09-20  117.835616  \n",
       "\n",
       "[52858 rows x 9 columns]"
      ]
     },
     "execution_count": 66,
     "metadata": {},
     "output_type": "execute_result"
    }
   ],
   "source": [
    "df"
   ]
  },
  {
   "cell_type": "markdown",
   "metadata": {},
   "source": [
    "## Seasonality"
   ]
  },
  {
   "cell_type": "markdown",
   "metadata": {},
   "source": [
    "Seasonality is about reoccuring patterns in your time series."
   ]
  },
  {
   "cell_type": "markdown",
   "metadata": {},
   "source": [
    "### How can we get the seasonality?"
   ]
  },
  {
   "cell_type": "code",
   "execution_count": 67,
   "metadata": {},
   "outputs": [],
   "source": [
    "df['TG_wo_Trend'] = df['TG'] - df['rolling']"
   ]
  },
  {
   "cell_type": "code",
   "execution_count": 68,
   "metadata": {},
   "outputs": [],
   "source": [
    "df['seasonal'] = df['TG_wo_Trend'].rolling(window=30).mean()"
   ]
  },
  {
   "cell_type": "code",
   "execution_count": 69,
   "metadata": {},
   "outputs": [],
   "source": [
    "df['residual'] = df['TG'] - df['rolling'] - df['seasonal']"
   ]
  },
  {
   "cell_type": "code",
   "execution_count": 70,
   "metadata": {},
   "outputs": [
    {
     "data": {
      "text/html": [
       "<div>\n",
       "<style scoped>\n",
       "    .dataframe tbody tr th:only-of-type {\n",
       "        vertical-align: middle;\n",
       "    }\n",
       "\n",
       "    .dataframe tbody tr th {\n",
       "        vertical-align: top;\n",
       "    }\n",
       "\n",
       "    .dataframe thead th {\n",
       "        text-align: right;\n",
       "    }\n",
       "</style>\n",
       "<table border=\"1\" class=\"dataframe\">\n",
       "  <thead>\n",
       "    <tr style=\"text-align: right;\">\n",
       "      <th></th>\n",
       "      <th>SOUID</th>\n",
       "      <th>TG</th>\n",
       "      <th>Q_TG</th>\n",
       "      <th>month</th>\n",
       "      <th>year</th>\n",
       "      <th>day</th>\n",
       "      <th>diff</th>\n",
       "      <th>pct_change</th>\n",
       "      <th>rolling</th>\n",
       "      <th>TG_wo_Trend</th>\n",
       "      <th>seasonal</th>\n",
       "      <th>residual</th>\n",
       "    </tr>\n",
       "    <tr>\n",
       "      <th>DATE</th>\n",
       "      <th></th>\n",
       "      <th></th>\n",
       "      <th></th>\n",
       "      <th></th>\n",
       "      <th></th>\n",
       "      <th></th>\n",
       "      <th></th>\n",
       "      <th></th>\n",
       "      <th></th>\n",
       "      <th></th>\n",
       "      <th></th>\n",
       "      <th></th>\n",
       "    </tr>\n",
       "  </thead>\n",
       "  <tbody>\n",
       "    <tr>\n",
       "      <th>1876-01-02</th>\n",
       "      <td>127488</td>\n",
       "      <td>25.0</td>\n",
       "      <td>0</td>\n",
       "      <td>1</td>\n",
       "      <td>1876</td>\n",
       "      <td>2</td>\n",
       "      <td>3.0</td>\n",
       "      <td>0.136364</td>\n",
       "      <td>NaN</td>\n",
       "      <td>NaN</td>\n",
       "      <td>NaN</td>\n",
       "      <td>NaN</td>\n",
       "    </tr>\n",
       "    <tr>\n",
       "      <th>1876-01-03</th>\n",
       "      <td>127488</td>\n",
       "      <td>3.0</td>\n",
       "      <td>0</td>\n",
       "      <td>1</td>\n",
       "      <td>1876</td>\n",
       "      <td>3</td>\n",
       "      <td>-22.0</td>\n",
       "      <td>-0.880000</td>\n",
       "      <td>NaN</td>\n",
       "      <td>NaN</td>\n",
       "      <td>NaN</td>\n",
       "      <td>NaN</td>\n",
       "    </tr>\n",
       "    <tr>\n",
       "      <th>1876-01-04</th>\n",
       "      <td>127488</td>\n",
       "      <td>-58.0</td>\n",
       "      <td>0</td>\n",
       "      <td>1</td>\n",
       "      <td>1876</td>\n",
       "      <td>4</td>\n",
       "      <td>-61.0</td>\n",
       "      <td>-20.333333</td>\n",
       "      <td>NaN</td>\n",
       "      <td>NaN</td>\n",
       "      <td>NaN</td>\n",
       "      <td>NaN</td>\n",
       "    </tr>\n",
       "    <tr>\n",
       "      <th>1876-01-05</th>\n",
       "      <td>127488</td>\n",
       "      <td>-98.0</td>\n",
       "      <td>0</td>\n",
       "      <td>1</td>\n",
       "      <td>1876</td>\n",
       "      <td>5</td>\n",
       "      <td>-40.0</td>\n",
       "      <td>0.689655</td>\n",
       "      <td>NaN</td>\n",
       "      <td>NaN</td>\n",
       "      <td>NaN</td>\n",
       "      <td>NaN</td>\n",
       "    </tr>\n",
       "    <tr>\n",
       "      <th>1876-01-06</th>\n",
       "      <td>127488</td>\n",
       "      <td>-77.0</td>\n",
       "      <td>0</td>\n",
       "      <td>1</td>\n",
       "      <td>1876</td>\n",
       "      <td>6</td>\n",
       "      <td>21.0</td>\n",
       "      <td>-0.214286</td>\n",
       "      <td>NaN</td>\n",
       "      <td>NaN</td>\n",
       "      <td>NaN</td>\n",
       "      <td>NaN</td>\n",
       "    </tr>\n",
       "    <tr>\n",
       "      <th>...</th>\n",
       "      <td>...</td>\n",
       "      <td>...</td>\n",
       "      <td>...</td>\n",
       "      <td>...</td>\n",
       "      <td>...</td>\n",
       "      <td>...</td>\n",
       "      <td>...</td>\n",
       "      <td>...</td>\n",
       "      <td>...</td>\n",
       "      <td>...</td>\n",
       "      <td>...</td>\n",
       "      <td>...</td>\n",
       "    </tr>\n",
       "    <tr>\n",
       "      <th>2020-09-16</th>\n",
       "      <td>111448</td>\n",
       "      <td>221.0</td>\n",
       "      <td>0</td>\n",
       "      <td>9</td>\n",
       "      <td>2020</td>\n",
       "      <td>16</td>\n",
       "      <td>-11.0</td>\n",
       "      <td>-0.047414</td>\n",
       "      <td>117.610959</td>\n",
       "      <td>103.389041</td>\n",
       "      <td>71.552877</td>\n",
       "      <td>31.836164</td>\n",
       "    </tr>\n",
       "    <tr>\n",
       "      <th>2020-09-17</th>\n",
       "      <td>111448</td>\n",
       "      <td>146.0</td>\n",
       "      <td>0</td>\n",
       "      <td>9</td>\n",
       "      <td>2020</td>\n",
       "      <td>17</td>\n",
       "      <td>-75.0</td>\n",
       "      <td>-0.339367</td>\n",
       "      <td>117.690411</td>\n",
       "      <td>28.309589</td>\n",
       "      <td>69.360639</td>\n",
       "      <td>-41.051050</td>\n",
       "    </tr>\n",
       "    <tr>\n",
       "      <th>2020-09-18</th>\n",
       "      <td>111448</td>\n",
       "      <td>130.0</td>\n",
       "      <td>0</td>\n",
       "      <td>9</td>\n",
       "      <td>2020</td>\n",
       "      <td>18</td>\n",
       "      <td>-16.0</td>\n",
       "      <td>-0.109589</td>\n",
       "      <td>117.736986</td>\n",
       "      <td>12.263014</td>\n",
       "      <td>66.568676</td>\n",
       "      <td>-54.305662</td>\n",
       "    </tr>\n",
       "    <tr>\n",
       "      <th>2020-09-19</th>\n",
       "      <td>111448</td>\n",
       "      <td>144.0</td>\n",
       "      <td>0</td>\n",
       "      <td>9</td>\n",
       "      <td>2020</td>\n",
       "      <td>19</td>\n",
       "      <td>14.0</td>\n",
       "      <td>0.107692</td>\n",
       "      <td>117.794521</td>\n",
       "      <td>26.205479</td>\n",
       "      <td>63.246941</td>\n",
       "      <td>-37.041461</td>\n",
       "    </tr>\n",
       "    <tr>\n",
       "      <th>2020-09-20</th>\n",
       "      <td>111448</td>\n",
       "      <td>159.0</td>\n",
       "      <td>0</td>\n",
       "      <td>9</td>\n",
       "      <td>2020</td>\n",
       "      <td>20</td>\n",
       "      <td>15.0</td>\n",
       "      <td>0.104167</td>\n",
       "      <td>117.835616</td>\n",
       "      <td>41.164384</td>\n",
       "      <td>59.098265</td>\n",
       "      <td>-17.933881</td>\n",
       "    </tr>\n",
       "  </tbody>\n",
       "</table>\n",
       "<p>52858 rows × 12 columns</p>\n",
       "</div>"
      ],
      "text/plain": [
       "             SOUID     TG  Q_TG  month  year  day  diff  pct_change  \\\n",
       "DATE                                                                  \n",
       "1876-01-02  127488   25.0     0      1  1876    2   3.0    0.136364   \n",
       "1876-01-03  127488    3.0     0      1  1876    3 -22.0   -0.880000   \n",
       "1876-01-04  127488  -58.0     0      1  1876    4 -61.0  -20.333333   \n",
       "1876-01-05  127488  -98.0     0      1  1876    5 -40.0    0.689655   \n",
       "1876-01-06  127488  -77.0     0      1  1876    6  21.0   -0.214286   \n",
       "...            ...    ...   ...    ...   ...  ...   ...         ...   \n",
       "2020-09-16  111448  221.0     0      9  2020   16 -11.0   -0.047414   \n",
       "2020-09-17  111448  146.0     0      9  2020   17 -75.0   -0.339367   \n",
       "2020-09-18  111448  130.0     0      9  2020   18 -16.0   -0.109589   \n",
       "2020-09-19  111448  144.0     0      9  2020   19  14.0    0.107692   \n",
       "2020-09-20  111448  159.0     0      9  2020   20  15.0    0.104167   \n",
       "\n",
       "               rolling  TG_wo_Trend   seasonal   residual  \n",
       "DATE                                                       \n",
       "1876-01-02         NaN          NaN        NaN        NaN  \n",
       "1876-01-03         NaN          NaN        NaN        NaN  \n",
       "1876-01-04         NaN          NaN        NaN        NaN  \n",
       "1876-01-05         NaN          NaN        NaN        NaN  \n",
       "1876-01-06         NaN          NaN        NaN        NaN  \n",
       "...                ...          ...        ...        ...  \n",
       "2020-09-16  117.610959   103.389041  71.552877  31.836164  \n",
       "2020-09-17  117.690411    28.309589  69.360639 -41.051050  \n",
       "2020-09-18  117.736986    12.263014  66.568676 -54.305662  \n",
       "2020-09-19  117.794521    26.205479  63.246941 -37.041461  \n",
       "2020-09-20  117.835616    41.164384  59.098265 -17.933881  \n",
       "\n",
       "[52858 rows x 12 columns]"
      ]
     },
     "execution_count": 70,
     "metadata": {},
     "output_type": "execute_result"
    }
   ],
   "source": [
    "df"
   ]
  },
  {
   "cell_type": "markdown",
   "metadata": {},
   "source": [
    "# Begin of Linear Autoregression"
   ]
  },
  {
   "cell_type": "markdown",
   "metadata": {},
   "source": [
    "### first i build a simple version from scratch & then i do it more properly."
   ]
  },
  {
   "cell_type": "code",
   "execution_count": 71,
   "metadata": {},
   "outputs": [
    {
     "data": {
      "text/plain": [
       "<matplotlib.axes._subplots.AxesSubplot at 0x1f51af0bd88>"
      ]
     },
     "execution_count": 71,
     "metadata": {},
     "output_type": "execute_result"
    },
    {
     "data": {
      "image/png": "[encoded data removed]",
      "text/plain": [
       "<Figure size 432x288 with 1 Axes>"
      ]
     },
     "metadata": {
      "needs_background": "light"
     },
     "output_type": "display_data"
    }
   ],
   "source": [
    "df['TG'].plot()"
   ]
  },
  {
   "cell_type": "markdown",
   "metadata": {},
   "source": [
    "### autoregression model "
   ]
  },
  {
   "cell_type": "code",
   "execution_count": 72,
   "metadata": {},
   "outputs": [],
   "source": [
    "# therefore we create columns that \"lag behind\" the present column \\\n",
    "# for the first try ill do it with a lag of two days"
   ]
  },
  {
   "cell_type": "code",
   "execution_count": 73,
   "metadata": {},
   "outputs": [
    {
     "name": "stdout",
     "output_type": "stream",
     "text": [
      "1\n",
      "2\n",
      "3\n"
     ]
    }
   ],
   "source": [
    "for i in range(1,4):\n",
    "    print(i)\n",
    "    df[f'TG - {i}days'] = df['TG'].shift(i)"
   ]
  },
  {
   "cell_type": "code",
   "execution_count": 74,
   "metadata": {},
   "outputs": [
    {
     "data": {
      "text/html": [
       "<div>\n",
       "<style scoped>\n",
       "    .dataframe tbody tr th:only-of-type {\n",
       "        vertical-align: middle;\n",
       "    }\n",
       "\n",
       "    .dataframe tbody tr th {\n",
       "        vertical-align: top;\n",
       "    }\n",
       "\n",
       "    .dataframe thead th {\n",
       "        text-align: right;\n",
       "    }\n",
       "</style>\n",
       "<table border=\"1\" class=\"dataframe\">\n",
       "  <thead>\n",
       "    <tr style=\"text-align: right;\">\n",
       "      <th></th>\n",
       "      <th>SOUID</th>\n",
       "      <th>TG</th>\n",
       "      <th>Q_TG</th>\n",
       "      <th>month</th>\n",
       "      <th>year</th>\n",
       "      <th>day</th>\n",
       "      <th>diff</th>\n",
       "      <th>pct_change</th>\n",
       "      <th>rolling</th>\n",
       "      <th>TG_wo_Trend</th>\n",
       "      <th>seasonal</th>\n",
       "      <th>residual</th>\n",
       "      <th>TG - 1days</th>\n",
       "      <th>TG - 2days</th>\n",
       "      <th>TG - 3days</th>\n",
       "    </tr>\n",
       "    <tr>\n",
       "      <th>DATE</th>\n",
       "      <th></th>\n",
       "      <th></th>\n",
       "      <th></th>\n",
       "      <th></th>\n",
       "      <th></th>\n",
       "      <th></th>\n",
       "      <th></th>\n",
       "      <th></th>\n",
       "      <th></th>\n",
       "      <th></th>\n",
       "      <th></th>\n",
       "      <th></th>\n",
       "      <th></th>\n",
       "      <th></th>\n",
       "      <th></th>\n",
       "    </tr>\n",
       "  </thead>\n",
       "  <tbody>\n",
       "    <tr>\n",
       "      <th>1876-01-02</th>\n",
       "      <td>127488</td>\n",
       "      <td>25.0</td>\n",
       "      <td>0</td>\n",
       "      <td>1</td>\n",
       "      <td>1876</td>\n",
       "      <td>2</td>\n",
       "      <td>3.0</td>\n",
       "      <td>0.136364</td>\n",
       "      <td>NaN</td>\n",
       "      <td>NaN</td>\n",
       "      <td>NaN</td>\n",
       "      <td>NaN</td>\n",
       "      <td>NaN</td>\n",
       "      <td>NaN</td>\n",
       "      <td>NaN</td>\n",
       "    </tr>\n",
       "    <tr>\n",
       "      <th>1876-01-03</th>\n",
       "      <td>127488</td>\n",
       "      <td>3.0</td>\n",
       "      <td>0</td>\n",
       "      <td>1</td>\n",
       "      <td>1876</td>\n",
       "      <td>3</td>\n",
       "      <td>-22.0</td>\n",
       "      <td>-0.880000</td>\n",
       "      <td>NaN</td>\n",
       "      <td>NaN</td>\n",
       "      <td>NaN</td>\n",
       "      <td>NaN</td>\n",
       "      <td>25.0</td>\n",
       "      <td>NaN</td>\n",
       "      <td>NaN</td>\n",
       "    </tr>\n",
       "    <tr>\n",
       "      <th>1876-01-04</th>\n",
       "      <td>127488</td>\n",
       "      <td>-58.0</td>\n",
       "      <td>0</td>\n",
       "      <td>1</td>\n",
       "      <td>1876</td>\n",
       "      <td>4</td>\n",
       "      <td>-61.0</td>\n",
       "      <td>-20.333333</td>\n",
       "      <td>NaN</td>\n",
       "      <td>NaN</td>\n",
       "      <td>NaN</td>\n",
       "      <td>NaN</td>\n",
       "      <td>3.0</td>\n",
       "      <td>25.0</td>\n",
       "      <td>NaN</td>\n",
       "    </tr>\n",
       "  </tbody>\n",
       "</table>\n",
       "</div>"
      ],
      "text/plain": [
       "             SOUID    TG  Q_TG  month  year  day  diff  pct_change  rolling  \\\n",
       "DATE                                                                          \n",
       "1876-01-02  127488  25.0     0      1  1876    2   3.0    0.136364      NaN   \n",
       "1876-01-03  127488   3.0     0      1  1876    3 -22.0   -0.880000      NaN   \n",
       "1876-01-04  127488 -58.0     0      1  1876    4 -61.0  -20.333333      NaN   \n",
       "\n",
       "            TG_wo_Trend  seasonal  residual  TG - 1days  TG - 2days  \\\n",
       "DATE                                                                  \n",
       "1876-01-02          NaN       NaN       NaN         NaN         NaN   \n",
       "1876-01-03          NaN       NaN       NaN        25.0         NaN   \n",
       "1876-01-04          NaN       NaN       NaN         3.0        25.0   \n",
       "\n",
       "            TG - 3days  \n",
       "DATE                    \n",
       "1876-01-02         NaN  \n",
       "1876-01-03         NaN  \n",
       "1876-01-04         NaN  "
      ]
     },
     "execution_count": 74,
     "metadata": {},
     "output_type": "execute_result"
    }
   ],
   "source": [
    "df.head(3)"
   ]
  },
  {
   "cell_type": "code",
   "execution_count": 75,
   "metadata": {},
   "outputs": [],
   "source": [
    "#sns.heatmap(df.corr())"
   ]
  },
  {
   "cell_type": "code",
   "execution_count": 76,
   "metadata": {},
   "outputs": [],
   "source": [
    "features = ['TG - 1days','TG - 2days', 'TG - 3days' ]"
   ]
  },
  {
   "cell_type": "markdown",
   "metadata": {},
   "source": [
    "### Train-Test Split:\n",
    "were going to do a tt-split as always:\n",
    "- Last 2000 days -> Testing\n",
    "- All days except the Last 2000 -> Training"
   ]
  },
  {
   "cell_type": "code",
   "execution_count": 77,
   "metadata": {},
   "outputs": [],
   "source": [
    "df.dropna(inplace=True) # this is necessary, because the lag creates two rows with NaNs"
   ]
  },
  {
   "cell_type": "code",
   "execution_count": 78,
   "metadata": {},
   "outputs": [],
   "source": [
    "X_train = df.iloc[:-2000][features]\n",
    "X_test = df.iloc[-2000:][features]\n",
    "\n",
    "y_train = df.iloc[:-2000]['TG']\n",
    "y_test = df.iloc[-2000:]['TG']"
   ]
  },
  {
   "cell_type": "code",
   "execution_count": 79,
   "metadata": {},
   "outputs": [
    {
     "data": {
      "text/html": [
       "<div>\n",
       "<style scoped>\n",
       "    .dataframe tbody tr th:only-of-type {\n",
       "        vertical-align: middle;\n",
       "    }\n",
       "\n",
       "    .dataframe tbody tr th {\n",
       "        vertical-align: top;\n",
       "    }\n",
       "\n",
       "    .dataframe thead th {\n",
       "        text-align: right;\n",
       "    }\n",
       "</style>\n",
       "<table border=\"1\" class=\"dataframe\">\n",
       "  <thead>\n",
       "    <tr style=\"text-align: right;\">\n",
       "      <th></th>\n",
       "      <th>SOUID</th>\n",
       "      <th>TG</th>\n",
       "      <th>Q_TG</th>\n",
       "      <th>month</th>\n",
       "      <th>year</th>\n",
       "      <th>day</th>\n",
       "      <th>diff</th>\n",
       "      <th>pct_change</th>\n",
       "      <th>rolling</th>\n",
       "      <th>TG_wo_Trend</th>\n",
       "      <th>seasonal</th>\n",
       "      <th>residual</th>\n",
       "      <th>TG - 1days</th>\n",
       "      <th>TG - 2days</th>\n",
       "      <th>TG - 3days</th>\n",
       "    </tr>\n",
       "    <tr>\n",
       "      <th>DATE</th>\n",
       "      <th></th>\n",
       "      <th></th>\n",
       "      <th></th>\n",
       "      <th></th>\n",
       "      <th></th>\n",
       "      <th></th>\n",
       "      <th></th>\n",
       "      <th></th>\n",
       "      <th></th>\n",
       "      <th></th>\n",
       "      <th></th>\n",
       "      <th></th>\n",
       "      <th></th>\n",
       "      <th></th>\n",
       "      <th></th>\n",
       "    </tr>\n",
       "  </thead>\n",
       "  <tbody>\n",
       "    <tr>\n",
       "      <th>1877-01-29</th>\n",
       "      <td>127488</td>\n",
       "      <td>37.0</td>\n",
       "      <td>0</td>\n",
       "      <td>1</td>\n",
       "      <td>1877</td>\n",
       "      <td>29</td>\n",
       "      <td>28.0</td>\n",
       "      <td>3.111111</td>\n",
       "      <td>97.726027</td>\n",
       "      <td>-60.726027</td>\n",
       "      <td>-64.010320</td>\n",
       "      <td>3.284292</td>\n",
       "      <td>9.0</td>\n",
       "      <td>-45.0</td>\n",
       "      <td>-36.0</td>\n",
       "    </tr>\n",
       "    <tr>\n",
       "      <th>1877-01-30</th>\n",
       "      <td>127488</td>\n",
       "      <td>38.0</td>\n",
       "      <td>0</td>\n",
       "      <td>1</td>\n",
       "      <td>1877</td>\n",
       "      <td>30</td>\n",
       "      <td>1.0</td>\n",
       "      <td>0.027027</td>\n",
       "      <td>97.821918</td>\n",
       "      <td>-59.821918</td>\n",
       "      <td>-65.157626</td>\n",
       "      <td>5.335708</td>\n",
       "      <td>37.0</td>\n",
       "      <td>9.0</td>\n",
       "      <td>-45.0</td>\n",
       "    </tr>\n",
       "    <tr>\n",
       "      <th>1877-01-31</th>\n",
       "      <td>127488</td>\n",
       "      <td>24.0</td>\n",
       "      <td>0</td>\n",
       "      <td>1</td>\n",
       "      <td>1877</td>\n",
       "      <td>31</td>\n",
       "      <td>-14.0</td>\n",
       "      <td>-0.368421</td>\n",
       "      <td>97.920548</td>\n",
       "      <td>-73.920548</td>\n",
       "      <td>-67.535525</td>\n",
       "      <td>-6.385023</td>\n",
       "      <td>38.0</td>\n",
       "      <td>37.0</td>\n",
       "      <td>9.0</td>\n",
       "    </tr>\n",
       "    <tr>\n",
       "      <th>1877-02-01</th>\n",
       "      <td>127488</td>\n",
       "      <td>10.0</td>\n",
       "      <td>0</td>\n",
       "      <td>2</td>\n",
       "      <td>1877</td>\n",
       "      <td>1</td>\n",
       "      <td>-14.0</td>\n",
       "      <td>-0.583333</td>\n",
       "      <td>97.942466</td>\n",
       "      <td>-87.942466</td>\n",
       "      <td>-69.275799</td>\n",
       "      <td>-18.666667</td>\n",
       "      <td>24.0</td>\n",
       "      <td>38.0</td>\n",
       "      <td>37.0</td>\n",
       "    </tr>\n",
       "    <tr>\n",
       "      <th>1877-02-02</th>\n",
       "      <td>127488</td>\n",
       "      <td>7.0</td>\n",
       "      <td>0</td>\n",
       "      <td>2</td>\n",
       "      <td>1877</td>\n",
       "      <td>2</td>\n",
       "      <td>-3.0</td>\n",
       "      <td>-0.300000</td>\n",
       "      <td>97.939726</td>\n",
       "      <td>-90.939726</td>\n",
       "      <td>-69.941918</td>\n",
       "      <td>-20.997808</td>\n",
       "      <td>10.0</td>\n",
       "      <td>24.0</td>\n",
       "      <td>38.0</td>\n",
       "    </tr>\n",
       "  </tbody>\n",
       "</table>\n",
       "</div>"
      ],
      "text/plain": [
       "             SOUID    TG  Q_TG  month  year  day  diff  pct_change    rolling  \\\n",
       "DATE                                                                            \n",
       "1877-01-29  127488  37.0     0      1  1877   29  28.0    3.111111  97.726027   \n",
       "1877-01-30  127488  38.0     0      1  1877   30   1.0    0.027027  97.821918   \n",
       "1877-01-31  127488  24.0     0      1  1877   31 -14.0   -0.368421  97.920548   \n",
       "1877-02-01  127488  10.0     0      2  1877    1 -14.0   -0.583333  97.942466   \n",
       "1877-02-02  127488   7.0     0      2  1877    2  -3.0   -0.300000  97.939726   \n",
       "\n",
       "            TG_wo_Trend   seasonal   residual  TG - 1days  TG - 2days  \\\n",
       "DATE                                                                    \n",
       "1877-01-29   -60.726027 -64.010320   3.284292         9.0       -45.0   \n",
       "1877-01-30   -59.821918 -65.157626   5.335708        37.0         9.0   \n",
       "1877-01-31   -73.920548 -67.535525  -6.385023        38.0        37.0   \n",
       "1877-02-01   -87.942466 -69.275799 -18.666667        24.0        38.0   \n",
       "1877-02-02   -90.939726 -69.941918 -20.997808        10.0        24.0   \n",
       "\n",
       "            TG - 3days  \n",
       "DATE                    \n",
       "1877-01-29       -36.0  \n",
       "1877-01-30       -45.0  \n",
       "1877-01-31         9.0  \n",
       "1877-02-01        37.0  \n",
       "1877-02-02        38.0  "
      ]
     },
     "execution_count": 79,
     "metadata": {},
     "output_type": "execute_result"
    }
   ],
   "source": [
    "df.head(5)"
   ]
  },
  {
   "cell_type": "code",
   "execution_count": 80,
   "metadata": {},
   "outputs": [
    {
     "data": {
      "text/html": [
       "<div>\n",
       "<style scoped>\n",
       "    .dataframe tbody tr th:only-of-type {\n",
       "        vertical-align: middle;\n",
       "    }\n",
       "\n",
       "    .dataframe tbody tr th {\n",
       "        vertical-align: top;\n",
       "    }\n",
       "\n",
       "    .dataframe thead th {\n",
       "        text-align: right;\n",
       "    }\n",
       "</style>\n",
       "<table border=\"1\" class=\"dataframe\">\n",
       "  <thead>\n",
       "    <tr style=\"text-align: right;\">\n",
       "      <th></th>\n",
       "      <th>TG - 1days</th>\n",
       "      <th>TG - 2days</th>\n",
       "      <th>TG - 3days</th>\n",
       "    </tr>\n",
       "    <tr>\n",
       "      <th>DATE</th>\n",
       "      <th></th>\n",
       "      <th></th>\n",
       "      <th></th>\n",
       "    </tr>\n",
       "  </thead>\n",
       "  <tbody>\n",
       "    <tr>\n",
       "      <th>1877-01-29</th>\n",
       "      <td>9.0</td>\n",
       "      <td>-45.0</td>\n",
       "      <td>-36.0</td>\n",
       "    </tr>\n",
       "    <tr>\n",
       "      <th>1877-01-30</th>\n",
       "      <td>37.0</td>\n",
       "      <td>9.0</td>\n",
       "      <td>-45.0</td>\n",
       "    </tr>\n",
       "    <tr>\n",
       "      <th>1877-01-31</th>\n",
       "      <td>38.0</td>\n",
       "      <td>37.0</td>\n",
       "      <td>9.0</td>\n",
       "    </tr>\n",
       "    <tr>\n",
       "      <th>1877-02-01</th>\n",
       "      <td>24.0</td>\n",
       "      <td>38.0</td>\n",
       "      <td>37.0</td>\n",
       "    </tr>\n",
       "    <tr>\n",
       "      <th>1877-02-02</th>\n",
       "      <td>10.0</td>\n",
       "      <td>24.0</td>\n",
       "      <td>38.0</td>\n",
       "    </tr>\n",
       "  </tbody>\n",
       "</table>\n",
       "</div>"
      ],
      "text/plain": [
       "            TG - 1days  TG - 2days  TG - 3days\n",
       "DATE                                          \n",
       "1877-01-29         9.0       -45.0       -36.0\n",
       "1877-01-30        37.0         9.0       -45.0\n",
       "1877-01-31        38.0        37.0         9.0\n",
       "1877-02-01        24.0        38.0        37.0\n",
       "1877-02-02        10.0        24.0        38.0"
      ]
     },
     "execution_count": 80,
     "metadata": {},
     "output_type": "execute_result"
    }
   ],
   "source": [
    "X_train.head(5)"
   ]
  },
  {
   "cell_type": "code",
   "execution_count": 81,
   "metadata": {},
   "outputs": [
    {
     "data": {
      "text/plain": [
       "DATE\n",
       "2015-04-01    46.0\n",
       "2015-04-02    33.0\n",
       "2015-04-03    49.0\n",
       "2015-04-04    44.0\n",
       "2015-04-05    48.0\n",
       "Name: TG, dtype: float64"
      ]
     },
     "execution_count": 81,
     "metadata": {},
     "output_type": "execute_result"
    }
   ],
   "source": [
    "y_test.head(5)"
   ]
  },
  {
   "cell_type": "markdown",
   "metadata": {},
   "source": [
    "### VERSION 1: LINEAR REGRESSION\n",
    "    \n",
    "    Make X data with lags, y data with current value and fit with linear regression."
   ]
  },
  {
   "cell_type": "code",
   "execution_count": 82,
   "metadata": {},
   "outputs": [],
   "source": [
    "m_lr = LinearRegression()"
   ]
  },
  {
   "cell_type": "code",
   "execution_count": 83,
   "metadata": {},
   "outputs": [
    {
     "data": {
      "text/plain": [
       "LinearRegression()"
      ]
     },
     "execution_count": 83,
     "metadata": {},
     "output_type": "execute_result"
    }
   ],
   "source": [
    "m_lr.fit(X_train, y_train)"
   ]
  },
  {
   "cell_type": "code",
   "execution_count": 84,
   "metadata": {},
   "outputs": [],
   "source": [
    "ypred = m_lr.predict(X_test)"
   ]
  },
  {
   "cell_type": "code",
   "execution_count": 85,
   "metadata": {},
   "outputs": [
    {
     "data": {
      "text/plain": [
       "<matplotlib.legend.Legend at 0x1f51b558688>"
      ]
     },
     "execution_count": 85,
     "metadata": {},
     "output_type": "execute_result"
    },
    {
     "data": {
      "image/png": "[encoded data removed]",
      "text/plain": [
       "<Figure size 432x288 with 1 Axes>"
      ]
     },
     "metadata": {
      "needs_background": "light"
     },
     "output_type": "display_data"
    }
   ],
   "source": [
    "plt.plot(X_train['TG - 1days'].iloc[49000:]) # looks good so far\n",
    "plt.plot(X_test.index, ypred)\n",
    "#plt.plot(X_test, ar_pred,'-.')\n",
    "plt.legend(['Original Training Data', 'Future Pred'])#,'AR'])"
   ]
  },
  {
   "cell_type": "markdown",
   "metadata": {},
   "source": [
    "### Statsmodels Linear Autoregression"
   ]
  },
  {
   "cell_type": "code",
   "execution_count": 86,
   "metadata": {},
   "outputs": [
    {
     "data": {
      "text/plain": [
       "DATE\n",
       "2015-03-27    73.0\n",
       "2015-03-28    71.0\n",
       "2015-03-29    95.0\n",
       "2015-03-30    64.0\n",
       "2015-03-31    59.0\n",
       "Name: TG, dtype: float64"
      ]
     },
     "execution_count": 86,
     "metadata": {},
     "output_type": "execute_result"
    }
   ],
   "source": [
    "y_train.tail()"
   ]
  },
  {
   "cell_type": "code",
   "execution_count": 87,
   "metadata": {},
   "outputs": [
    {
     "data": {
      "text/plain": [
       "DATE\n",
       "2020-09-16    221.0\n",
       "2020-09-17    146.0\n",
       "2020-09-18    130.0\n",
       "2020-09-19    144.0\n",
       "2020-09-20    159.0\n",
       "Name: TG, dtype: float64"
      ]
     },
     "execution_count": 87,
     "metadata": {},
     "output_type": "execute_result"
    }
   ],
   "source": [
    "y_test.tail()"
   ]
  },
  {
   "cell_type": "code",
   "execution_count": 103,
   "metadata": {},
   "outputs": [
    {
     "name": "stdout",
     "output_type": "stream",
     "text": [
      "                            AutoReg Model Results                             \n",
      "==============================================================================\n",
      "Dep. Variable:                     TG   No. Observations:                50465\n",
      "Model:                     AutoReg(3)   Log Likelihood             -230360.281\n",
      "Method:               Conditional MLE   S.D. of innovations             23.245\n",
      "Date:                Fri, 20 Nov 2020   AIC                              6.292\n",
      "Time:                        15:30:40   BIC                              6.293\n",
      "Sample:                    02-01-1877   HQIC                             6.293\n",
      "                         - 03-31-2015                                         \n",
      "==============================================================================\n",
      "                 coef    std err          z      P>|z|      [0.025      0.975]\n",
      "------------------------------------------------------------------------------\n",
      "intercept      3.7724      0.163     23.191      0.000       3.454       4.091\n",
      "TG.L1          1.0076      0.004    229.244      0.000       0.999       1.016\n",
      "TG.L2         -0.2067      0.006    -33.272      0.000      -0.219      -0.195\n",
      "TG.L3          0.1586      0.004     36.095      0.000       0.150       0.167\n",
      "                                    Roots                                    \n",
      "=============================================================================\n",
      "                  Real          Imaginary           Modulus         Frequency\n",
      "-----------------------------------------------------------------------------\n",
      "AR.1            1.0375           -0.0000j            1.0375           -0.0000\n",
      "AR.2            0.1327           -2.4613j            2.4649           -0.2414\n",
      "AR.3            0.1327           +2.4613j            2.4649            0.2414\n",
      "-----------------------------------------------------------------------------\n"
     ]
    },
    {
     "name": "stderr",
     "output_type": "stream",
     "text": [
      "C:\\Users\\Affetheking\\anaconda3\\lib\\site-packages\\statsmodels\\tsa\\base\\tsa_model.py:162: ValueWarning: No frequency information was provided, so inferred frequency D will be used.\n",
      "  % freq, ValueWarning)\n"
     ]
    }
   ],
   "source": [
    "m = AutoReg(y_train, lags=3)\n",
    "\n",
    "res = m.fit()\n",
    "ar_pred = res.predict(start='2015-04-01', end='2020-09-20')\n",
    "\n",
    "print(res.summary())"
   ]
  },
  {
   "cell_type": "code",
   "execution_count": 104,
   "metadata": {},
   "outputs": [
    {
     "data": {
      "text/plain": [
       "2015-04-01   NaN\n",
       "2015-04-02   NaN\n",
       "2015-04-03   NaN\n",
       "2015-04-04   NaN\n",
       "2015-04-05   NaN\n",
       "              ..\n",
       "2020-09-16   NaN\n",
       "2020-09-17   NaN\n",
       "2020-09-18   NaN\n",
       "2020-09-19   NaN\n",
       "2020-09-20   NaN\n",
       "Freq: D, Length: 2000, dtype: float64"
      ]
     },
     "execution_count": 104,
     "metadata": {},
     "output_type": "execute_result"
    }
   ],
   "source": [
    "ar_pred"
   ]
  },
  {
   "cell_type": "code",
   "execution_count": 105,
   "metadata": {},
   "outputs": [
    {
     "data": {
      "text/plain": [
       "(intercept    3.772365\n",
       " TG.L1        1.007578\n",
       " TG.L2       -0.206688\n",
       " TG.L3        0.158646\n",
       " dtype: float64,\n",
       " array([ 1.0076191 , -0.20673969,  0.15865072]),\n",
       " 3.773259039846451)"
      ]
     },
     "execution_count": 105,
     "metadata": {},
     "output_type": "execute_result"
    }
   ],
   "source": [
    "res.params, m_lr.coef_, m_lr.intercept_ # almost identically to our own linear regression with lag"
   ]
  },
  {
   "cell_type": "markdown",
   "metadata": {},
   "source": [
    "## evaluation"
   ]
  },
  {
   "cell_type": "code",
   "execution_count": 106,
   "metadata": {},
   "outputs": [],
   "source": [
    "#first try:\n",
    "# MSE: 519.903509095533\n",
    "# MAE: 18.070234399714945\n",
    "#R2: 0.9099603475081572\n",
    "# RMSE: 22.801392700787662"
   ]
  },
  {
   "cell_type": "code",
   "execution_count": 107,
   "metadata": {},
   "outputs": [
    {
     "data": {
      "text/plain": [
       "493.2853956083539"
      ]
     },
     "execution_count": 107,
     "metadata": {},
     "output_type": "execute_result"
    }
   ],
   "source": [
    "# MSE\n",
    "mse = mean_squared_error(y_test, ypred)\n",
    "mse "
   ]
  },
  {
   "cell_type": "code",
   "execution_count": 108,
   "metadata": {},
   "outputs": [
    {
     "data": {
      "text/plain": [
       "17.604977231794507"
      ]
     },
     "execution_count": 108,
     "metadata": {},
     "output_type": "execute_result"
    }
   ],
   "source": [
    "# MAE\n",
    "mae = mean_absolute_error(y_test, ypred)\n",
    "mae"
   ]
  },
  {
   "cell_type": "code",
   "execution_count": 109,
   "metadata": {},
   "outputs": [
    {
     "data": {
      "text/plain": [
       "0.9145702138515168"
      ]
     },
     "execution_count": 109,
     "metadata": {},
     "output_type": "execute_result"
    }
   ],
   "source": [
    "#R2\n",
    "r2 = r2_score(y_test, ypred) # very good score id say, but we need to evaluate this.\n",
    "r2"
   ]
  },
  {
   "cell_type": "code",
   "execution_count": 110,
   "metadata": {},
   "outputs": [
    {
     "data": {
      "text/plain": [
       "22.210029167210788"
      ]
     },
     "execution_count": 110,
     "metadata": {},
     "output_type": "execute_result"
    }
   ],
   "source": [
    "# RMSE\n",
    "rmse = np.sqrt(mean_squared_error(y_test, ypred))\n",
    "rmse"
   ]
  },
  {
   "cell_type": "code",
   "execution_count": 111,
   "metadata": {},
   "outputs": [],
   "source": [
    "# RMSLE doesnt work because of negative values\n",
    "#rmsle = np.sqrt(mean_squared_log_error(y_test, ypred))\n",
    "#rmsle"
   ]
  },
  {
   "cell_type": "code",
   "execution_count": 112,
   "metadata": {},
   "outputs": [],
   "source": [
    "predictions = []\n",
    "for i in range(len(y_train), len(df)):\n",
    "    predictions.append(res.params[0] + \\\n",
    "                       sum(df.TG[i:i+1].values * res.params[:0:-1].values))  "
   ]
  },
  {
   "cell_type": "code",
   "execution_count": 113,
   "metadata": {},
   "outputs": [],
   "source": [
    "# with the line above we should have made prediction from the end of train to the end of the dataset"
   ]
  },
  {
   "cell_type": "code",
   "execution_count": 117,
   "metadata": {},
   "outputs": [
    {
     "data": {
      "text/plain": [
       "<matplotlib.legend.Legend at 0x1f51d3eb588>"
      ]
     },
     "execution_count": 117,
     "metadata": {},
     "output_type": "execute_result"
    },
    {
     "data": {
      "image/png": "[encoded data removed]",
      "text/plain": [
       "<Figure size 720x504 with 1 Axes>"
      ]
     },
     "metadata": {
      "needs_background": "light"
     },
     "output_type": "display_data"
    }
   ],
   "source": [
    "plt.figure(figsize=(10,7))\n",
    "plt.plot(y_train.iloc[49000:],label='original')\n",
    "#plt.plot(ar_pred, label = 'pred from train')\n",
    "#plt.plot(y_test.index,predictions, 'm',label = 'walk forward', linewidth = 2)\n",
    "plt.plot(y_test.index,ypred,'-.',label = 'pred from lin reg',linewidth = 2)\n",
    "\n",
    "\n",
    "plt.legend()"
   ]
  },
  {
   "cell_type": "code",
   "execution_count": 118,
   "metadata": {},
   "outputs": [
    {
     "data": {
      "image/png": "[encoded data removed]",
      "text/plain": [
       "<Figure size 432x288 with 1 Axes>"
      ]
     },
     "metadata": {
      "needs_background": "light"
     },
     "output_type": "display_data"
    },
    {
     "data": {
      "image/png": "[encoded data removed]",
      "text/plain": [
       "<Figure size 432x288 with 1 Axes>"
      ]
     },
     "metadata": {
      "needs_background": "light"
     },
     "output_type": "display_data"
    }
   ],
   "source": [
    "from statsmodels.graphics.tsaplots import plot_acf, plot_pacf\n",
    "\n",
    "\n",
    "plot_acf(pd.DataFrame(predictions));\n",
    "plot_pacf(pd.DataFrame(predictions));"
   ]
  },
  {
   "cell_type": "markdown",
   "metadata": {},
   "source": [
    "# cross validation"
   ]
  },
  {
   "cell_type": "code",
   "execution_count": 144,
   "metadata": {},
   "outputs": [],
   "source": [
    "ts_split = TimeSeriesSplit()"
   ]
  },
  {
   "cell_type": "code",
   "execution_count": 145,
   "metadata": {},
   "outputs": [],
   "source": [
    "#X_train is the years\n",
    "X_train = np.array(X_train).reshape(-1,1)\n",
    "X_test = np.array(X_test).reshape(-1,1)\n",
    "\n",
    "#y_train is the temperature\n",
    "y_train = np.array(y_train).reshape(-1,1)"
   ]
  },
  {
   "cell_type": "code",
   "execution_count": 146,
   "metadata": {},
   "outputs": [
    {
     "data": {
      "text/plain": [
       "((151395, 1), (6000, 1), (50465, 1))"
      ]
     },
     "execution_count": 146,
     "metadata": {},
     "output_type": "execute_result"
    }
   ],
   "source": [
    "X_train.shape, X_test.shape, y_train.shape"
   ]
  },
  {
   "cell_type": "code",
   "execution_count": 147,
   "metadata": {},
   "outputs": [
    {
     "data": {
      "text/plain": [
       "[(array([    0,     1,     2, ..., 25232, 25233, 25234]),\n",
       "  array([25235, 25236, 25237, ..., 50464, 50465, 50466])),\n",
       " (array([    0,     1,     2, ..., 50464, 50465, 50466]),\n",
       "  array([50467, 50468, 50469, ..., 75696, 75697, 75698])),\n",
       " (array([    0,     1,     2, ..., 75696, 75697, 75698]),\n",
       "  array([ 75699,  75700,  75701, ..., 100928, 100929, 100930])),\n",
       " (array([     0,      1,      2, ..., 100928, 100929, 100930]),\n",
       "  array([100931, 100932, 100933, ..., 126160, 126161, 126162])),\n",
       " (array([     0,      1,      2, ..., 126160, 126161, 126162]),\n",
       "  array([126163, 126164, 126165, ..., 151392, 151393, 151394]))]"
      ]
     },
     "execution_count": 147,
     "metadata": {},
     "output_type": "execute_result"
    }
   ],
   "source": [
    "list(ts_split.split(X_train))\n"
   ]
  },
  {
   "cell_type": "code",
   "execution_count": 148,
   "metadata": {},
   "outputs": [],
   "source": [
    "train_index, validation_index = list(ts_split.split(X_train))[0]"
   ]
  },
  {
   "cell_type": "code",
   "execution_count": 149,
   "metadata": {},
   "outputs": [
    {
     "data": {
      "text/plain": [
       "((25235,), (25232,))"
      ]
     },
     "execution_count": 149,
     "metadata": {},
     "output_type": "execute_result"
    }
   ],
   "source": [
    "train_index.shape, validation_index.shape"
   ]
  },
  {
   "cell_type": "code",
   "execution_count": 150,
   "metadata": {},
   "outputs": [
    {
     "name": "stdout",
     "output_type": "stream",
     "text": [
      "The data for training are between (-185.0, 279.0)\n"
     ]
    }
   ],
   "source": [
    "print(f'The data for training are between {X_train[train_index].min(),X_train[train_index].max()}')"
   ]
  },
  {
   "cell_type": "code",
   "execution_count": 151,
   "metadata": {},
   "outputs": [
    {
     "data": {
      "text/plain": [
       "array([[ -2.],\n",
       "       [-46.],\n",
       "       [-22.],\n",
       "       ...,\n",
       "       [-56.],\n",
       "       [-43.],\n",
       "       [-53.]])"
      ]
     },
     "execution_count": 151,
     "metadata": {},
     "output_type": "execute_result"
    }
   ],
   "source": [
    "X_train[validation_index]"
   ]
  },
  {
   "cell_type": "code",
   "execution_count": 153,
   "metadata": {},
   "outputs": [
    {
     "ename": "IndexError",
     "evalue": "index 50465 is out of bounds for axis 0 with size 50465",
     "output_type": "error",
     "traceback": [
      "\u001b[1;31m---------------------------------------------------------------------------\u001b[0m",
      "\u001b[1;31mIndexError\u001b[0m                                Traceback (most recent call last)",
      "\u001b[1;32m<ipython-input-153-01c16b2ebdd4>\u001b[0m in \u001b[0;36m<module>\u001b[1;34m\u001b[0m\n\u001b[1;32m----> 1\u001b[1;33m \u001b[0mypred\u001b[0m\u001b[1;33m.\u001b[0m\u001b[0mshape\u001b[0m\u001b[1;33m,\u001b[0m \u001b[0my_train\u001b[0m\u001b[1;33m[\u001b[0m\u001b[0mvalidation_index\u001b[0m\u001b[1;33m]\u001b[0m\u001b[1;33m.\u001b[0m\u001b[0mshape\u001b[0m\u001b[1;33m\u001b[0m\u001b[1;33m\u001b[0m\u001b[0m\n\u001b[0m",
      "\u001b[1;31mIndexError\u001b[0m: index 50465 is out of bounds for axis 0 with size 50465"
     ]
    }
   ],
   "source": [
    "ypred.shape, y_train[validation_index].shape"
   ]
  },
  {
   "cell_type": "code",
   "execution_count": 128,
   "metadata": {},
   "outputs": [
    {
     "ename": "IndexError",
     "evalue": "index 75699 is out of bounds for axis 0 with size 50465",
     "output_type": "error",
     "traceback": [
      "\u001b[1;31m---------------------------------------------------------------------------\u001b[0m",
      "\u001b[1;31mIndexError\u001b[0m                                Traceback (most recent call last)",
      "\u001b[1;32m<ipython-input-128-74db4ee77724>\u001b[0m in \u001b[0;36m<module>\u001b[1;34m\u001b[0m\n\u001b[0;32m      1\u001b[0m mape = sum(abs((y_train[validation_index] - ypred ) / \\\n\u001b[1;32m----> 2\u001b[1;33m                y_train[validation_index])) * 100 / \\\n\u001b[0m\u001b[0;32m      3\u001b[0m \u001b[0mlen\u001b[0m\u001b[1;33m(\u001b[0m\u001b[0my_train\u001b[0m\u001b[1;33m[\u001b[0m\u001b[0mvalidation_index\u001b[0m\u001b[1;33m]\u001b[0m\u001b[1;33m)\u001b[0m\u001b[1;33m\u001b[0m\u001b[1;33m\u001b[0m\u001b[0m\n\u001b[0;32m      4\u001b[0m \u001b[0mmape\u001b[0m\u001b[1;33m\u001b[0m\u001b[1;33m\u001b[0m\u001b[0m\n",
      "\u001b[1;31mIndexError\u001b[0m: index 75699 is out of bounds for axis 0 with size 50465"
     ]
    }
   ],
   "source": [
    "mape = sum(abs((y_train[validation_index] - ypred ) / \\\n",
    "               y_train[validation_index])) * 100 / \\\n",
    "len(y_train[validation_index])\n",
    "mape"
   ]
  },
  {
   "cell_type": "code",
   "execution_count": 129,
   "metadata": {},
   "outputs": [
    {
     "name": "stdout",
     "output_type": "stream",
     "text": [
      "\n",
      " The training period are the years: [-185.] to [279.]\n",
      "The validation (test) period are the years: [-159.] to [285.]\n"
     ]
    },
    {
     "ename": "IndexError",
     "evalue": "index 50465 is out of bounds for axis 0 with size 50465",
     "output_type": "error",
     "traceback": [
      "\u001b[1;31m---------------------------------------------------------------------------\u001b[0m",
      "\u001b[1;31mIndexError\u001b[0m                                Traceback (most recent call last)",
      "\u001b[1;32m<ipython-input-129-27673a140da0>\u001b[0m in \u001b[0;36m<module>\u001b[1;34m\u001b[0m\n\u001b[0;32m     10\u001b[0m     \u001b[1;31m# careful that you call the X_train but with the validation_index\u001b[0m\u001b[1;33m\u001b[0m\u001b[1;33m\u001b[0m\u001b[1;33m\u001b[0m\u001b[0m\n\u001b[0;32m     11\u001b[0m     \u001b[0mypred\u001b[0m \u001b[1;33m=\u001b[0m \u001b[0mmodel\u001b[0m\u001b[1;33m.\u001b[0m\u001b[0mpredict\u001b[0m\u001b[1;33m(\u001b[0m\u001b[0mX_train\u001b[0m\u001b[1;33m[\u001b[0m\u001b[0mvalidation_index\u001b[0m\u001b[1;33m]\u001b[0m\u001b[1;33m)\u001b[0m\u001b[1;33m\u001b[0m\u001b[1;33m\u001b[0m\u001b[0m\n\u001b[1;32m---> 12\u001b[1;33m     \u001b[0mmse\u001b[0m \u001b[1;33m=\u001b[0m \u001b[0mmean_squared_error\u001b[0m\u001b[1;33m(\u001b[0m\u001b[0my_train\u001b[0m\u001b[1;33m[\u001b[0m\u001b[0mvalidation_index\u001b[0m\u001b[1;33m]\u001b[0m\u001b[1;33m,\u001b[0m \u001b[0mypred\u001b[0m\u001b[1;33m)\u001b[0m\u001b[1;33m\u001b[0m\u001b[1;33m\u001b[0m\u001b[0m\n\u001b[0m\u001b[0;32m     13\u001b[0m     mape = sum(abs((y_train[validation_index] - ypred ) / \\\n\u001b[0;32m     14\u001b[0m                y_train[validation_index])) * 100 / \\\n",
      "\u001b[1;31mIndexError\u001b[0m: index 50465 is out of bounds for axis 0 with size 50465"
     ]
    }
   ],
   "source": [
    "mses = []\n",
    "\n",
    "for train_index, validation_index in ts_split.split(X_train):\n",
    "    print(f'\\n The training period are the years: {min(X_train[train_index])} to {max(X_train[train_index])}')\n",
    "    print(f'The validation (test) period are the years: {min(X_train[validation_index])} to {max(X_train[validation_index])}')\n",
    "\n",
    "    model = LinearRegression()\n",
    "    model.fit(X_train[train_index], y_train[train_index])\n",
    "    \n",
    "    # careful that you call the X_train but with the validation_index\n",
    "    ypred = model.predict(X_train[validation_index])\n",
    "    mse = mean_squared_error(y_train[validation_index], ypred)\n",
    "    mape = sum(abs((y_train[validation_index] - ypred ) / \\\n",
    "               y_train[validation_index])) * 100 / \\\n",
    "               len(y_train[validation_index])  \n",
    "    \n",
    "    print(f'The mean squared error for the validation set is: {mse}')\n",
    "    mses.append(mse)\n",
    "    print(f'The mean abs perc. error for the validation set is: {mape}')\n",
    "    mses.append(mape)"
   ]
  },
  {
   "cell_type": "code",
   "execution_count": null,
   "metadata": {},
   "outputs": [],
   "source": []
  }
 ],
 "metadata": {
  "kernelspec": {
   "display_name": "Python 3",
   "language": "python",
   "name": "python3"
  },
  "language_info": {
   "codemirror_mode": {
    "name": "ipython",
    "version": 3
   },
   "file_extension": ".py",
   "mimetype": "text/x-python",
   "name": "python",
   "nbconvert_exporter": "python",
   "pygments_lexer": "ipython3",
   "version": "3.7.6"
  }
 },
 "nbformat": 4,
 "nbformat_minor": 4
}
